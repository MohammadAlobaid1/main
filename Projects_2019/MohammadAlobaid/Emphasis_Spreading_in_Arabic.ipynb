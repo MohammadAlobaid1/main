{
  "nbformat": 4,
  "nbformat_minor": 0,
  "metadata": {
    "colab": {
      "name": "Emphasis_Spreading_in_Arabic.ipynb",
      "provenance": [],
      "collapsed_sections": []
    },
    "kernelspec": {
      "name": "python3",
      "display_name": "Python 3"
    }
  },
  "cells": [
    {
      "cell_type": "markdown",
      "metadata": {
        "id": "QDF20B8IOk42",
        "colab_type": "text"
      },
      "source": [
        "<div style=\"text-align: right\">\n",
        "    <i>\n",
        "        LIN 537: Computational Lingusitics 1 <br>\n",
        "        Fall 2019 <br>\n",
        "        Mohammad Alobaid\n",
        "    </i>\n",
        "</div>\n",
        "\n",
        "# 1.Computational Lingusitics 1 final project: Emphasis Spreading in Arabic\n",
        "\n",
        "\n",
        "In my project, I am providing the relavant tranducers for the  emphasis spreading in Palestine Arabic. Arabic has a phonological process that is very similar to tonal spreading in Mandarine where there is a high or low tone spread to the Tone Bearing Unit (TBU) in the domain of a phonological word. In Arabic, however, emphatic consonants /S̩ ð̩ T̩ D̩/, the triggering phonemes, affect the realizations of segments in either sides of the phonological word. This is described phonologically as \"biderctional\" spreading, meaning spreading is realized both to the left and the right of the triggering segment.  The examples below shows some words that are pharynglized due to being adjacent to the emphatic consonant (the dot under a segment refer to the triggerring consonant, the upper case refer to the segment acquiring the Retracted Tongue Root (RTR), the lower case refer to the segments being blocked) . "
      ]
    },
    {
      "cell_type": "markdown",
      "metadata": {
        "id": "W6E44hznOlBp",
        "colab_type": "text"
      },
      "source": [
        "\n",
        "\n",
        "<img src=\"https://drive.google.com/uc?id=1SGBesKJxj8tvlMaAJ4fWI6PKs0Afgcwy\" width=\"500\">"
      ]
    },
    {
      "cell_type": "markdown",
      "metadata": {
        "id": "cKGFJfDEtAfd",
        "colab_type": "text"
      },
      "source": [
        "<left>\n",
        "<img style\"float: right\"; src=\"https://drive.google.com/uc?id=1G_mzcIA_7ZLJpqBm_WxNEE1dkEz49v3t\" width=\"500\">\n",
        "<left>"
      ]
    },
    {
      "cell_type": "markdown",
      "metadata": {
        "id": "Fygs4lCsOlFK",
        "colab_type": "text"
      },
      "source": [
        "# 2.Processes\n",
        "**Rightward spreading**\n",
        "\n",
        "Spreading rightward (right to left) is more restricted than leftward (left to right) spreading. Opaque phoenemes in this language are / dʒ i ʃ j /; in other words, any segment that is [-back] and [+high]; these blocking segments operate when sprading direction to the right as in the examples provided:\n",
        "  \n",
        " 1. [ʕATsaan]  \"thirsty\"\n",
        " 2. [SABAAH]   \"morning\"\n",
        " 3. [Tiin-ak]  \"your mud\"\n",
        "\n",
        "**Leftward spreading**\n",
        "\n",
        "However, when the direction is leftward, spreading is transparent affecting all segments including the opaque phonemes. The relavant term used is a \"process-specific\", when some the phonological process that applies to a certain domain but not to the other. \n",
        "\n",
        "1. [ħAð̩ð̩] \"luck\"\n",
        "2. [NAʃAAT̩] \"energy\"\n",
        "3. [XAJJAAT̩] \"tailor\""
      ]
    },
    {
      "cell_type": "markdown",
      "metadata": {
        "id": "_unCl0-1OlM5",
        "colab_type": "text"
      },
      "source": [
        "**Biderectionality** \n",
        "\n",
        "The word  [ʕATsaan] shows the biderctionality process, spreading is transpent to the left but blocked to the right. Whenever a triggering phoneme occur in the middle of the word, spreading is assumed for both directions. The more examples below shows differnt relaizations of spreading both leftward and rightward:\n",
        "\n",
        "1. [ʔAT̩FAAL] \"children\"\n",
        "2. [TAMʃIIT̩A] \"hair styling\"\n",
        "\n",
        "\n"
      ]
    },
    {
      "cell_type": "code",
      "metadata": {
        "id": "lWbPuP3dwkD6",
        "colab_type": "code",
        "colab": {}
      },
      "source": [
        ""
      ],
      "execution_count": 0,
      "outputs": []
    },
    {
      "cell_type": "markdown",
      "metadata": {
        "id": "0UQUKlsYqUCU",
        "colab_type": "text"
      },
      "source": [
        "# 3. Encoding\n",
        "\n",
        "Tranasduction to capture emphasis spreading require two machines, one which reads the string from the left to the right and the other from the right to the left. The tranducers provided in (1) and (2) encode the word /ʕaTʃaan/ →  [ʕATʃaan].\n",
        " <center>\n",
        "<img src=\"https://drive.google.com/uc?id=1zpTbMldhRnr5Dp8dgKcTirvntBTAf8Hd\" width=\"500\">\n",
        "\n",
        "<i>Figure 1 : Right Supsequential Mapping of the Word [ʕATʃaan]  </i>\n",
        "<center>\n",
        "\n",
        "</center> \n",
        "<img src=\"https://drive.google.com/uc?id=1KQ6B8rJ_Vs4gK51N6wxkfKcbH4M9EN1u\" width=\"500\">\n",
        "\n",
        "\n",
        "<i>Figure 2 : Left Supsequential Mapping of the Word [ʕATʃaan]  </i>\n",
        "</center>\n",
        "\n",
        "However, for the sake of the conciseness, it is deemed necessary to   encode the phonemes as follow:\n",
        "\n",
        "1. [T] refer to the trigger.\n",
        "2. [u] refer to the segment that undergo spreading but is not yet pharyngealized.\n",
        "3. [U] refer to the segment being pharyngalized. \n",
        "4. [b] refer to the opaque phoneme or the blocker. \n",
        "5. [B] refer to the opaque phoneme being pharyngealized. \n",
        "\n",
        " \n",
        "\n"
      ]
    },
    {
      "cell_type": "markdown",
      "metadata": {
        "id": "TsWItjNGfdsJ",
        "colab_type": "text"
      },
      "source": [
        "# 4. Compuatational Analysis\n",
        "Encoding in the previous section serve to forming an underlying structure that  encode all segments instead of structuring individual machine for each word.The following two machines read the strings from left to right and right to left, respectively. \n",
        "\n",
        " <center>\n",
        "<img src=\"https://drive.google.com/uc?id=1zZ5uRoQCNnDo0PTRHsICuSVvZNPNwxmo\" width=\"480\">\n",
        "\n",
        "<i>Figure 3 : Right Supsequential Mapping  </i>\n",
        "<center>\n",
        "\n",
        "</center> \n",
        "<img src=\"https://drive.google.com/uc?id=1pDt2Th2dA-8nbf1Ba_we7_Q8xqJNqhxb\" width=\"570\">\n",
        "\n",
        "\n",
        "<i>Figure 4 : Left Supsequential Mapping   </i>\n",
        "</center>\n",
        "\n",
        "The rightward tranducer read the alphabet and when it reads emphatic consonant, it moves to state 2 and loops the rest of the segments as pharynglized in state 2. However, when it reads a blocker it return to state 1 and read the rest of the strings as depharyngelaized. \n",
        "\n",
        "However, the rightward tranducer will not capture the pattern /uuTuuu/ → [UUTUUU], instead it will read the string as [uuTUUU] which does not corrspond to the surface form. \n",
        "\n",
        "Here we need to intruduce the leftward tranducer. It start at state 2 and loops over the strings and whenever it reads a trigger it moves to state 1 and loop the rest of the string as pharyngealized in the same state. When this is done, the two machine captures the surface and the string is left and right supsequential /uuTuuu/ → [UUTUUU]. "
      ]
    },
    {
      "cell_type": "markdown",
      "metadata": {
        "id": "zLfBX7X0p-Rv",
        "colab_type": "text"
      },
      "source": [
        "# 5. Python code\n",
        "\n",
        "The tranducers above can be captured in several ways, but what we will be using is the Classes. The tranducers can be also encoded by using dictionaries, but we are instead using classes because they are more effeicint."
      ]
    },
    {
      "cell_type": "code",
      "metadata": {
        "id": "nRWuhrFtp78k",
        "colab_type": "code",
        "colab": {}
      },
      "source": [
        "class FSA(object):\n",
        "    \"\"\" A class implementing finite state transducers (FSTs). \"\"\"\n",
        "    \n",
        "    def __init__(self, states, initial, final, transitions):\n",
        "        \"\"\" Initializes attributes of FST. \"\"\"\n",
        "        self.states = states\n",
        "        self.initial = initial\n",
        "        self.final = final\n",
        "        self.transitions = transitions\n",
        "        \n",
        "    def map_string(self, string):\n",
        "        \"\"\" Method reading the input string and outputting\n",
        "            the output string.\n",
        "            \n",
        "            Arguments:\n",
        "            -- string (str): the input string.\n",
        "            \n",
        "            Outputs: \n",
        "            -- str: the output string. (None in case if no\n",
        "                    such string can be built.)\n",
        "        \"\"\"\n",
        "        new_string = \"\"\n",
        "        current_state = self.initial\n",
        "        \n",
        "        for s in string:\n",
        "            go_to = self.read_symbol(current_state, s)\n",
        "            new_string += go_to[0]\n",
        "            print(go_to)\n",
        "            current_state = go_to[1]\n",
        "            print()\n",
        "        if current_state in self.final:\n",
        "            return new_string\n",
        "        raise TypeError(\"Such string ends in a non-final \"\\\n",
        "                        \"state.\")\n",
        "        \n",
        "    def read_symbol(self, state_in, symbol):\n",
        "           \n",
        "        \"\"\" Method that reads the symbol from the state state_in\n",
        "            and outputs the output symbol and the corresponding \n",
        "            transition.\n",
        "            \n",
        "            Arguments:\n",
        "            -- state_in (int): the value of the current state;\n",
        "            -- symbol (str): the input symbol.\n",
        "            \n",
        "            Outputs:\n",
        "            -- str: the output symbol;\n",
        "            -- int: the value of the state where the output symbol\n",
        "                    leads from the current one.\n",
        "        \"\"\"\n",
        "        \n",
        "        for tr in self.transitions:\n",
        "            if state_in == tr[0] and symbol == tr[1]:\n",
        "                #print(state_in)\n",
        "                return tr[2], tr[3]\n",
        "               # print(state_in)\n",
        "        raise ValueError(\"Transition with the input symbol\",\n",
        "                         symbol, \"from the state\", state_in, \n",
        "                         \"is not found.\")"
      ],
      "execution_count": 0,
      "outputs": []
    },
    {
      "cell_type": "code",
      "metadata": {
        "id": "WWYXnhfnuEUC",
        "colab_type": "code",
        "colab": {}
      },
      "source": [
        "states = [1, 2]# read from left to right\n",
        "initial = 1\n",
        "final = [1, 2]#\n",
        "transitions = [\n",
        "    [1, \"T\", \"T\", 2],\n",
        "    [2, \"T\", \"T\", 2],\n",
        "    [2, \"u\", \"U\", 2],\n",
        "    [2, \"b\", \"b\", 1],\n",
        "    [1, \"b\", \"b\", 1],\n",
        "    [1, \"u\", \"u\", 1],\n",
        "    [1, \"U\", \"U\", 2],#\n",
        "    [2, \"U\", \"U\", 2],#\n",
        "    [1, \"B\", \"B\", 2],#\n",
        "    [2, \"B\", \"B\", 2] #\n",
        "    \n",
        "]\n",
        "\n",
        "fsa_lr = FSA(states, initial, final, transitions)"
      ],
      "execution_count": 0,
      "outputs": []
    },
    {
      "cell_type": "code",
      "metadata": {
        "id": "_LwRyZmCuKFV",
        "colab_type": "code",
        "colab": {}
      },
      "source": [
        "states = [1, 2]#second machine 2\n",
        "initial = 2\n",
        "final = [1, 2]#\n",
        "transitions = [\n",
        "    [2, \"u\", \"u\", 2],\n",
        "    [2, \"b\", \"b\", 2],\n",
        "    [2, \"T\", \"T\", 1],\n",
        "    [1, \"T\", \"T\", 1],\n",
        "    [1, \"u\", \"U\", 1],\n",
        "    [1, \"b\", \"B\", 1],\n",
        "    [1, \"U\", \"U\", 1],\n",
        "    [2, \"U\", \"U\", 2],\n",
        "    [2, \"B\", \"B\", 2],#\n",
        "    [1, \"B\", \"B\", 2] #\n",
        "]\n",
        "\n",
        "fsa_rl = FSA(states, initial, final, transitions)"
      ],
      "execution_count": 0,
      "outputs": []
    },
    {
      "cell_type": "code",
      "metadata": {
        "id": "jjwGC0tRuOFR",
        "colab_type": "code",
        "colab": {}
      },
      "source": [
        "def spread (string, tr_lr,tr_rl):\n",
        "  print(\"Original:\", string)\n",
        "  spread_lr = tr_lr.map_string(string)\n",
        "  print(\"Spread L->R:\", spread_lr)\n",
        "  reversed=spread_lr[::-1]\n",
        "  print(\"Reversed:\", reversed)\n",
        "  spread_lr_reveresed = tr_rl.map_string(reversed)\n",
        "  print(\"Spread R->L, reversed:\", spread_lr_reveresed)\n",
        "  spreading_string = spread_lr_reveresed[::-1]\n",
        "  print(\"Final:\", spreading_string)\n",
        "  return spreading_string"
      ],
      "execution_count": 0,
      "outputs": []
    },
    {
      "cell_type": "code",
      "metadata": {
        "id": "URJLj8I3uRE4",
        "colab_type": "code",
        "outputId": "73cdf875-b0a9-4d4d-df0d-74917856411f",
        "colab": {
          "base_uri": "https://localhost:8080/",
          "height": 722
        }
      },
      "source": [
        "spread(\"uubTTbuuu\", fsa_lr, fsa_rl)"
      ],
      "execution_count": 10,
      "outputs": [
        {
          "output_type": "stream",
          "text": [
            "Original: uubTTbuuu\n",
            "('u', 1)\n",
            "\n",
            "('u', 1)\n",
            "\n",
            "('b', 1)\n",
            "\n",
            "('T', 2)\n",
            "\n",
            "('T', 2)\n",
            "\n",
            "('b', 1)\n",
            "\n",
            "('u', 1)\n",
            "\n",
            "('u', 1)\n",
            "\n",
            "('u', 1)\n",
            "\n",
            "Spread L->R: uubTTbuuu\n",
            "Reversed: uuubTTbuu\n",
            "('u', 2)\n",
            "\n",
            "('u', 2)\n",
            "\n",
            "('u', 2)\n",
            "\n",
            "('b', 2)\n",
            "\n",
            "('T', 1)\n",
            "\n",
            "('T', 1)\n",
            "\n",
            "('B', 1)\n",
            "\n",
            "('U', 1)\n",
            "\n",
            "('U', 1)\n",
            "\n",
            "Spread R->L, reversed: uuubTTBUU\n",
            "Final: UUBTTbuuu\n"
          ],
          "name": "stdout"
        },
        {
          "output_type": "execute_result",
          "data": {
            "text/plain": [
              "'UUBTTbuuu'"
            ]
          },
          "metadata": {
            "tags": []
          },
          "execution_count": 10
        }
      ]
    },
    {
      "cell_type": "markdown",
      "metadata": {
        "id": "t50qFK9Ay94M",
        "colab_type": "text"
      },
      "source": [
        "The above code map the two tranducers  with the underlying alphabet. However, we can expand the transduction to include mapping from the underlying to the surface form. In order to do so we encode the string to the underlying alphabet and then decode it to the surface form.  "
      ]
    },
    {
      "cell_type": "code",
      "metadata": {
        "id": "LVf8KdeFJNSQ",
        "colab_type": "code",
        "colab": {}
      },
      "source": [
        "\n",
        "mapping = {'ˀ':'ʔ','a':'A','u':'U','i':'I','ˤ':'ʕ','b':'B','f':'F','w':'W','m':'M','ð':'ð','θ':'θ','s':'S','z':'Z','t':'T','d':'D',\n",
        "           'n':'N','r':'R','l':'L','j':'J','d͡ʒ':'d͡ʒ̩','k':'K','x':'X','q':'Q','h':'H','ʁ':'ʁ̩','ħ':'ħ̩','ʃ':'ʃ̩','s̩':'S̩', 't̩':'T̩' \n",
        "           ,'ð':'ð̩', 'd̩':'D̩',\n",
        "\n",
        "} \n",
        "#list of triggers, pharngealized consonants, non-pharyngealized consonants, blockers\n",
        "T = ['ð', 'S', 'T', 'D']\n",
        "\n",
        "U = ['ʔ','A','U','I','ʕ','B','F','W','M','θ','S','Z','D','N',\n",
        "     'R','L','J','d͡ʒ̩','K','X','Q','H','ʁ̩','ħ̩','ʃ̩']\n",
        "\n",
        "u = ['ˀ','a','u','ˤ','b','f','w','m','θ','s','z','t','d',\n",
        "           'n','r','l','k','x','q','h','ʁ','ħ']\n",
        "\n",
        "b = ['i', 'ʃ', 'd͡ʒ','j']"
      ],
      "execution_count": 0,
      "outputs": []
    },
    {
      "cell_type": "code",
      "metadata": {
        "id": "b4O0DE2Up7La",
        "colab_type": "code",
        "colab": {}
      },
      "source": [
        "\n",
        "def encode (words, U,u,T,b):\n",
        "  encode = \"\"\n",
        "  for i in words:\n",
        "    if i in U:\n",
        "      encode+= \"U\"\n",
        "    if i in u:\n",
        "      encode += \"u\"\n",
        "    if i in T:\n",
        "      encode += \"T\"\n",
        "    elif i in b:\n",
        "      encode += \"b\"\n",
        "  return encode"
      ],
      "execution_count": 0,
      "outputs": []
    },
    {
      "cell_type": "code",
      "metadata": {
        "id": "atm9YOQKx7AM",
        "colab_type": "code",
        "colab": {}
      },
      "source": [
        "def decode (string,str_enc_before,str_enc_after,mapping):\n",
        "  new = \"\"\n",
        "  for i in range(len(string)):\n",
        "    if str_enc_before[i] == str_enc_after[i]:\n",
        "      new += string[i]\n",
        "    else:\n",
        "      new += mapping[string[i]]\n",
        "  return new"
      ],
      "execution_count": 0,
      "outputs": []
    },
    {
      "cell_type": "code",
      "metadata": {
        "id": "BK0LsECh4M96",
        "colab_type": "code",
        "colab": {
          "base_uri": "https://localhost:8080/",
          "height": 1000
        },
        "outputId": "4b903eb8-46c0-4d79-96db-f11f7008d0e9"
      },
      "source": [
        "s = encode('ˤaTfaal',U,u,T,b)\n",
        "ss = spread(s,fsa_lr, fsa_rl)\n",
        "\n",
        "decode('ˤaTfaal',encode('ˤaTfaal',U,u,T,b),spread(ss, fsa_lr, fsa_rl),mapping )"
      ],
      "execution_count": 22,
      "outputs": [
        {
          "output_type": "stream",
          "text": [
            "Original: uuTuuuu\n",
            "('u', 1)\n",
            "\n",
            "('u', 1)\n",
            "\n",
            "('T', 2)\n",
            "\n",
            "('U', 2)\n",
            "\n",
            "('U', 2)\n",
            "\n",
            "('U', 2)\n",
            "\n",
            "('U', 2)\n",
            "\n",
            "Spread L->R: uuTUUUU\n",
            "Reversed: UUUUTuu\n",
            "('U', 2)\n",
            "\n",
            "('U', 2)\n",
            "\n",
            "('U', 2)\n",
            "\n",
            "('U', 2)\n",
            "\n",
            "('T', 1)\n",
            "\n",
            "('U', 1)\n",
            "\n",
            "('U', 1)\n",
            "\n",
            "Spread R->L, reversed: UUUUTUU\n",
            "Final: UUTUUUU\n",
            "Original: UUTUUUU\n",
            "('U', 2)\n",
            "\n",
            "('U', 2)\n",
            "\n",
            "('T', 2)\n",
            "\n",
            "('U', 2)\n",
            "\n",
            "('U', 2)\n",
            "\n",
            "('U', 2)\n",
            "\n",
            "('U', 2)\n",
            "\n",
            "Spread L->R: UUTUUUU\n",
            "Reversed: UUUUTUU\n",
            "('U', 2)\n",
            "\n",
            "('U', 2)\n",
            "\n",
            "('U', 2)\n",
            "\n",
            "('U', 2)\n",
            "\n",
            "('T', 1)\n",
            "\n",
            "('U', 1)\n",
            "\n",
            "('U', 1)\n",
            "\n",
            "Spread R->L, reversed: UUUUTUU\n",
            "Final: UUTUUUU\n"
          ],
          "name": "stdout"
        },
        {
          "output_type": "execute_result",
          "data": {
            "text/plain": [
              "'ʕATFAAL'"
            ]
          },
          "metadata": {
            "tags": []
          },
          "execution_count": 22
        }
      ]
    },
    {
      "cell_type": "markdown",
      "metadata": {
        "id": "-WZKpd8rvvUd",
        "colab_type": "text"
      },
      "source": [
        "# 6. Further Processes \n",
        "\n",
        "The code above capture the underlying structure of emphasis spreading when there is a blocker and a triggering phoneme.  However,other related processes to emphasis spreading are remain to be seen. For example, how do we represent the gaminataion process, epenthatic vowels, assimilation, optionality, emphasis spreading gradiency and  the different represenations of vowel qulaity in open and closed syllables. Coding the machines that represents all the above will be enourmous and at the same time fundamental. "
      ]
    }
  ]
}