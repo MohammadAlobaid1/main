{
  "nbformat": 4,
  "nbformat_minor": 0,
  "metadata": {
    "colab": {
      "name": "Final.ipynb",
      "provenance": [],
      "collapsed_sections": []
    },
    "kernelspec": {
      "name": "python3",
      "display_name": "Python 3"
    }
  },
  "cells": [
    {
      "cell_type": "markdown",
      "metadata": {
        "id": "2y_lek9WOW7Y",
        "colab_type": "text"
      },
      "source": [
        "# Binding Theory #\n",
        "\n",
        "principle A: an **anaphor** must be bound within its local domain D\n",
        "\n",
        "principle B: a **pronoun** must be free within its local domain D\n",
        "\n",
        "principle C: an **r-expression** must be free\n",
        "\n",
        "## purpose: principle A ##\n",
        "\n",
        "Binding relation:\n",
        "1.   check c-command\n",
        "2.   check coindexation\n",
        "\n"
      ]
    },
    {
      "cell_type": "code",
      "metadata": {
        "id": "wOreGOWNFbr7",
        "colab_type": "code",
        "outputId": "6aa89df7-33eb-4983-d2bc-f1fba4a22513",
        "colab": {
          "base_uri": "https://localhost:8080/",
          "height": 266
        }
      },
      "source": [
        "import nltk\n",
        "import re\n",
        "from nltk import pos_tag\n",
        "nltk.download('averaged_perceptron_tagger')\n",
        "from nltk.tree import *\n",
        "from nltk import Nonterminal, nonterminals, Production, CFG\n",
        "!pip install git+https://github.com/emilmont/pyStatParser\n",
        "from stat_parser import Parser"
      ],
      "execution_count": 0,
      "outputs": [
        {
          "output_type": "stream",
          "text": [
            "[nltk_data] Downloading package averaged_perceptron_tagger to\n",
            "[nltk_data]     /root/nltk_data...\n",
            "[nltk_data]   Package averaged_perceptron_tagger is already up-to-\n",
            "[nltk_data]       date!\n",
            "Collecting git+https://github.com/emilmont/pyStatParser\n",
            "  Cloning https://github.com/emilmont/pyStatParser to /tmp/pip-req-build-x_xqy7ze\n",
            "  Running command git clone -q https://github.com/emilmont/pyStatParser /tmp/pip-req-build-x_xqy7ze\n",
            "Requirement already satisfied (use --upgrade to upgrade): pyStatParser==0.0.1 from git+https://github.com/emilmont/pyStatParser in /usr/local/lib/python3.6/dist-packages\n",
            "Building wheels for collected packages: pyStatParser\n",
            "  Building wheel for pyStatParser (setup.py) ... \u001b[?25l\u001b[?25hdone\n",
            "  Created wheel for pyStatParser: filename=pyStatParser-0.0.1-cp36-none-any.whl size=720546 sha256=e8c7361176d7d25e7a10b37c2c62d0fb23e5383823839dc8131938e6d2c57793\n",
            "  Stored in directory: /tmp/pip-ephem-wheel-cache-tdriaeqr/wheels/bd/8b/c5/49a6cdbdd3b046c25475a132c1b7a0be3cdd2b3562d01becdd\n",
            "Successfully built pyStatParser\n"
          ],
          "name": "stdout"
        }
      ]
    },
    {
      "cell_type": "code",
      "metadata": {
        "id": "H-C8ujzvG1jd",
        "colab_type": "code",
        "outputId": "94885d68-6d20-4d9c-812a-8466a6aad8e3",
        "colab": {
          "base_uri": "https://localhost:8080/",
          "height": 283
        }
      },
      "source": [
        "from stat_parser import Parser\n",
        "parser = Parser()\n",
        "example = \"How can the net amount of entropy of the universe be massively decreased?\"\n",
        "tree = parser.parse(example)\n",
        "print (tree)\n",
        "print (tree.treepositions())"
      ],
      "execution_count": 0,
      "outputs": [
        {
          "output_type": "stream",
          "text": [
            "(SBARQ\n",
            "  (WHADVP (WRB how))\n",
            "  (SQ\n",
            "    (MD can)\n",
            "    (NP\n",
            "      (NP (DT the) (JJ net) (NN amount))\n",
            "      (PP\n",
            "        (IN of)\n",
            "        (NP\n",
            "          (NP (NNS entropy))\n",
            "          (PP (IN of) (NP (DT the) (NN universe))))))\n",
            "    (VP (VB be) (ADJP (RB massively) (VBN decreased))))\n",
            "  (. ?))\n",
            "[(), (0,), (0, 0), (0, 0, 0), (1,), (1, 0), (1, 0, 0), (1, 1), (1, 1, 0), (1, 1, 0, 0), (1, 1, 0, 0, 0), (1, 1, 0, 1), (1, 1, 0, 1, 0), (1, 1, 0, 2), (1, 1, 0, 2, 0), (1, 1, 1), (1, 1, 1, 0), (1, 1, 1, 0, 0), (1, 1, 1, 1), (1, 1, 1, 1, 0), (1, 1, 1, 1, 0, 0), (1, 1, 1, 1, 0, 0, 0), (1, 1, 1, 1, 1), (1, 1, 1, 1, 1, 0), (1, 1, 1, 1, 1, 0, 0), (1, 1, 1, 1, 1, 1), (1, 1, 1, 1, 1, 1, 0), (1, 1, 1, 1, 1, 1, 0, 0), (1, 1, 1, 1, 1, 1, 1), (1, 1, 1, 1, 1, 1, 1, 0), (1, 2), (1, 2, 0), (1, 2, 0, 0), (1, 2, 1), (1, 2, 1, 0), (1, 2, 1, 0, 0), (1, 2, 1, 1), (1, 2, 1, 1, 0), (2,), (2, 0)]\n"
          ],
          "name": "stdout"
        }
      ]
    },
    {
      "cell_type": "code",
      "metadata": {
        "colab_type": "code",
        "id": "P369KDo0HoZb",
        "colab": {}
      },
      "source": [
        "def dominate(tree, node1, node2):\n",
        "  for i in tree.treepositions():\n",
        "    if tree[i] == node1:\n",
        "      i_node1 = i[:-1]\n",
        "    if tree[i] == node2:\n",
        "      i_node2 = i[:-1]\n",
        "\n",
        "  if i_node2 in i_node1:\n",
        "    return True\n",
        "  else:\n",
        "    return False\n",
        "\n",
        "def parent_of(tree, node1, node2):\n",
        "  for i in tree.treepositions():\n",
        "   if tree[i] == node1:\n",
        "      i_node1 = i[:-1]\n",
        "   if tree[i] == node2:\n",
        "      i_node2 = i[:-1]\n",
        "  \n",
        "  if i_node1[:] == i_node2[:-1]:\n",
        "    return True\n",
        "  else:\n",
        "    return False\n",
        "\n",
        "def sibling_with(tree, node1, node2):\n",
        "  for i in tree.treepositions():\n",
        "   if tree[i] == node1:\n",
        "      i_node1 = i[:-1]\n",
        "   if tree[i] == node2:\n",
        "      i_node2 = i[:-1]\n",
        "\n",
        "  if i_node1[:-1] == i_node2[:-1]:\n",
        "    return True\n",
        "  else:\n",
        "    return False"
      ],
      "execution_count": 0,
      "outputs": []
    },
    {
      "cell_type": "code",
      "metadata": {
        "id": "OmEZuAW6f6WK",
        "colab_type": "code",
        "colab": {}
      },
      "source": [
        "def c_command(tree, node1, node2):\n",
        "  for i in tree.treepositions():\n",
        "    if tree[i] == node1:\n",
        "      i_node1 = i[:-1]\n",
        "    if tree[i] == node2:\n",
        "      i_node2 = i[:-1]\n",
        "      \n",
        "  diff = (len(i_node2) - len(i_node1))\n",
        "  if sibling_with(tree, node1, node2) and i_node1 != i_node2:\n",
        "    return True\n",
        "  elif diff > 0 and i_node1[-1] != i_node2[-(diff)]:\n",
        "    return True\n",
        "  else:\n",
        "    return False               "
      ],
      "execution_count": 0,
      "outputs": []
    },
    {
      "cell_type": "code",
      "metadata": {
        "id": "oY0xRmTRWvMr",
        "colab_type": "code",
        "outputId": "5f5aa8d5-2c70-489f-8505-44e95f9a30ac",
        "colab": {
          "base_uri": "https://localhost:8080/",
          "height": 308
        }
      },
      "source": [
        "tree = parser.parse(\"He looked at himself in the mirror\")\n",
        "c_command(tree, \"He\", \"himself\")"
      ],
      "execution_count": 0,
      "outputs": [
        {
          "output_type": "error",
          "ename": "UnboundLocalError",
          "evalue": "ignored",
          "traceback": [
            "\u001b[0;31m---------------------------------------------------------------------------\u001b[0m",
            "\u001b[0;31mUnboundLocalError\u001b[0m                         Traceback (most recent call last)",
            "\u001b[0;32m<ipython-input-26-a68143279081>\u001b[0m in \u001b[0;36m<module>\u001b[0;34m()\u001b[0m\n\u001b[1;32m      1\u001b[0m \u001b[0mtree\u001b[0m \u001b[0;34m=\u001b[0m \u001b[0mparser\u001b[0m\u001b[0;34m.\u001b[0m\u001b[0mparse\u001b[0m\u001b[0;34m(\u001b[0m\u001b[0;34m\"He looked at himself in the mirror\"\u001b[0m\u001b[0;34m)\u001b[0m\u001b[0;34m\u001b[0m\u001b[0;34m\u001b[0m\u001b[0m\n\u001b[0;32m----> 2\u001b[0;31m \u001b[0mc_command\u001b[0m\u001b[0;34m(\u001b[0m\u001b[0mtree\u001b[0m\u001b[0;34m,\u001b[0m \u001b[0;34m\"He\"\u001b[0m\u001b[0;34m,\u001b[0m \u001b[0;34m\"himself\"\u001b[0m\u001b[0;34m)\u001b[0m\u001b[0;34m\u001b[0m\u001b[0;34m\u001b[0m\u001b[0m\n\u001b[0m",
            "\u001b[0;32m<ipython-input-25-ddb6dfdda22b>\u001b[0m in \u001b[0;36mc_command\u001b[0;34m(tree, node1, node2)\u001b[0m\n\u001b[1;32m      6\u001b[0m       \u001b[0mi_node2\u001b[0m \u001b[0;34m=\u001b[0m \u001b[0mi\u001b[0m\u001b[0;34m[\u001b[0m\u001b[0;34m:\u001b[0m\u001b[0;34m-\u001b[0m\u001b[0;36m1\u001b[0m\u001b[0;34m]\u001b[0m\u001b[0;34m\u001b[0m\u001b[0;34m\u001b[0m\u001b[0m\n\u001b[1;32m      7\u001b[0m \u001b[0;34m\u001b[0m\u001b[0m\n\u001b[0;32m----> 8\u001b[0;31m   \u001b[0mdiff\u001b[0m \u001b[0;34m=\u001b[0m \u001b[0;34m(\u001b[0m\u001b[0mlen\u001b[0m\u001b[0;34m(\u001b[0m\u001b[0mi_node2\u001b[0m\u001b[0;34m)\u001b[0m \u001b[0;34m-\u001b[0m \u001b[0mlen\u001b[0m\u001b[0;34m(\u001b[0m\u001b[0mi_node1\u001b[0m\u001b[0;34m)\u001b[0m\u001b[0;34m)\u001b[0m\u001b[0;34m\u001b[0m\u001b[0;34m\u001b[0m\u001b[0m\n\u001b[0m\u001b[1;32m      9\u001b[0m   \u001b[0;32mif\u001b[0m \u001b[0msibling_with\u001b[0m\u001b[0;34m(\u001b[0m\u001b[0mtree\u001b[0m\u001b[0;34m,\u001b[0m \u001b[0mnode1\u001b[0m\u001b[0;34m,\u001b[0m \u001b[0mnode2\u001b[0m\u001b[0;34m)\u001b[0m \u001b[0;32mand\u001b[0m \u001b[0mi_node1\u001b[0m \u001b[0;34m!=\u001b[0m \u001b[0mi_node2\u001b[0m\u001b[0;34m:\u001b[0m\u001b[0;34m\u001b[0m\u001b[0;34m\u001b[0m\u001b[0m\n\u001b[1;32m     10\u001b[0m     \u001b[0;32mreturn\u001b[0m \u001b[0;32mTrue\u001b[0m\u001b[0;34m\u001b[0m\u001b[0;34m\u001b[0m\u001b[0m\n",
            "\u001b[0;31mUnboundLocalError\u001b[0m: local variable 'i_node1' referenced before assignment"
          ]
        }
      ]
    },
    {
      "cell_type": "code",
      "metadata": {
        "id": "-X610SNtPlZb",
        "colab_type": "code",
        "colab": {}
      },
      "source": [
        "def binding_a(text):\n",
        "  split_text = text.lower().split()\n",
        "  tagged = pos_tag(split_text)\n",
        "  \n",
        "  pronoun = [\"PRP\", \"PRP$\"]\n",
        "  noun = [\"NN\", \"NNS\", \"NNP\", \"NNPS\", \"FW\"]\n",
        "  anaphora = [\"himself\", \"herself\", \"yourself\", \"myself\", \"themselves\", \"ourself\", \"ourselves\", \"itself\"]\n",
        "\n",
        "  sent_noun = []\n",
        "  sent_pron = []\n",
        "\n",
        "  for i in range(len(tagged)):\n",
        "    if tagged[i][1] in noun:\n",
        "      sent_noun.append(tagged[i][0])\n",
        "    if tagged[i][1] in pronoun:\n",
        "      sent_pron.append(tagged[i][0])\n",
        "\n",
        "  # Ask users for the reference of the pronouns\n",
        "  reference = []\n",
        "  for x in sent_pron:\n",
        "    ref = input(\"What do you mean by '\"+x+\"'?: \").lower()\n",
        "    reference.append((x,ref))\n",
        "\n",
        "  # Make tree and find out if the anaphora in tree is properly working\n",
        "  tree = parser.parse(text)\n",
        "\n",
        "  for i in range(len(reference)):\n",
        "    for j in range(len(reference)):\n",
        "      for k in range(len(sent_noun)):\n",
        "        \n",
        "        # case1: more than one pronouns are in binding relation\n",
        "        if reference[i][1] == reference[j][1] and c_command(tree, reference[i][0], reference[j][0]):\n",
        "          if reference[j][0] not in anaphora:\n",
        "            print(\"Wrong\")\n",
        "        \n",
        "        # case2: noun and pronouns are in binding relation\n",
        "        elif reference[i][1] == sent_noun[j] and c_command(tree, reference[i][0], sent_noun[j]):\n",
        "          if reference[j][0] not in anaphora:\n",
        "            print(\"Wrong\")\n",
        "        \n",
        "        # case3: noun and pronouns are not in binding relation but using anaphora\n",
        "        elif reference[i][1] != sent_noun[j] or c_command(tree, reference[i][0], sent_noun[j]):\n",
        "          if reference[j][0] in anaphora:\n",
        "            print(\"Wrong\")\n",
        "\n",
        "        else:\n",
        "          print(\"Good\")\n",
        "  "
      ],
      "execution_count": 0,
      "outputs": []
    },
    {
      "cell_type": "code",
      "metadata": {
        "id": "CinpXHptS_Uf",
        "colab_type": "code",
        "outputId": "ae5de3fc-33c8-41bb-844b-4d29553dc347",
        "colab": {
          "base_uri": "https://localhost:8080/",
          "height": 70
        }
      },
      "source": [
        "text = input(\"Give me a sentence: \")\n",
        "binding_a(text)"
      ],
      "execution_count": 0,
      "outputs": [
        {
          "output_type": "stream",
          "text": [
            "Give me a sentence: John saw himself\n",
            "What do you mean by 'himself'?: \n",
            "Wrong\n"
          ],
          "name": "stdout"
        }
      ]
    }
  ]
}