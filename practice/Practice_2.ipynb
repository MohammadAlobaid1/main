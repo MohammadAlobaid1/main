{
 "cells": [
  {
   "cell_type": "markdown",
   "metadata": {},
   "source": [
    "## Pratice notebook 2.\n",
    "\n",
    "**Topics covered since Practice 1:**\n",
    "  * Deep and shallow copy (revisited)\n",
    "  * For-loops\n",
    "  * Range"
   ]
  },
  {
   "cell_type": "markdown",
   "metadata": {},
   "source": [
    "**Problem 1.** Write a program that asks the user for a number $n$ and prints the sum of the numbers $1$ to $n$.\n",
    "\n",
    "    user_input: 8\n",
    "    output: 1 + 2 + 3 + 4 + 5 + 6 + 7 + 8 = 36"
   ]
  },
  {
   "cell_type": "code",
   "execution_count": null,
   "metadata": {},
   "outputs": [],
   "source": []
  },
  {
   "cell_type": "markdown",
   "metadata": {},
   "source": [
    "**Problem 2.** Modify the previous program such that only multiples of three or five are considered in the sum.\n",
    "\n",
    "    user_input: 8\n",
    "    output: 3 + 5 + 6 = 14\n",
    "\n",
    "    user_input: 17\n",
    "    output: 3 + 5 + 6 + 9 + 10 + 12 + 15 = 60"
   ]
  },
  {
   "cell_type": "code",
   "execution_count": null,
   "metadata": {},
   "outputs": [],
   "source": []
  },
  {
   "cell_type": "markdown",
   "metadata": {},
   "source": [
    "**Practice 3.** Write a program that prints a multiplication table for numbers up to $10$."
   ]
  },
  {
   "cell_type": "code",
   "execution_count": null,
   "metadata": {},
   "outputs": [],
   "source": []
  },
  {
   "cell_type": "markdown",
   "metadata": {},
   "source": [
    "**Practice 4.** Write a program that prints all prime numbers that are smaller than $100$."
   ]
  },
  {
   "cell_type": "code",
   "execution_count": 19,
   "metadata": {},
   "outputs": [
    {
     "name": "stdout",
     "output_type": "stream",
     "text": [
      "[1, 2, 3, 4, 5, 6, 7, 8, 9, 11, 13, 15, 17, 19, 23, 25, 29, 31, 35, 37, 41, 43, 47, 49, 53, 59, 61, 67, 71, 73, 79, 83, 89, 97]\n"
     ]
    }
   ],
   "source": [
    "primes = []\n",
    "for p in range(1, 100):\n",
    "    prime = True\n",
    "    \n",
    "    for d in range(2, int(p**0.5)):\n",
    "        if (not p % d):\n",
    "            prime = False\n",
    "    \n",
    "    if prime:\n",
    "        primes.append(p)\n",
    "        \n",
    "print(primes)"
   ]
  },
  {
   "cell_type": "markdown",
   "metadata": {},
   "source": [
    "**Practice 5.** You are given a list of words."
   ]
  },
  {
   "cell_type": "code",
   "execution_count": 7,
   "metadata": {},
   "outputs": [],
   "source": [
    "words = [\"Hello\", \"world\", \"I\", \"love\", \"you\"]"
   ]
  },
  {
   "cell_type": "markdown",
   "metadata": {},
   "source": [
    "Write code that will print these words in the frame like this:\n",
    "\n",
    "    *********\n",
    "    * Hello *\n",
    "    * world *\n",
    "    * I     *\n",
    "    * love  *\n",
    "    * you   *\n",
    "    *********"
   ]
  },
  {
   "cell_type": "code",
   "execution_count": null,
   "metadata": {},
   "outputs": [],
   "source": []
  }
 ],
 "metadata": {
  "kernelspec": {
   "display_name": "Python 3",
   "language": "python",
   "name": "python3"
  },
  "language_info": {
   "codemirror_mode": {
    "name": "ipython",
    "version": 3
   },
   "file_extension": ".py",
   "mimetype": "text/x-python",
   "name": "python",
   "nbconvert_exporter": "python",
   "pygments_lexer": "ipython3",
   "version": "3.6.8"
  }
 },
 "nbformat": 4,
 "nbformat_minor": 2
}
