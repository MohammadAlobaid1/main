{
 "cells": [
  {
   "cell_type": "markdown",
   "metadata": {},
   "source": [
    "## Pratice notebook 1.\n",
    "\n",
    "**Topics covered so far:**\n",
    "  * Basic IO (print, input) and variables\n",
    "  * Data types: integers, floats, booleans, strings, lists\n",
    "  * Control flow and complex conditional expressions\n",
    "  * Indexation\n",
    "  * Deep copy and shallow copy"
   ]
  },
  {
   "cell_type": "markdown",
   "metadata": {},
   "source": [
    "**Problem 1.** Write a program that asks the user for a name and greets them. It gets especially excited if user's name is contained in `cool_names` list:"
   ]
  },
  {
   "cell_type": "code",
   "execution_count": null,
   "metadata": {},
   "outputs": [],
   "source": [
    "cool_names = [\"Immanuel\", \"Friedrich\", \"Rene\", \"Karl\"]"
   ]
  },
  {
   "cell_type": "markdown",
   "metadata": {},
   "source": [
    "Write your code in the following cell."
   ]
  },
  {
   "cell_type": "code",
   "execution_count": null,
   "metadata": {},
   "outputs": [],
   "source": []
  },
  {
   "cell_type": "markdown",
   "metadata": {},
   "source": [
    "**Problem 2.** _Pig Latin game._ Ask user for a word. If the word if an empty string, tell them that they are cheating. Otherwise, move the first (i.e. zeroest) letter of this word to the end and add \"ay\". Then print the resulting word.\n",
    "\n",
    "    Input word: apple\n",
    "    Output word: ppleaay\n",
    "    \n",
    "    Input word: the\n",
    "    Output word: hetay\n",
    "    \n",
    "    "
   ]
  },
  {
   "cell_type": "code",
   "execution_count": null,
   "metadata": {},
   "outputs": [],
   "source": []
  },
  {
   "cell_type": "markdown",
   "metadata": {},
   "source": [
    "**Problem 3.** You are given the following list. How many items are there in this list and why?"
   ]
  },
  {
   "cell_type": "code",
   "execution_count": null,
   "metadata": {},
   "outputs": [],
   "source": [
    "original = [\"a\", \"b\", [\"c\", \"d\", \"e\"], \"f\", [\"g\", [\"h\", \"i\"]], \"j\", []]"
   ]
  },
  {
   "cell_type": "markdown",
   "metadata": {},
   "source": [
    "Make a copy of that list, and substitute every single letter in this list by a word that starts with that letter."
   ]
  },
  {
   "cell_type": "code",
   "execution_count": null,
   "metadata": {},
   "outputs": [],
   "source": []
  },
  {
   "cell_type": "markdown",
   "metadata": {},
   "source": [
    "Print both lists (original and copy) and make sure that the changes did not affect the original list."
   ]
  },
  {
   "cell_type": "code",
   "execution_count": null,
   "metadata": {},
   "outputs": [],
   "source": []
  }
 ],
 "metadata": {
  "kernelspec": {
   "display_name": "Python 3",
   "language": "python",
   "name": "python3"
  },
  "language_info": {
   "codemirror_mode": {
    "name": "ipython",
    "version": 3
   },
   "file_extension": ".py",
   "mimetype": "text/x-python",
   "name": "python",
   "nbconvert_exporter": "python",
   "pygments_lexer": "ipython3",
   "version": "3.6.8"
  }
 },
 "nbformat": 4,
 "nbformat_minor": 2
}
