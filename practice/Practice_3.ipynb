{
 "cells": [
  {
   "cell_type": "markdown",
   "metadata": {},
   "source": [
    "## Pratice notebook 3.\n",
    "\n",
    "**Topics covered since Practice 2:**\n",
    "  * dictionaries;\n",
    "  * list comprehensions;\n",
    "  * file I/O;\n",
    "  * `while` loops;\n",
    "  * `break` and `continue`."
   ]
  },
  {
   "cell_type": "markdown",
   "metadata": {},
   "source": [
    "**Problem 1: cows and bulls** [\\[link\\]](https://www.practicepython.org/exercise/2014/07/05/18-cows-and-bulls.html)\n",
    "\n",
    "> Randomly generate a 4-digit number. Ask the user to guess a 4-digit number. For every digit that the user guessed correctly in the correct place, they have a “cow”. For every digit the user guessed correctly in the wrong place is a “bull.” Every time the user makes a guess, tell them how many “cows” and “bulls” they have. Once the user guesses the correct number, the game is over. Keep track of the number of guesses the user makes throughout teh game and tell the user at the end.\n",
    "\n",
    "We can use `random.randint` to generate a random $4$-digit number."
   ]
  },
  {
   "cell_type": "code",
   "execution_count": null,
   "metadata": {},
   "outputs": [],
   "source": [
    "from random import randint\n",
    "\n",
    "n = randint(1000, 9999)\n",
    "print(n)"
   ]
  },
  {
   "cell_type": "markdown",
   "metadata": {},
   "source": [
    "Now, write a code that will be asking a user to guess the number until the user will finally guess the number. Calculate the number of cows and bulls every time the user makes an attempt."
   ]
  },
  {
   "cell_type": "code",
   "execution_count": null,
   "metadata": {},
   "outputs": [],
   "source": []
  },
  {
   "cell_type": "markdown",
   "metadata": {},
   "source": [
    "**Problem 2.** _Negative strictly local grammars_ list $n$-grams that _cannot_ appear in well-formed sequences of the language. Special characters `>` and `<` indicate the beginning and the end of the string, respectively.\n",
    "\n",
    "    k = 2\n",
    "    neg_grammar = [\">b\", \"aa\", \"bb\", \"a<\"]\n",
    "    good_words = \"ababa\", \"abababababab\", \"\", ...\n",
    "    bad_words = \"abba\", \"abababaab\", \"baba\", ...\n",
    "    \n",
    "You are given the values of `k` and `neg_grammar` and a list of strings."
   ]
  },
  {
   "cell_type": "code",
   "execution_count": null,
   "metadata": {},
   "outputs": [],
   "source": [
    "k = 2\n",
    "neg_grammar = [\">b\", \"aa\", \"bb\", \"a<\"]\n",
    "\n",
    "strings = [\"abab\", \"\", \"babab\", \"ababababab\", \"ababab\", \"b\"]"
   ]
  },
  {
   "cell_type": "markdown",
   "metadata": {},
   "source": [
    "For every string in `strings`, augment it with the edge markers and check if these strings are well-formed with respect to the grammar in `neg_grammar`."
   ]
  },
  {
   "cell_type": "code",
   "execution_count": null,
   "metadata": {},
   "outputs": [],
   "source": []
  },
  {
   "cell_type": "markdown",
   "metadata": {},
   "source": [
    "**Problem 3.** From a given lowercase string, keep removing all pairs of adjacent matching symbols until there are none left.\n",
    "\n",
    "    Input:  bbohjjhomkk\n",
    "    Step 1: ohhomkk\n",
    "    Step 2: oom\n",
    "    Step 3: m\n",
    "    \n",
    "    \n",
    "Test your code with the following strings:\n",
    "    \n",
    "    \"abcbbcba\"    -> \"\"\n",
    "    \"bbohjjhomkk\" -> \"m\"\n",
    "    \"aaabccddd\"   -> \"abd\"\n",
    "    \"abcbcba\"     -> \"abcbcba\""
   ]
  },
  {
   "cell_type": "code",
   "execution_count": null,
   "metadata": {},
   "outputs": [],
   "source": [
    "strings = [\"abcbbcba\", \"bbohjjhomkk\", \"aaabccddd\", \"abcbcba\"]\n",
    "\n",
    "# your code"
   ]
  }
 ],
 "metadata": {
  "kernelspec": {
   "display_name": "Python 3",
   "language": "python",
   "name": "python3"
  },
  "language_info": {
   "codemirror_mode": {
    "name": "ipython",
    "version": 3
   },
   "file_extension": ".py",
   "mimetype": "text/x-python",
   "name": "python",
   "nbconvert_exporter": "python",
   "pygments_lexer": "ipython3",
   "version": "3.6.8"
  }
 },
 "nbformat": 4,
 "nbformat_minor": 2
}
