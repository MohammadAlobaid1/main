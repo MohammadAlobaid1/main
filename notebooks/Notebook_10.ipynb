{
 "cells": [
  {
   "cell_type": "markdown",
   "metadata": {},
   "source": [
    "<div style=\"text-align: right\">\n",
    "    <i>\n",
    "        LIN 537: Computational Lingusitics 1 <br>\n",
    "        Fall 2019 <br>\n",
    "        Alëna Aksënova\n",
    "    </i>\n",
    "</div>\n",
    "\n",
    "# Notebook 10: regular expressions\n",
    "\n",
    "This notebook introduces the notion of *formal languages* and defines one of the ways formal languages can be classified (based on their expressive power).\n",
    "It then introduces a hierarchy of formal languages, and goes in depth about the class of _regular languages._\n",
    "They can be written as **regular expressions**, and this notebook mostly focuses on working with regular languages using Python `re` package."
   ]
  },
  {
   "cell_type": "markdown",
   "metadata": {},
   "source": [
    "## Formal languages\n",
    "\n",
    "Formally, (string) _languages_ are collections of strings produced by a certain grammar.\n",
    "Grammar is a way to _generalize_ the pattern behind the language.\n",
    "For example,\n",
    "\n",
    "    Language 1: ab, abab, ababab, abababab... (*aba, *babababab, *a)\n",
    "    Grammar 1:  repeat \"ab\" arbitrary number of times\n",
    "    \n",
    "    Language 2: aaab, baaa, aaabaaaa, b, aba, aaaaabaaaaaaaaa, baaaaaaaa, aab... (*aaaabaaaabaaa, *aaaaa)\n",
    "    Grammar 2:  have a single \"b\" in the string, and then any number of \"a\" on either side of \"b\"\n",
    "    \n",
    "    Language 3: abc, aabbcc, aaabbbccc, aaaabbbbcccc... (*abbccc, *aaabbbc)\n",
    "    Grammar 3:  have \"b\" after \"a\" and \"c\" after \"b\", and repeat every letter n times.\n",
    "    \n",
    "    Language 4: aabb, aaabbb, aaaaabbbbb, aaaaaaabbbbbbb, aaaaaaaaaaabbbbbbbbbbb... (*ab, *aaaabbbb)\n",
    "    Grammar 4:  <guess>\n",
    "    \n",
    "These grammars are very discriptive, and we want to have a way to _formalize_ them, therefore obtaining a **formal grammar** for that language.\n",
    "\n",
    "\n",
    "### Expressivity\n",
    "\n",
    "It is intuitive that some rules generating languages use simpler operations than others.\n",
    "For example, Grammar 1 simply uses the repetitions of the substring \"ab\", whereas Grammar 3 _balances_ the number of letters \"a\", \"b\" and \"c\" while preserving their order.\n",
    "\n",
    "The nested hierarchy of formal languages aligned with respect to their complexity is called **the Chomsky hierarchy** [(Chomsky 1959)](http://www.cs.utexas.edu/~cannata/pl/Class%20Notes/Chomsky_1959%20On%20Certain%20Formal%20Properties%20of%20Grammars.pdf).\n",
    "\n",
    "<img src=\"images/10_1.png\" width=\"600\">\n",
    "\n",
    "**Finite** languages are not infinite, and can be defined by simply listing all the strings of the language."
   ]
  },
  {
   "cell_type": "code",
   "execution_count": null,
   "metadata": {},
   "outputs": [],
   "source": [
    "finite_language = [\"abc\", \"cba\", \"bac\", \"cab\", \"acb\", \"bca\"]"
   ]
  },
  {
   "cell_type": "markdown",
   "metadata": {},
   "source": [
    "All classes apart from finite grammars describe potentially infinite stringsets. Later in this course, we will learn some tools for working with two classes of Chomsky hierarchy: **regular** and **context-free**.\n",
    "\n",
    "**Question:** why \"potentially infinite\", and not just \"infinite\"?"
   ]
  },
  {
   "cell_type": "markdown",
   "metadata": {},
   "source": [
    "## Regular expressions\n",
    "\n",
    "Regular languages can be described via so-called **regular expressions** (**regex**).\n",
    "Regexes are strings in a special representation describing languages, and this representation is invented by **Stephen Kleene** in 1950s. Interestingly, he came up with the idea of regular expressions when trying to describe the behavior of _McCulloch-Pitts_ neural networks, the first model inspired by human neurons! See more [here](https://towardsdatascience.com/mcculloch-pitts-model-5fdf65ac5dd1).\n",
    "\n",
    "<img src=\"images/10_2.png\" width=\"200\">\n",
    "<center>\n",
    "    <i> Stephen Kleene </i>\n",
    "</center>\n"
   ]
  },
  {
   "cell_type": "markdown",
   "metadata": {},
   "source": [
    "In order to work with regexes through the Python interface, let's import the `re` package."
   ]
  },
  {
   "cell_type": "code",
   "execution_count": null,
   "metadata": {},
   "outputs": [],
   "source": [
    "import re"
   ]
  },
  {
   "cell_type": "markdown",
   "metadata": {},
   "source": [
    "## Kleene star\n",
    "\n",
    "The basic concept introducing infinity in regular expressions is **Klenee star**.\n",
    "It is denoted as `*`, and it simply means \"repeat the preceding symbol or a string arbitrary number of times\".\n",
    "Here and further in the notebook, I'll be using `\"\"` to denote an empty string.\n",
    "\n",
    "    RegEx:  a*\n",
    "    Language: \"\", a, aa, aaa, aaaaa, ..., aaaaaaaaaaaaaaaaaaaaaaaaaaaaaaaaaa, ...\n",
    "    \n",
    "### Function `re.search`\n",
    "    \n",
    "The function `re.search` searches for the first substring that correspond to a given regular expressions within the given string. It returns a _match object_ if matching substrings were detected, and `None` otherwise.\n",
    "\n",
    "    re.search(r\"regex\", r\"string\")\n",
    "    \n",
    "Notice the `r` before the strings: it means \"raw string\". As you already know, there are characters that have special meaning to regular expressions, and to avoid any confusion, it is easier to work with the raw strings."
   ]
  },
  {
   "cell_type": "code",
   "execution_count": null,
   "metadata": {},
   "outputs": [],
   "source": [
    "print(re.search(r\"a*\", r\"aaaaa\"))"
   ]
  },
  {
   "cell_type": "markdown",
   "metadata": {},
   "source": [
    "Indeed, a string \"aaaaa\" can be matched by the regular expression $a^{*}$."
   ]
  },
  {
   "cell_type": "code",
   "execution_count": null,
   "metadata": {},
   "outputs": [],
   "source": [
    "print(re.search(r\"a*\", r\"aaaabaa\"))"
   ]
  },
  {
   "cell_type": "markdown",
   "metadata": {},
   "source": [
    "String \"aaaabaa\" contains $2$ substrings that can be matched by a regular expression $a^{*}$: \"**aaaa**baa\" and \"aaaab**aa**\", but `re.search` only looks for the first appropriate match, therefore the span that was detected is `span=(0, 4)`.\n",
    "\n",
    "The values of `span` can be extracted in the following manner:"
   ]
  },
  {
   "cell_type": "code",
   "execution_count": null,
   "metadata": {},
   "outputs": [],
   "source": [
    "matched_object = re.search(r\"a*\", r\"aaaabaa\")\n",
    "span = matched_object.span()\n",
    "print(span)"
   ]
  },
  {
   "cell_type": "markdown",
   "metadata": {},
   "source": [
    "To extract the matched substring, we need to apply `.group(0)` to the matched object."
   ]
  },
  {
   "cell_type": "code",
   "execution_count": null,
   "metadata": {
    "scrolled": true
   },
   "outputs": [],
   "source": [
    "match = matched_object.group(0)\n",
    "print(match)"
   ]
  },
  {
   "cell_type": "markdown",
   "metadata": {},
   "source": [
    "As a sidenote, Python allows for \"unpacking\" of the values and multiple variable definitions on a single line."
   ]
  },
  {
   "cell_type": "code",
   "execution_count": null,
   "metadata": {
    "scrolled": true
   },
   "outputs": [],
   "source": [
    "start, end = span[0], span[1]\n",
    "print(\"Start:\", start)\n",
    "print(\"End:  \", end)"
   ]
  },
  {
   "cell_type": "markdown",
   "metadata": {},
   "source": [
    "**Practice:** write a function `full_match` detecting if the whole given string can be matched by the given regular expression.\n",
    "\n",
    "    Function call:  full_match(\"a*\", \"aaaaa\")\n",
    "    Output:         True\n",
    "    \n",
    "    Function call:  full_match(\"a*\", \"aaaaabaa\")\n",
    "    Output:         False\n",
    "    \n",
    "    Function call:  full_match(\"a*\", \"bbbbb\")\n",
    "    Output:         False"
   ]
  },
  {
   "cell_type": "code",
   "execution_count": null,
   "metadata": {},
   "outputs": [],
   "source": []
  },
  {
   "cell_type": "markdown",
   "metadata": {},
   "source": [
    "Test it in the following cell."
   ]
  },
  {
   "cell_type": "code",
   "execution_count": null,
   "metadata": {},
   "outputs": [],
   "source": []
  },
  {
   "cell_type": "markdown",
   "metadata": {},
   "source": [
    "### Function `re.findall`\n",
    "\n",
    "If all matching substrings are required, we can use `re.findall` function that returns _all_ matching substrings.\n",
    "\n",
    "    re.findall(r\"regex\", r\"string\")"
   ]
  },
  {
   "cell_type": "code",
   "execution_count": null,
   "metadata": {},
   "outputs": [],
   "source": [
    "print(re.findall(r\"ab\", r\"aaabbbababa\"))"
   ]
  },
  {
   "cell_type": "markdown",
   "metadata": {},
   "source": [
    "**Question:** explain the output of the following function call."
   ]
  },
  {
   "cell_type": "code",
   "execution_count": null,
   "metadata": {},
   "outputs": [],
   "source": [
    "print(re.findall(r\"a*\", r\"aaaabaa\"))"
   ]
  },
  {
   "cell_type": "markdown",
   "metadata": {},
   "source": [
    "So far we saw the application of the Kleene star to only a single symbol. In order to match repeating substrings, we need to put that substring in the parethesis. For example, see the contrast:"
   ]
  },
  {
   "cell_type": "code",
   "execution_count": null,
   "metadata": {},
   "outputs": [],
   "source": [
    "print(re.search(r\"(ab)*\", r\"abababbbb\"))"
   ]
  },
  {
   "cell_type": "code",
   "execution_count": null,
   "metadata": {},
   "outputs": [],
   "source": [
    "print(re.search(r\"ab*\", r\"abababbbb\"))"
   ]
  },
  {
   "cell_type": "markdown",
   "metadata": {},
   "source": [
    "In the first case, the first match is `ababab`, i.e. it is a string \"ab\" that is repeating.\n",
    "In the second case, however, the first match is simply `ab`, because the regular expression $ab^{*}$ is matching any number of \"b\" preceded by an \"a\"."
   ]
  },
  {
   "cell_type": "markdown",
   "metadata": {},
   "source": [
    "## Kleene plus\n",
    "\n",
    "Kleene star matches _any_ number of the given substring, from $0$ to any $n$.\n",
    "**Kleene plus** matches the given substring $1$ or more times.\n",
    "\n",
    "    Grammar:  (ab)*\n",
    "    Language: \"\", ab, abab, ababab, ababababab...\n",
    "    \n",
    "    Grammar:  (ab)+\n",
    "    Language: ab, abab, ababab, ababababab..."
   ]
  },
  {
   "cell_type": "code",
   "execution_count": null,
   "metadata": {},
   "outputs": [],
   "source": [
    "print(re.search(r\"(ab)*\", r\"\"))"
   ]
  },
  {
   "cell_type": "code",
   "execution_count": null,
   "metadata": {},
   "outputs": [],
   "source": [
    "print(re.search(r\"(ab)+\", r\"\"))"
   ]
  },
  {
   "cell_type": "markdown",
   "metadata": {},
   "source": [
    "**Practice 1:** simplify the following regular expression: `ab(ab)+`.\n",
    "\n",
    "**Practice 2:** for the following regular expressions, tell if the given strings are fully matched by them.\n",
    "\n",
    "    Regular expression:  a*b*a*\n",
    "    Strings:             \"\", aaaaa, bbbb, aaabbbbb, aabaaa, aaabbbabbb, bbbaa, bab\n",
    "    \n",
    "    Regular expression:  a*b+a*\n",
    "    Strings:             \"\", aaaaa, bbbb, aaabbbbb, aabaaa, aaabbbabbb, bbbaa, bab\n",
    "    \n",
    "    Regular expression:  (a*b*)*\n",
    "    Strings:             \"\", aabb, aaabbb, aabbaaaabbbb, bbbb, baaaaa, bababbabb\n",
    "    \n",
    "    Regular expression:  (a+b*)*\n",
    "    Strings:             \"\", aabb, aaabbb, aabbaaaabbbb, bbbb, baaaaa, bababbabb\n",
    "    \n",
    "    Regular expression:  (a+c*b+)+\n",
    "    Strings:             \"\", ab, abab, aaaacc, bbba, aaabbbabbbb, aabbbbbcbbb\n",
    "    \n",
    "    Regular expression:  (a*c*b+)+\n",
    "    Strings:             \"\", ab, abab, aaaacc, bbba, aaabbbabbbb, aabbbbbcbbb\n",
    "    \n",
    "**Practice 3:** come up with a regex describing the following two languages. Test it in the following cells.\n",
    "\n",
    "    Language 1:  \"\", abbc, bbbcc, ccc, acc, abbccc...\n",
    "    Language 2:  abccc, a, abcbcccc, abbb, abbbccc..."
   ]
  },
  {
   "cell_type": "code",
   "execution_count": null,
   "metadata": {},
   "outputs": [],
   "source": [
    "lang_1 = [\"\", \"abbc\", \"bbbcc\", \"ccc\", \"acc\", \"abbccc\"]\n",
    "for s in lang_1:\n",
    "    print(re.search(r\"REGEX\", s))"
   ]
  },
  {
   "cell_type": "code",
   "execution_count": null,
   "metadata": {},
   "outputs": [],
   "source": [
    "lang_2 = [\"abccc\", \"a\", \"abcbcccc\", \"abbb\", \"abbbccc\", \"abcbcbc\"]\n",
    "for s in lang_2:\n",
    "    print(re.search(r\"REGEX\", s))"
   ]
  },
  {
   "cell_type": "markdown",
   "metadata": {},
   "source": [
    "### Optionality"
   ]
  },
  {
   "cell_type": "markdown",
   "metadata": {},
   "source": [
    "### Counting repetitions"
   ]
  },
  {
   "cell_type": "markdown",
   "metadata": {},
   "source": [
    "### Matching in the beginning or end of the string"
   ]
  },
  {
   "cell_type": "markdown",
   "metadata": {},
   "source": [
    "### Sets of characters"
   ]
  },
  {
   "cell_type": "markdown",
   "metadata": {},
   "source": [
    "### Negation"
   ]
  },
  {
   "cell_type": "markdown",
   "metadata": {},
   "source": [
    "### Any character `.`"
   ]
  },
  {
   "cell_type": "markdown",
   "metadata": {},
   "source": [
    "### Special sequences"
   ]
  },
  {
   "cell_type": "code",
   "execution_count": null,
   "metadata": {},
   "outputs": [],
   "source": []
  }
 ],
 "metadata": {
  "kernelspec": {
   "display_name": "Python 3",
   "language": "python",
   "name": "python3"
  },
  "language_info": {
   "codemirror_mode": {
    "name": "ipython",
    "version": 3
   },
   "file_extension": ".py",
   "mimetype": "text/x-python",
   "name": "python",
   "nbconvert_exporter": "python",
   "pygments_lexer": "ipython3",
   "version": "3.6.8"
  }
 },
 "nbformat": 4,
 "nbformat_minor": 2
}
