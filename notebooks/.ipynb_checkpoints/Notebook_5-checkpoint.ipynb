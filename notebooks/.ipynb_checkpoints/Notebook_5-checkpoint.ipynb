{
 "cells": [
  {
   "cell_type": "markdown",
   "metadata": {},
   "source": [
    "<div style=\"text-align: right\">\n",
    "    <i>\n",
    "        LIN 537: Computational Lingusitics 1 <br>\n",
    "        Fall 2019 <br>\n",
    "        Alëna Aksënova\n",
    "    </i>\n",
    "</div>\n",
    "\n",
    "# Notebook 5: list comprehensions and dictionaries\n",
    "\n",
    "This notebook shows a way to dynamically construct list by defining a _list comprehension_, and then introduced a new basic Python data type: dictionary.\n",
    " An optional advanced section introduces `map`."
   ]
  },
  {
   "cell_type": "markdown",
   "metadata": {},
   "source": [
    "## List comprehensions\n",
    "\n",
    "Let's say we have the following task. We are given a list of words:"
   ]
  },
  {
   "cell_type": "code",
   "execution_count": null,
   "metadata": {},
   "outputs": [],
   "source": [
    "words = [\"sky\", \"water\", \"air\", \"nature\", \"forest\", \"ice\"]"
   ]
  },
  {
   "cell_type": "markdown",
   "metadata": {},
   "source": [
    "We want to create a list where we will collect lengths of the words from `words`. Using Python knowledge that we built so far, the code can look like the one below."
   ]
  },
  {
   "cell_type": "code",
   "execution_count": null,
   "metadata": {},
   "outputs": [],
   "source": [
    "lengths = []\n",
    "\n",
    "for w in words:\n",
    "    lengths.append(len(w))\n",
    "print(lengths)"
   ]
  },
  {
   "cell_type": "markdown",
   "metadata": {},
   "source": [
    "### Basics of list comprehensions\n",
    "\n",
    "**List comprehensions** allow to construct a new list while looping over some other list that already exists in memory.\n",
    "So now, instead of the following code\n",
    "\n",
    "    new_list = []\n",
    "    for item in some_container:\n",
    "      new_list.append(function(item))\n",
    "      \n",
    "we can use its shorter and more memory-efficient version:\n",
    "    \n",
    "    new_list = [function(item) for item in some_container]"
   ]
  },
  {
   "cell_type": "code",
   "execution_count": null,
   "metadata": {},
   "outputs": [],
   "source": [
    "lengths = [len(w) for w in words]\n",
    "print(lengths)"
   ]
  },
  {
   "cell_type": "markdown",
   "metadata": {},
   "source": [
    "Or, for example, we can create a new list where every single word from the old list would be reversed."
   ]
  },
  {
   "cell_type": "code",
   "execution_count": null,
   "metadata": {},
   "outputs": [],
   "source": [
    "reversals = [w[::-1] for w in words]\n",
    "print(reversals)"
   ]
  },
  {
   "cell_type": "markdown",
   "metadata": {},
   "source": [
    "Or maybe you want to create a list where all letters in `words` are masked:"
   ]
  },
  {
   "cell_type": "code",
   "execution_count": null,
   "metadata": {},
   "outputs": [],
   "source": [
    "masked_words = [\"*\" * len(w) for w in words]\n",
    "print(masked_words)"
   ]
  },
  {
   "cell_type": "markdown",
   "metadata": {},
   "source": [
    "And, of course, it is possible to map all values of the variable `w` to something that does not depend on `w` at all:"
   ]
  },
  {
   "cell_type": "code",
   "execution_count": null,
   "metadata": {},
   "outputs": [],
   "source": [
    "masked_words_revisited = [\"WORD\" for w in words]\n",
    "print(masked_words_revisited)"
   ]
  },
  {
   "cell_type": "markdown",
   "metadata": {},
   "source": [
    "**Practice 1:** create a list that will contain last letters of every word in `words`."
   ]
  },
  {
   "cell_type": "code",
   "execution_count": null,
   "metadata": {},
   "outputs": [],
   "source": []
  },
  {
   "cell_type": "markdown",
   "metadata": {},
   "source": [
    "**Practice 2:** You are given two lists: `words` and `new_indices`."
   ]
  },
  {
   "cell_type": "code",
   "execution_count": null,
   "metadata": {},
   "outputs": [],
   "source": [
    "words = [\"sky\", \"water\", \"air\", \"nature\", \"forest\", \"ice\"]\n",
    "new_indices = [3, 0, 5, 1, 2, 4]"
   ]
  },
  {
   "cell_type": "markdown",
   "metadata": {},
   "source": [
    "Write a list comprehension that would yield the following list:\n",
    "\n",
    "    ['nature', 'sky', 'ice', 'water', 'air', 'forest']"
   ]
  },
  {
   "cell_type": "code",
   "execution_count": null,
   "metadata": {},
   "outputs": [],
   "source": []
  },
  {
   "cell_type": "markdown",
   "metadata": {},
   "source": [
    "### Adding conditions to list comprehensions\n",
    "\n",
    "So far the list comprehensions we wrote were using the following logic:\n",
    "  \n",
    "  1. consider an item from some container;\n",
    "  2. based on the value of item, create some new item;\n",
    "  3. add this new item to a new list.\n",
    "  \n",
    "We have the following two lists defined: `swadesh` and `words`."
   ]
  },
  {
   "cell_type": "code",
   "execution_count": null,
   "metadata": {},
   "outputs": [],
   "source": [
    "swadesh = [\"fish\", \"bird\", \"dog\", \"house\", \"tree\", \"seed\"]\n",
    "words = [\"bird\", \"laptop\", \"puppy\", \"house\", \"seed\", \"Python\"]"
   ]
  },
  {
   "cell_type": "markdown",
   "metadata": {},
   "source": [
    "The task is to make a copy of `words` that will contain only the words that are also included in the Swadesh list."
   ]
  },
  {
   "cell_type": "code",
   "execution_count": null,
   "metadata": {},
   "outputs": [],
   "source": [
    "words_copy = []\n",
    "for w in words:\n",
    "    if w in swadesh:\n",
    "        words_copy.append(w)\n",
    "print(words_copy)"
   ]
  },
  {
   "cell_type": "markdown",
   "metadata": {},
   "source": [
    "It is also possible to do it using a list comprehension. The syntax will be the following:\n",
    "\n",
    "    new_list = [function(item) for item in some_container if condition]"
   ]
  },
  {
   "cell_type": "code",
   "execution_count": null,
   "metadata": {
    "scrolled": true
   },
   "outputs": [],
   "source": [
    "words_copy = [w for w in words if w in swadesh]\n",
    "print(words_copy)"
   ]
  },
  {
   "cell_type": "markdown",
   "metadata": {},
   "source": [
    "**Practice.** Make a copy of the list `swadesh` that will contain words that end with a vowel."
   ]
  },
  {
   "cell_type": "code",
   "execution_count": null,
   "metadata": {},
   "outputs": [],
   "source": [
    "swadesh = [\"fish\", \"bird\", \"dog\", \"house\", \"tree\", \"seed\"]\n",
    "\n",
    "# your code"
   ]
  },
  {
   "cell_type": "markdown",
   "metadata": {},
   "source": [
    "### More complicated list comprehensions\n",
    "\n",
    "It is also possible to add `else` and a second `for` loop in list comprehensions. However, more \"overloaded\" the list comprehension is, less readable it is. \n",
    "\n",
    "My general advice would be not to use a list comprehension if you are see that it looks very scary and unreadable. :)\n",
    "\n",
    "However, consider the following examples of list comprehensions and their \"unfolded\" versions.\n",
    "\n",
    "**Example 1.** Make a copy of the list `words`. Leave the words unmasked if those words are included in the `swadesh` list, otherwise mask them as \"UNK\"."
   ]
  },
  {
   "cell_type": "code",
   "execution_count": null,
   "metadata": {},
   "outputs": [],
   "source": [
    "swadesh = [\"fish\", \"bird\", \"dog\", \"house\", \"tree\", \"seed\"]\n",
    "words = [\"bird\", \"laptop\", \"puppy\", \"house\", \"seed\", \"Python\"]"
   ]
  },
  {
   "cell_type": "markdown",
   "metadata": {},
   "source": [
    "No list comprehension:"
   ]
  },
  {
   "cell_type": "code",
   "execution_count": null,
   "metadata": {},
   "outputs": [],
   "source": [
    "words_1 = []\n",
    "for w in words:\n",
    "    if w in swadesh:\n",
    "        words_1.append(w)\n",
    "    else:\n",
    "        words_1.append(\"UNK\")\n",
    "print(words_1)"
   ]
  },
  {
   "cell_type": "markdown",
   "metadata": {},
   "source": [
    "With a list comprehension:"
   ]
  },
  {
   "cell_type": "code",
   "execution_count": null,
   "metadata": {},
   "outputs": [],
   "source": [
    "words_2 = [w if (w in swadesh) else \"UNK\" for w in words]\n",
    "print(words_2)"
   ]
  },
  {
   "cell_type": "markdown",
   "metadata": {},
   "source": [
    "**Example 2.** Imagine we want to create a list of letters all letters from `words` while preserving their order."
   ]
  },
  {
   "cell_type": "code",
   "execution_count": null,
   "metadata": {},
   "outputs": [],
   "source": [
    "letters_1 = []\n",
    "for w in words:\n",
    "    for letter in w:\n",
    "        letters.append(letter)\n",
    "print(letters)"
   ]
  },
  {
   "cell_type": "markdown",
   "metadata": {},
   "source": [
    "It is also possible to do using a list comprehension:"
   ]
  },
  {
   "cell_type": "code",
   "execution_count": null,
   "metadata": {},
   "outputs": [],
   "source": [
    "letters_2 = [letter for w in words for letter in w]\n",
    "print(letters_2)"
   ]
  },
  {
   "cell_type": "markdown",
   "metadata": {},
   "source": [
    "Bonus way to get the same output:"
   ]
  },
  {
   "cell_type": "code",
   "execution_count": null,
   "metadata": {
    "scrolled": true
   },
   "outputs": [],
   "source": [
    "letters_3 = list(\"\".join(words))\n",
    "print(letters_3)"
   ]
  },
  {
   "cell_type": "markdown",
   "metadata": {},
   "source": [
    "## Dictionaries\n",
    "\n",
    "So far we know one way to uniquely identify an item within an object: _by index_. In order to be able to access something by index, objects need to be ordered.\n",
    "\n",
    "When the objects are not ordered, we can uniquely identify the values by their name, or _by key_. **Dictionary** is a data type (`dict`) that associates every _value_ with its _key_.\n",
    "\n",
    "    dictionary = {key_1:value_1, key_2:value_2, ..., key_n:value_n}\n",
    "    \n",
    "### Requirements for keys and values\n",
    "\n",
    "The **keys** must be unique (of course, because they are used _instead_ of indices). The data type of the key must be _immutable_. **Immutable** objects cannot be modified directly after they are created. Remember how difficult it is to modify a string and how easy it is to modify a list? Strings are _immutable objects_, and lists are _mutable_.\n",
    "\n",
    "The **values** can be anything, and they can be repeated as well."
   ]
  },
  {
   "cell_type": "code",
   "execution_count": null,
   "metadata": {},
   "outputs": [],
   "source": [
    "int_keys = {37: \"hello\", 9: \"world\"}\n",
    "float_keys = {48.2: \"hello\", 3.0: \"world\"}\n",
    "string_keys = {\"hello\": \"world\", \"goodbye\": \"earth\"}\n",
    "bool_keys = {True: \"hello\", False: \"world\"}"
   ]
  },
  {
   "cell_type": "markdown",
   "metadata": {},
   "source": [
    "However, lists are mutable, and therefore they cannot be used as keys. (Mutable objects are _unhashable_, or \"changeable\".)"
   ]
  },
  {
   "cell_type": "code",
   "execution_count": null,
   "metadata": {},
   "outputs": [],
   "source": [
    "list_keys = {[1, 2]: \"Hello\"}"
   ]
  },
  {
   "cell_type": "markdown",
   "metadata": {},
   "source": [
    "As we learned earlier, keys must be _unique_. If several different dictionary items are defined with the same key, only the item that was mentioned the last will be included in the dictionary."
   ]
  },
  {
   "cell_type": "code",
   "execution_count": null,
   "metadata": {},
   "outputs": [],
   "source": [
    "int_keys = {42: \"hello\", 0: \"world\", 42: \"again\"}\n",
    "print(int_keys)"
   ]
  },
  {
   "cell_type": "markdown",
   "metadata": {},
   "source": [
    "**Question:** what is the maximal size of a dictionary where all the keys are of the type `bool`?"
   ]
  },
  {
   "cell_type": "markdown",
   "metadata": {},
   "source": [
    "**Dictionary with ISO 639 language codes**\n",
    "\n",
    "For example, consider the following dictionary with some of the [ISO 639](https://en.wikipedia.org/wiki/List_of_ISO_639-1_codes) codes of languages."
   ]
  },
  {
   "cell_type": "code",
   "execution_count": null,
   "metadata": {},
   "outputs": [],
   "source": [
    "iso_639 = {'ny': ['Chichewa', 'Chewa', 'Nyanja'], \n",
    "           'zh': ['Chinese'], \n",
    "           'cs': ['Czech'], \n",
    "           'da': ['Danish'], \n",
    "           'dv': ['Divehi', 'Maldivian']}"
   ]
  },
  {
   "cell_type": "markdown",
   "metadata": {},
   "source": [
    "Values can be accessed by keys in the same way as we were accessing them by indices before:"
   ]
  },
  {
   "cell_type": "code",
   "execution_count": null,
   "metadata": {},
   "outputs": [],
   "source": [
    "print(\"The value of \\\"ny\\\" is\", iso_639[\"ny\"])\n",
    "print(\"The value of \\\"da\\\" is\", iso_639[\"da\"])"
   ]
  },
  {
   "cell_type": "markdown",
   "metadata": {},
   "source": [
    "**Question.** How to access the string \"Catalan\"?\n",
    "\n",
    "Adding a new item to the dictionary is extremely easy.\n",
    "    \n",
    "    dictionary[new_key] = new_value"
   ]
  },
  {
   "cell_type": "code",
   "execution_count": null,
   "metadata": {},
   "outputs": [],
   "source": [
    "iso_639[\"ru\"] = [\"Russian\"]\n",
    "print(iso_639)"
   ]
  },
  {
   "cell_type": "markdown",
   "metadata": {},
   "source": [
    "### Iterating over dictionaries\n",
    "\n",
    "One thing to be beware of is that iterating over the dictionary actually iterates over the keys."
   ]
  },
  {
   "cell_type": "code",
   "execution_count": null,
   "metadata": {},
   "outputs": [],
   "source": [
    "for language in iso_639:\n",
    "    print(language, end=\" \")"
   ]
  },
  {
   "cell_type": "markdown",
   "metadata": {},
   "source": [
    "**Practice.** Modify a for loop that produces the following output:\n",
    "\n",
    "    ny -> ['Chichewa', 'Chewa', 'Nyanja']\n",
    "    zh -> ['Chinese']\n",
    "    cs -> ['Czech']\n",
    "    da -> ['Danish']\n",
    "    dv -> ['Divehi', 'Maldivian']\n",
    "    ru -> ['Russian']"
   ]
  },
  {
   "cell_type": "code",
   "execution_count": null,
   "metadata": {},
   "outputs": [],
   "source": []
  },
  {
   "cell_type": "markdown",
   "metadata": {},
   "source": [
    "One way to iterate over the `key:value` pairs is to apply `.items()` method to the dictionary. It turns the key and the value into a _tuple_. (Remember `zip` and `enumerate`? Tuples are basically _immutable_ versions of lists.)"
   ]
  },
  {
   "cell_type": "code",
   "execution_count": null,
   "metadata": {},
   "outputs": [],
   "source": [
    "for pair in iso_639.items():\n",
    "    print(\"Pair:\", pair)\n",
    "    print(\"Key:\", pair[0])\n",
    "    print(\"Value:\", pair[1], \"\\n\")"
   ]
  },
  {
   "cell_type": "markdown",
   "metadata": {},
   "source": [
    "### Methods defined for dictionaries\n",
    "\n",
    "I exemplify here the following dictionary methods:\n",
    "  * method `.keys()` returns a collection of keys;\n",
    "  * method `.values()` returns a collection of values;\n",
    "  * method `.clear()` removes all items from a dictionary;\n",
    "  * operator `del` deletes an item by its key.\n",
    "  \n",
    "Click on [this link](https://www.programiz.com/python-programming/methods/dictionary) if you want to learn more.\n",
    "\n",
    "First of all, it is possible to separate a dictionary into independent collections of keys and list of values."
   ]
  },
  {
   "cell_type": "code",
   "execution_count": null,
   "metadata": {},
   "outputs": [],
   "source": [
    "zip_codes = {\"Stony Brook\": [11733, 11790, 11794],\n",
    "             \"Port Jefferson\": [11777],\n",
    "             \"Lake Grove\": [11755, 11790]\n",
    "            }"
   ]
  },
  {
   "cell_type": "markdown",
   "metadata": {},
   "source": [
    "Method `.keys()` returns a collection of keys from a dictionary, and it can easily be typecasted into a list."
   ]
  },
  {
   "cell_type": "code",
   "execution_count": null,
   "metadata": {},
   "outputs": [],
   "source": [
    "print(\"Keys:            \", zip_codes.keys())\n",
    "print(\"Keys (as a list):\", list(zip_codes.keys()))"
   ]
  },
  {
   "cell_type": "markdown",
   "metadata": {},
   "source": [
    "Method `.values()` returns a collection of values, and it also can easily be typecasted into a list."
   ]
  },
  {
   "cell_type": "code",
   "execution_count": null,
   "metadata": {},
   "outputs": [],
   "source": [
    "print(\"Values:            \", zip_codes.values())\n",
    "print(\"Values (as a list):\", list(zip_codes.values()))"
   ]
  },
  {
   "cell_type": "markdown",
   "metadata": {},
   "source": [
    "**Practice 1.** Create a list of keys in `zip_codes` using a list comprehension."
   ]
  },
  {
   "cell_type": "code",
   "execution_count": null,
   "metadata": {},
   "outputs": [],
   "source": []
  },
  {
   "cell_type": "markdown",
   "metadata": {},
   "source": [
    "**Practice 2.** Now create a list of values in `zip_codes` using a list comprehension."
   ]
  },
  {
   "cell_type": "code",
   "execution_count": null,
   "metadata": {},
   "outputs": [],
   "source": []
  },
  {
   "cell_type": "markdown",
   "metadata": {},
   "source": [
    "The operator `del` removes an item from a dictionary. When we were looking at the list methods, we saw the `del` deletes an item by its index. Dictionary items do not have indices, but they have keys, so `del` deletes an object from a dictionary _by key_."
   ]
  },
  {
   "cell_type": "code",
   "execution_count": null,
   "metadata": {},
   "outputs": [],
   "source": [
    "del zip_codes[\"Stony Brook\"]\n",
    "print(zip_codes)"
   ]
  },
  {
   "cell_type": "markdown",
   "metadata": {},
   "source": [
    "Finally, method `.clear()` wipes the dictionary:"
   ]
  },
  {
   "cell_type": "code",
   "execution_count": null,
   "metadata": {
    "scrolled": true
   },
   "outputs": [],
   "source": [
    "zip_codes.clear()\n",
    "print(zip_codes)"
   ]
  },
  {
   "cell_type": "markdown",
   "metadata": {},
   "source": [
    "**Example.** We are given lists `fruits` and `prices`."
   ]
  },
  {
   "cell_type": "code",
   "execution_count": null,
   "metadata": {},
   "outputs": [],
   "source": [
    "fruits = [\"banana\", \"apple\", \"apple\", \"peach\", \"kiwi\", \"kiwi\", \"kiwi\"]\n",
    "prices = [\"$1.20\", \"$0.87\", \"$0.48\", \"$2.9\", \"$0.93\", \"$1.48\", \"$1.05\"]"
   ]
  },
  {
   "cell_type": "markdown",
   "metadata": {},
   "source": [
    "It means that the only observed price of a banana is $\\$1.20$. In different stores, apples cost $\\$0.87$ and $\\$0.48$, and so on. We want to create a dictionary that will store all the prices in the following way:\n",
    "\n",
    "    {'banana': ['$1.20'], 'apple': ['$0.87', '$0.48'], 'peach': ['$2.9'], 'kiwi': ['$0.93', '$1.48', '$1.05']}"
   ]
  },
  {
   "cell_type": "code",
   "execution_count": null,
   "metadata": {},
   "outputs": [],
   "source": [
    "fruit_prices = {}\n",
    "for i in range(len(fruits)):\n",
    "    if fruits[i] not in fruit_prices:\n",
    "        fruit_prices[fruits[i]] = [prices[i]]\n",
    "    else:\n",
    "        fruit_prices[fruits[i]].append(prices[i])\n",
    "print(fruit_prices)"
   ]
  },
  {
   "cell_type": "markdown",
   "metadata": {},
   "source": [
    "**Practice.** An easy way to calculate a sum of all numbers before a certain integer (excluding that integer) is the following one:"
   ]
  },
  {
   "cell_type": "code",
   "execution_count": null,
   "metadata": {},
   "outputs": [],
   "source": [
    "a = 8\n",
    "print(\"1 + 2 + 3 + 4 + 5 + 6 + 7 =\", sum(range(a)))\n",
    "\n",
    "b = 16\n",
    "print(\"1 + 2 + 3 + ... + 14 + 15 =\", sum(range(b)))"
   ]
  },
  {
   "cell_type": "markdown",
   "metadata": {},
   "source": [
    "Create a dictionary where keys will be natural numbers from $1$ to $10$. For every key $n$, its value is the sum of all numbers from $0$ up to $n-1$.\n",
    "\n",
    "    sums = {1: 0, 2: 1, 3: 3, 4: 6, 5: 10, 6: 15, 7: 21, 8: 28, 9: 36, 10: 45}"
   ]
  },
  {
   "cell_type": "code",
   "execution_count": null,
   "metadata": {},
   "outputs": [],
   "source": []
  },
  {
   "cell_type": "markdown",
   "metadata": {},
   "source": [
    "## Advanced section: `map`\n",
    "\n",
    "There is a way to \"map\" every single item of a given iterable to a new value using `map`. \n",
    "    \n",
    "    new_iterable = map(function, old_iterable)\n",
    "    \n",
    "The parameter `function` represents any function such as `len`, `sum`, `range`, or others. `map` creates a _map_ object that can be easily converted to a list. (You can also use a function name that you will define by yourself, and we will learn how to do it soon!)"
   ]
  },
  {
   "cell_type": "code",
   "execution_count": null,
   "metadata": {},
   "outputs": [],
   "source": [
    "lengths = map(len, words)\n",
    "print(\"Map object:\", lengths)\n",
    "print(\"Map object:\", list(lengths))"
   ]
  },
  {
   "cell_type": "markdown",
   "metadata": {},
   "source": [
    "**A very advanced question:** You are given the `initial_range`."
   ]
  },
  {
   "cell_type": "code",
   "execution_count": null,
   "metadata": {},
   "outputs": [],
   "source": [
    "initial_range = list(range(12))\n",
    "print(initial_range)"
   ]
  },
  {
   "cell_type": "markdown",
   "metadata": {},
   "source": [
    "Find a way to create the following list (the shape of the representation doesn't matter):\n",
    "\n",
    "        [[],\n",
    "         [0],\n",
    "         [0, 1],\n",
    "         [0, 1, 2],\n",
    "         [0, 1, 2, 3],\n",
    "         [0, 1, 2, 3, 4],\n",
    "         [0, 1, 2, 3, 4, 5],\n",
    "         [0, 1, 2, 3, 4, 5, 6],\n",
    "         [0, 1, 2, 3, 4, 5, 6, 7],\n",
    "         [0, 1, 2, 3, 4, 5, 6, 7, 8],\n",
    "         [0, 1, 2, 3, 4, 5, 6, 7, 8, 9],\n",
    "         [0, 1, 2, 3, 4, 5, 6, 7, 8, 9, 10]]\n",
    "         \n",
    "You might need to use `map` twice!"
   ]
  },
  {
   "cell_type": "code",
   "execution_count": null,
   "metadata": {},
   "outputs": [],
   "source": []
  },
  {
   "cell_type": "markdown",
   "metadata": {},
   "source": [
    "# Homework 5\n",
    "\n",
    "**Due on Sunday, October 6th, 11.59pm**\n",
    "\n",
    "Send your notebook (don't forget to save your solutions!) to <alena.aksenova@stonybrook.edu> with the subject **\\[CompLing1\\] Homework 5**."
   ]
  },
  {
   "cell_type": "markdown",
   "metadata": {},
   "source": [
    "**Problem 1.** Below you will find several codes that build lists. Rewrite these codes using list comprehensions.\n",
    "\n",
    "**Subproblem A.** No list comprehension:"
   ]
  },
  {
   "cell_type": "code",
   "execution_count": null,
   "metadata": {},
   "outputs": [],
   "source": [
    "words = [\"apple\", \"banana\", \"kiwi\", \"orange\"]\n",
    "masked_words = []\n",
    "\n",
    "for w in words:\n",
    "    masked_words.append(\"UNK\")\n",
    "    \n",
    "print(masked_words)"
   ]
  },
  {
   "cell_type": "markdown",
   "metadata": {},
   "source": [
    "List comprehension:"
   ]
  },
  {
   "cell_type": "code",
   "execution_count": null,
   "metadata": {},
   "outputs": [],
   "source": [
    "# your code"
   ]
  },
  {
   "cell_type": "markdown",
   "metadata": {},
   "source": [
    "**Subproblem B.** No list comprehension:"
   ]
  },
  {
   "cell_type": "code",
   "execution_count": null,
   "metadata": {},
   "outputs": [],
   "source": [
    "names = [\"andrew\", \"Mary\", \"jimmy\", \"Noam\"]\n",
    "title_names = []\n",
    "\n",
    "for name in names:\n",
    "    if name.istitle():\n",
    "        title_names.append(name)\n",
    "        \n",
    "print(title_names)"
   ]
  },
  {
   "cell_type": "markdown",
   "metadata": {},
   "source": [
    "List comprehension:"
   ]
  },
  {
   "cell_type": "code",
   "execution_count": null,
   "metadata": {},
   "outputs": [],
   "source": [
    "# your code"
   ]
  },
  {
   "cell_type": "markdown",
   "metadata": {},
   "source": [
    "**Subproblem C.** No list comprehension:"
   ]
  },
  {
   "cell_type": "code",
   "execution_count": null,
   "metadata": {},
   "outputs": [],
   "source": [
    "numbers = range(30)\n",
    "even = []\n",
    "\n",
    "for i in numbers:\n",
    "    if i % 2 == 0:\n",
    "        even.append(i)\n",
    "        \n",
    "print(even)"
   ]
  },
  {
   "cell_type": "markdown",
   "metadata": {},
   "source": [
    "List comprenension:"
   ]
  },
  {
   "cell_type": "code",
   "execution_count": null,
   "metadata": {},
   "outputs": [],
   "source": [
    "# your code"
   ]
  },
  {
   "cell_type": "markdown",
   "metadata": {},
   "source": [
    "**Problem 2.** You are given the following lists: `text` and `words`."
   ]
  },
  {
   "cell_type": "code",
   "execution_count": null,
   "metadata": {},
   "outputs": [],
   "source": [
    "text = ['a', 'infinity', 'reflection', 'with', 'like', 'big', 'briefly', 'into', 'children', 'which', \n",
    "        'fruit', 'picking', 'there', 'try', 'little', 'around', 'appearances', 'appeared', 'all', \n",
    "        'crossed', 'basis', 'improbability', 'their', 'discworld', 'black', 'to', 'death', 'future', \n",
    "        'only', 'my', 'robe', 'things', 'for', 'it', 'existed', 'said', 'sake', 'sometimes', 'right', \n",
    "        'way', 'that', 'country', 'chessboard', 'quoth', 'well', 'domestic', 'skull', 'wonderful', \n",
    "        'hooded', 'or', 'empty', 'bottom', 'mirror', 'himself', 'rather', 'over', 'every', 'triangle', \n",
    "        'roses', 'border', 'orbiting', 'was', 'from', 'show', 'be', 'pecked', 'bones', 'just', 'universe', \n",
    "        'me', 'triangular', 'gets', 'worth', 'have', 'climbed', 'service', 'fluttered', 'top', 'but', \n",
    "        'grey', 'claws', 'at', 'rats', 'creep', 'own', 'pattern', 'point', 'white', 'than', 'dark', \n",
    "        'therefore', 'frame', 'this', 'not', 'the', 'could', 'mind', 'turtle', 'scrabble', 'better', \n",
    "        'industries', 'looked', 'an', 'cherubs', 'life', 'anything', 'more', 'small', 'and', 'of', 'his', \n",
    "        'on', 'skulls', 'elephants', 'in', 'thoughts', 'seen', 'nearest', 'expectantly', 'other', 'side', \n",
    "        'shape', 'total', 'so', 'world', 'look', 'sun']\n",
    "\n",
    "words = [\"shape\", \"lingusitics\", \"every\", \"even\", \"world\", \"chessboard\", \"water\", \"sake\"]"
   ]
  },
  {
   "cell_type": "markdown",
   "metadata": {},
   "source": [
    "Create a dicionary where words from the list `words` are the keys, and their values are `True` or `False` depending on these words being present in `text` or not. Expected output:\n",
    "    \n",
    "    {'shape': True, 'lingusitics': False, 'every': True, 'even': False, 'world': True, \n",
    "     'chessboard': True, 'water': False, 'sake': True}"
   ]
  },
  {
   "cell_type": "code",
   "execution_count": null,
   "metadata": {},
   "outputs": [],
   "source": []
  },
  {
   "cell_type": "markdown",
   "metadata": {},
   "source": [
    "**Problem 3. (optional)** You are given the following list of numbers:"
   ]
  },
  {
   "cell_type": "code",
   "execution_count": null,
   "metadata": {},
   "outputs": [],
   "source": [
    "numbers = [1, 2, 3, 4, 5]"
   ]
  },
  {
   "cell_type": "markdown",
   "metadata": {},
   "source": [
    "Find a way to get the following output:\n",
    "\n",
    "    [2.0, 1.5, 1.3333333333333333, 1.25]\n",
    "    \n",
    "Notice, that $2 / 1 = 2$, $3 / 2 = 1.5$, and so on. Use a list comprehension if you can."
   ]
  },
  {
   "cell_type": "code",
   "execution_count": null,
   "metadata": {},
   "outputs": [],
   "source": []
  }
 ],
 "metadata": {
  "kernelspec": {
   "display_name": "Python 3",
   "language": "python",
   "name": "python3"
  },
  "language_info": {
   "codemirror_mode": {
    "name": "ipython",
    "version": 3
   },
   "file_extension": ".py",
   "mimetype": "text/x-python",
   "name": "python",
   "nbconvert_exporter": "python",
   "pygments_lexer": "ipython3",
   "version": "3.6.8"
  }
 },
 "nbformat": 4,
 "nbformat_minor": 2
}
