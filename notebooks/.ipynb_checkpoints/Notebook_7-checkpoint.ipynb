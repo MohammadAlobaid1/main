{
 "cells": [
  {
   "cell_type": "markdown",
   "metadata": {
    "colab_type": "text",
    "id": "u-SV1VxmZ7Iu"
   },
   "source": [
    "<div style=\"text-align: right\">\n",
    "    <i>\n",
    "        LIN 537: Computational Lingusitics 1 <br>\n",
    "        Fall 2019 <br>\n",
    "        Alëna Aksënova\n",
    "    </i>\n",
    "</div>\n",
    "\n",
    "# Notebook 7: while, break, continue, all, any\n",
    "\n",
    "This notebook explains operators `break` and `continue`. It when introduces `while` loops, and demonstrates how they can be used based on the example of text generation. Lastly, it introduces functions `all` and `any`."
   ]
  },
  {
   "cell_type": "markdown",
   "metadata": {},
   "source": [
    "**Practice.** Print all prime numbers in-between $2$ and $10$. A number is _prime_ if it cannot be divided by anything apart from $1$ and that number by itself. Additionally, [$1$ is not a prime number](https://primes.utm.edu/notes/faq/one.html)!\n",
    "\n",
    "_Hint:_ assume that a number is prime, check if it can be divided by anything apart from $1$ or the number by itself, and if it can, change the assumption. In other words, you might want to implement a flag."
   ]
  },
  {
   "cell_type": "code",
   "execution_count": null,
   "metadata": {},
   "outputs": [],
   "source": []
  },
  {
   "cell_type": "markdown",
   "metadata": {},
   "source": [
    "When the code above is being run, it spends some time in a \"useless\" way: when we switched the `prime` flag to `False`, it still will check the rest of the divisors, even if we already know that the number is not prime.\n",
    "\n",
    "## `break` statement\n",
    "\n",
    "The keyword `break` breaks the loop in which it is used. The code below will stop executing the loop in case `condition_1` is true.\n",
    "\n",
    "    for item in list_1:\n",
    "        if condition_1:\n",
    "            break"
   ]
  },
  {
   "cell_type": "code",
   "execution_count": null,
   "metadata": {},
   "outputs": [],
   "source": [
    "numbers = [1, 3, 5, 7, 8, 9, 11]\n",
    "for number in numbers:\n",
    "    if number % 2 == 0:\n",
    "        break\n",
    "    else:\n",
    "        print(number, end=\" \")"
   ]
  },
  {
   "cell_type": "markdown",
   "metadata": {},
   "source": [
    "The code above is excessive as well: if `break` is executed, we break out of the loop. Therefore, we can safely assume that if we are still in the loop, the condition in `if` was not true."
   ]
  },
  {
   "cell_type": "code",
   "execution_count": null,
   "metadata": {},
   "outputs": [],
   "source": [
    "numbers = [1, 3, 5, 7, 8, 9, 11]\n",
    "for number in numbers:\n",
    "    if number % 2 == 0:\n",
    "        break\n",
    "    print(number, end=\" \")"
   ]
  },
  {
   "cell_type": "markdown",
   "metadata": {},
   "source": [
    "However, assume that we have several nested `for`-loops. The statement `break` breaks out the loop where it is used.\n",
    "\n",
    "    for item_1 in list_1:\n",
    "        for item_2 in list_2:\n",
    "            if condition:\n",
    "                break\n",
    "                \n",
    "The code above will break out of the loop iterating the `list_2`, however, it will not affect in any other way the external loop.\n",
    "\n",
    "**Example.** Assume that we have a dictionary and a list of sentences. We want to save sentences in a separate list only if there is a word in that sentence that cannot be found in the dictionary. In other words, we want to save sentences that contain \"unknown\" words."
   ]
  },
  {
   "cell_type": "code",
   "execution_count": null,
   "metadata": {},
   "outputs": [],
   "source": [
    "dictionary = [\"Mary\", \"Bill\", \"John\", \"likes\", \"drinks\", \"swimming\", \"skiing\", \"is\", \"a\", \"and\", \"blogger\"]\n",
    "sentences = [\"Mary likes skiing\", \"Bill drinks covfefe and tea\", \"John likes swimming\", \n",
    "             \"John is a solopreneur and a blogger\"]\n",
    "\n",
    "new_sentences = []\n",
    "\n",
    "for sent in sentences:\n",
    "    words = sent.split()\n",
    "    \n",
    "    for w in words:\n",
    "        if w not in dictionary:\n",
    "            new_sentences.append(sent)\n",
    "            break\n",
    "    \n",
    "print(new_sentences)"
   ]
  },
  {
   "cell_type": "markdown",
   "metadata": {},
   "source": [
    "As soon as the unknown word was detected in the sentence, we added that sentence in the new list: there is not reason to spend time/memory and to scan that sentence further!\n",
    "\n",
    "**Practice.** Rewrite the code printing all prime numbers from $2$ to $10$ in a more efficient way by using the `break` statement."
   ]
  },
  {
   "cell_type": "code",
   "execution_count": null,
   "metadata": {},
   "outputs": [],
   "source": []
  },
  {
   "cell_type": "markdown",
   "metadata": {},
   "source": [
    "**Practice.** You are given a list of adjectives describing weather. Loop over every adjective and ask the user if it describes today's weather. If the user answers \"yes\", react somehow and stop there.\n",
    "\n",
    "    Is it sunny today? nope\n",
    "    Is it rainy today? no\n",
    "    Is it cloudy today? no\n",
    "    Is it dry today? no\n",
    "    Is it foggy today? yes\n",
    "    Got it!"
   ]
  },
  {
   "cell_type": "code",
   "execution_count": null,
   "metadata": {},
   "outputs": [],
   "source": [
    "weather = [\"sunny\", \"rainy\", \"cloudy\", \"dry\", \"foggy\", \"clear\", \"freezing\"]\n",
    "\n"
   ]
  },
  {
   "cell_type": "markdown",
   "metadata": {},
   "source": [
    "## `continue` statement\n",
    "\n",
    "The `continue` statement skips the rest of the code in the iteration where it is executed.\n",
    "\n",
    "    for item in list:\n",
    "        if condition:\n",
    "            continue\n",
    "        rest_of_the_code\n",
    "        \n",
    "If `condition` is true, the `continue` is executed, and `item` right away takes the next available value without executing the rest of the code."
   ]
  },
  {
   "cell_type": "code",
   "execution_count": null,
   "metadata": {},
   "outputs": [],
   "source": [
    "numbers = [1, 3, 5, 7, 8, 9, 10, 11]\n",
    "\n",
    "for n in numbers:\n",
    "    if n % 2 == 0:\n",
    "        continue\n",
    "        \n",
    "    print(\"Number\", n, \"is odd.\")"
   ]
  },
  {
   "cell_type": "markdown",
   "metadata": {},
   "source": [
    "**Practice.** The code below asks user for a word. For every consonant in this word, print its index in the alphabet."
   ]
  },
  {
   "cell_type": "code",
   "execution_count": null,
   "metadata": {},
   "outputs": [],
   "source": [
    "alphabet = \"abcdefghijklmnopqrstuvwxyz\"\n",
    "consonants = \"bcdfghjklmnpqrstvwxz\"\n",
    "\n",
    "word = input(\"Word: \")\n",
    "for s in word:\n",
    "    if s in consonants:\n",
    "        index = alphabet.find(s)\n",
    "        print(\"The consonant is\", s, \"and its index is\", index)"
   ]
  },
  {
   "cell_type": "markdown",
   "metadata": {},
   "source": [
    "Rewrite the code above using the `continue` statement. We want to skip the rest of the code within the loop if the symbol is not a consonant!"
   ]
  },
  {
   "cell_type": "code",
   "execution_count": null,
   "metadata": {},
   "outputs": [],
   "source": []
  },
  {
   "cell_type": "markdown",
   "metadata": {},
   "source": [
    "The code that uses `continue` statement in the beginning of the code block is easy to read and understand: it works as a \"pre-condition\" while helping us to avoid excessive indentation."
   ]
  },
  {
   "cell_type": "markdown",
   "metadata": {},
   "source": [
    "## `while` loops\n",
    "\n",
    "While `for` loops allow us to iterate a container and access its values one-by-one, `while` loops help us to keep executing some code block until a certain condition is true.\n",
    "\n",
    "    while condition:\n",
    "        # code that will be executed while condition is true\n",
    "        \n",
    "The code below prints numbers from 0 to $10$."
   ]
  },
  {
   "cell_type": "code",
   "execution_count": null,
   "metadata": {},
   "outputs": [],
   "source": [
    "number = 0\n",
    "while number <= 10:\n",
    "    print(number, end=\" \")\n",
    "    number += 1"
   ]
  },
  {
   "cell_type": "markdown",
   "metadata": {},
   "source": [
    "**Warning:** if you are writing a code that includes a `while` loop, _always_ make sure that it will eventually finish.\n",
    "\n",
    "**Question:** what is wrong with the following code?\n",
    "\n",
    "    number = 0\n",
    "    while number <= 10:\n",
    "        print(number)\n",
    "        \n",
    "Or, for example, we can write a code that asks a user to provide a unique words. We will stop asking the user for the words as soon as they repeated themselves."
   ]
  },
  {
   "cell_type": "code",
   "execution_count": null,
   "metadata": {},
   "outputs": [],
   "source": [
    "words = []\n",
    "new_word = input(\"Give me a unique word: \")\n",
    "\n",
    "while new_word not in words:\n",
    "    words.append(new_word)\n",
    "    new_word = input(\"Give me a unique word: \")\n",
    "    \n",
    "print(\"You are repeating yourself!\")"
   ]
  },
  {
   "cell_type": "markdown",
   "metadata": {},
   "source": [
    "**Question 1.** What is wrong with this code?\n",
    "\n",
    "    words = []\n",
    "    new_word = input(\"Give me a unique word: \")\n",
    "    while new_word not in words:\n",
    "        words.append(new_word)\n",
    "        user_input = input(\"Give me a unique word: \")\n",
    "    print(\"You are repeating yourself!\")\n",
    "    \n",
    "**Question 2.** What is wrong with this code?\n",
    "\n",
    "    words = []\n",
    "    new_word = input(\"Give me a unique word: \")\n",
    "    words.append(new_word)\n",
    "    while new_word not in words:\n",
    "        new_word = input(\"Give me a unique word: \")\n",
    "        words.append(new_word)\n",
    "    print(\"You are repeating yourself!\")"
   ]
  },
  {
   "cell_type": "markdown",
   "metadata": {},
   "source": [
    "**Practice.** Using a `while` loop, write a code that will print symbols of a given word and its their indices.\n",
    "\n",
    "    input:   sky\n",
    "    output:  s 0\n",
    "             k 1\n",
    "             y 2"
   ]
  },
  {
   "cell_type": "code",
   "execution_count": null,
   "metadata": {},
   "outputs": [],
   "source": []
  },
  {
   "cell_type": "markdown",
   "metadata": {},
   "source": [
    "It is possible to use `break` and `continue` in `while` loops as well. The logic is exactly as it was before:\n",
    "  * `break` breaks out of the loop;\n",
    "  * `continue` will skip the rest of the code in the current state of the loop and will directly go to its beginning."
   ]
  },
  {
   "cell_type": "code",
   "execution_count": null,
   "metadata": {},
   "outputs": [],
   "source": [
    "words = []\n",
    "\n",
    "while True:\n",
    "    w = input(\"Give me a word: \")\n",
    "    if w not in words:\n",
    "        words.append(w)\n",
    "    else:\n",
    "        print(\"You just repeated yourself.\")\n",
    "        break"
   ]
  },
  {
   "cell_type": "code",
   "execution_count": null,
   "metadata": {},
   "outputs": [],
   "source": [
    "alphabet = \"abcdefghijklmnopqrstuvwxyz\"\n",
    "consonants = \"bcdfghjklmnpqrstvwxz\"\n",
    "\n",
    "word = input(\"Word: \")\n",
    "n = 0\n",
    "\n",
    "while n < len(word):\n",
    "    \n",
    "    if word[n] not in consonants:\n",
    "        n += 1\n",
    "        continue\n",
    "        \n",
    "    index = alphabet.find(word[n])\n",
    "    print(\"The consonant is\", word[n], \"and its index is\", index)\n",
    "    n += 1"
   ]
  },
  {
   "cell_type": "markdown",
   "metadata": {},
   "source": [
    "**Question:** In the code cell above, why do we need the `n += 1` statement right before `continue`?\n",
    "\n",
    "**Practice:** for a given number, keep substracting $0.5$ from it and printing the result on the screen until that number reaches $0$."
   ]
  },
  {
   "cell_type": "code",
   "execution_count": null,
   "metadata": {},
   "outputs": [],
   "source": []
  },
  {
   "cell_type": "markdown",
   "metadata": {},
   "source": [
    "## Text generation with bigrams\n",
    "\n",
    "TO BE ADDED"
   ]
  },
  {
   "cell_type": "markdown",
   "metadata": {},
   "source": [
    "# Homework 7\n",
    "\n",
    "**Due on Sunday, October 20th, 11.59pm**\n",
    "\n",
    "Send your notebook (don't forget to save your solutions!) to <alena.aksenova@stonybrook.edu> with the subject **\\[CompLing1\\] Homework 7**."
   ]
  },
  {
   "cell_type": "markdown",
   "metadata": {},
   "source": [
    "**Problem 1.** To get a random integer from some interval, we can use `randint` function from the package `random`. Run the following cell several times."
   ]
  },
  {
   "cell_type": "code",
   "execution_count": null,
   "metadata": {},
   "outputs": [],
   "source": [
    "import random\n",
    "random.randint(4, 8)"
   ]
  },
  {
   "cell_type": "markdown",
   "metadata": {},
   "source": [
    "Ask user for an integer from $1$ to $10$. Write code that will keep guessing the number that the user had in mind, stop when the guessed number is the same as the number provided by the user. Your output should look somehow like this:\n",
    "\n",
    "    Give me a number from 1 to 10: 9\n",
    "    Is 10 the number?\n",
    "    No...\n",
    "    Is 10 the number?\n",
    "    No...\n",
    "    Is 7 the number?\n",
    "    No...\n",
    "    Is 10 the number?\n",
    "    No...\n",
    "    Is 6 the number?\n",
    "    No...\n",
    "    Is 9 the number?\n",
    "    Cool, 9 is the number!"
   ]
  },
  {
   "cell_type": "code",
   "execution_count": null,
   "metadata": {},
   "outputs": [],
   "source": []
  },
  {
   "cell_type": "markdown",
   "metadata": {},
   "source": [
    "#### `all` and `any`\n",
    "\n",
    "For the next exercise you might find useful functions `all` and `any`.\n",
    "\n",
    "`all` takes a list of booleans as input and returns True if all those booleans are True. Intuitively, you can think of `all` as the operator that puts `and` in-between all those booleans and evaluates the result."
   ]
  },
  {
   "cell_type": "code",
   "execution_count": null,
   "metadata": {},
   "outputs": [],
   "source": [
    "print([True, True, True], \"   ->\", all([True, True, True]))\n",
    "print([True, False, True], \"  ->\", all([True, False, True]))\n",
    "print([False, False, False], \"->\", all([False, False, False]))"
   ]
  },
  {
   "cell_type": "markdown",
   "metadata": {},
   "source": [
    "`any` takes a list of booleans as input and returns True if at least one of those booleans is True. Intuitively, you can think of `any` as the operator that puts `or` in-between all those booleans and evaluates the result."
   ]
  },
  {
   "cell_type": "code",
   "execution_count": null,
   "metadata": {},
   "outputs": [],
   "source": [
    "print([True, True, True], \"   ->\", any([True, True, True]))\n",
    "print([True, False, True], \"  ->\", any([True, False, True]))\n",
    "print([False, False, False], \"->\", any([False, False, False]))"
   ]
  },
  {
   "cell_type": "markdown",
   "metadata": {},
   "source": [
    "**Problem 2.** The task of this exercise will be to evaluate strings from the Fake Turkish language and tell if the harmony rule is violated or not.\n",
    "\n",
    "In Fake Turkish, vowels can be front or back."
   ]
  },
  {
   "cell_type": "code",
   "execution_count": null,
   "metadata": {},
   "outputs": [],
   "source": [
    "front = [\"e\", \"i\", \"ö\", \"ü\"]\n",
    "back = [\"a\", \"ı\", \"o\", \"u\"]"
   ]
  },
  {
   "cell_type": "markdown",
   "metadata": {},
   "source": [
    "Within the same word, all vowels can be either front or back.\n",
    "\n",
    "    nekilüm -> good\n",
    "    almırdum -> good\n",
    "    özkanım -> bad\n",
    "    \n",
    "You are given the following list of Fake Turkish words."
   ]
  },
  {
   "cell_type": "code",
   "execution_count": null,
   "metadata": {},
   "outputs": [],
   "source": [
    "fake_turkish = [\"nekilüm\", \"almırdum\", \"özkanım\", \"karokum\", \"almalar\", \"dökulön\"]"
   ]
  },
  {
   "cell_type": "markdown",
   "metadata": {},
   "source": [
    "Create a dictionary where the keys will be the words listed in `fake_turkish` list, and the values are True or False depending on those words following the harmony rules.\n",
    "\n",
    "    Expected output:\n",
    "    {'nekilüm': True, 'almırdum': True, 'özkanım': False, 'karokum': True, 'almalar': True, 'dökulön': False}"
   ]
  },
  {
   "cell_type": "code",
   "execution_count": null,
   "metadata": {},
   "outputs": [],
   "source": []
  },
  {
   "cell_type": "markdown",
   "metadata": {},
   "source": [
    "**Problem 3.** Write a code that asks user for a word and tells if that word is a palindrome. _Palindrome_ is a word that reads the same backwards as forwards, for example, \"rotator\", \"kayak\", \"mom\", \"level\"."
   ]
  },
  {
   "cell_type": "code",
   "execution_count": null,
   "metadata": {},
   "outputs": [],
   "source": []
  }
 ],
 "metadata": {
  "colab": {
   "collapsed_sections": [],
   "name": "Notebook_6.ipynb",
   "provenance": []
  },
  "kernelspec": {
   "display_name": "Python 3",
   "language": "python",
   "name": "python3"
  },
  "language_info": {
   "codemirror_mode": {
    "name": "ipython",
    "version": 3
   },
   "file_extension": ".py",
   "mimetype": "text/x-python",
   "name": "python",
   "nbconvert_exporter": "python",
   "pygments_lexer": "ipython3",
   "version": "3.6.8"
  }
 },
 "nbformat": 4,
 "nbformat_minor": 1
}
