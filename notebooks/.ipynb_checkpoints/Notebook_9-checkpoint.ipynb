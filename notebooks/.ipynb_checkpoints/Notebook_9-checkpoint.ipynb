{
 "cells": [
  {
   "cell_type": "markdown",
   "metadata": {},
   "source": [
    "<div style=\"text-align: right\">\n",
    "    <i>\n",
    "        LIN 537: Computational Lingusitics 1 <br>\n",
    "        Fall 2019 <br>\n",
    "        Alëna Aksënova\n",
    "    </i>\n",
    "</div>\n",
    "\n",
    "# Notebook 9: classes and inheritance\n",
    "\n",
    "This notebook covers the notion of a `class` and introduces the notion of **object-oriented programming** (OOP) in comparison to the **functional** programming. As of the Python-specific knowledge, this notebook exemplifies how to define a new class, its attributes and its methods. It also shows how to inherit attributes and methods from parent classes."
   ]
  },
  {
   "cell_type": "markdown",
   "metadata": {},
   "source": [
    "We will focus on two **programming paradigms:** _functional_ programming and _OOP._\n",
    "Roughly speaking, **functional** programming implements the _actions,_ or functions, that map some input to some output. **Object-oriented** programming instead defines objects, and then describes how these objects can be modified. Intuitively: focus on the functions/procedures vs. focus on the properties of the objects.\n",
    "\n",
    "Before we learned how to define custom functions using `def` or `lambda`, and it is possible to define custom classes as well."
   ]
  },
  {
   "cell_type": "markdown",
   "metadata": {},
   "source": [
    "## Class definition\n",
    "\n",
    "A **class** is a representation of an object. For example, this object can have the following properties:\n",
    "\n",
    "  * name: Car\n",
    "  * attributes: Car.make (i.e. Jeep), Car.color (i.e. black), Car.year (i.e. 2006)\n",
    "  * methods: Car.get_fuel(), Car.drive(speed), Car.lock()\n",
    "  \n",
    "In Python, these properties (attributes and methods) need to be listed in the _class definition._ In order to define a new class, we use the `class` operator followed by a name of the class.\n",
    "\n",
    "    class NewObject(object):\n",
    "        # code\n",
    "        \n",
    "In the parenthesis after the name of the class we list classes from which some functionality will be _inherited,_ but if none of such classes exist, the conventional way is to write `object` there. It simply means that we are instantiating an object."
   ]
  },
  {
   "cell_type": "code",
   "execution_count": null,
   "metadata": {},
   "outputs": [],
   "source": [
    "class Rectangle(object):\n",
    "    \n",
    "    # operator that means \"do nothing\"\n",
    "    pass"
   ]
  },
  {
   "cell_type": "markdown",
   "metadata": {},
   "source": [
    "## Attributes definition\n",
    "\n",
    "The next step will be to list properties, or **attributes,** of that object, i.e. color, size, make, etc. Attributes do not refer to any actions, they simply describe the features of that object.\n",
    "\n",
    "    class NewObject(object):\n",
    "    \n",
    "        def __init__(self, make, year):\n",
    "            self.make = make\n",
    "            self.year = year\n",
    "            \n",
    "The function `__init__` _always_ must be present in the class definition: it will instantiate properties of that class. Notice the `self` argument of this function: it basically means that this function, or _method,_ is operating on the class itself. `__init__` initializes the attributes of the class `NewObject`."
   ]
  },
  {
   "cell_type": "code",
   "execution_count": null,
   "metadata": {},
   "outputs": [],
   "source": [
    "class Rectangle(object):\n",
    "    \n",
    "    def __init__(self, side_1, side_2, color):\n",
    "        self.side_1 = side_1\n",
    "        self.side_2 = side_2\n",
    "        self.color = color"
   ]
  },
  {
   "cell_type": "markdown",
   "metadata": {},
   "source": [
    "Here, we are initializing a class `Rectangle`, and it will have 3 attributes: `side_1`, `side_2` and `color`. Whatever arguments `__init__` takes, except `self`, must be provided as arguments of the class itself upon initialization."
   ]
  },
  {
   "cell_type": "code",
   "execution_count": null,
   "metadata": {},
   "outputs": [],
   "source": [
    "x = Rectangle(5, 3, \"red\")"
   ]
  },
  {
   "cell_type": "markdown",
   "metadata": {},
   "source": [
    "Now when the class is initialized, we can access its attributes directly. **Dot operator** is used to access an attribute or a method of a particular class:\n",
    "    \n",
    "    class_name.attribute_name\n",
    "    class_name.method_name(arg1, arg2)"
   ]
  },
  {
   "cell_type": "code",
   "execution_count": null,
   "metadata": {},
   "outputs": [],
   "source": [
    "print(x.color)"
   ]
  },
  {
   "cell_type": "markdown",
   "metadata": {},
   "source": [
    "Notice that the names of the arguments of `__init__` and the names of the attributes don't need to match, but it is a convention to have them matching."
   ]
  },
  {
   "cell_type": "code",
   "execution_count": null,
   "metadata": {},
   "outputs": [],
   "source": [
    "class A(object):\n",
    "    def __init__(self, some_color, some_year):\n",
    "        self.color = some_color\n",
    "        self.year = some_year\n",
    "        \n",
    "obj = A(\"red\", 2004)\n",
    "print(\"Color:\", obj.color)\n",
    "print(\"Year:\", obj.year)"
   ]
  },
  {
   "cell_type": "markdown",
   "metadata": {},
   "source": [
    "The value of the attributes can be changed directly. (The situation will become more complicated if we are working with _protected_ values.)"
   ]
  },
  {
   "cell_type": "code",
   "execution_count": null,
   "metadata": {},
   "outputs": [],
   "source": [
    "print(\"Old side:\", x.side_2)\n",
    "x.side_2 = 10\n",
    "print(\"New side:\", x.side_2)"
   ]
  },
  {
   "cell_type": "markdown",
   "metadata": {},
   "source": [
    "If we have more that one object defined, dot operator helps us not to get confused in attributes of different objects:"
   ]
  },
  {
   "cell_type": "code",
   "execution_count": null,
   "metadata": {},
   "outputs": [],
   "source": [
    "a = Rectangle(5, 3, \"red\")\n",
    "b = Rectangle(1, 10, \"blue\")\n",
    "\n",
    "print(\"Color or A:\", a.color)\n",
    "print(\"Color or B:\", b.color)"
   ]
  },
  {
   "cell_type": "markdown",
   "metadata": {},
   "source": [
    "**Practice:** set up the classes for the following objects: `Book`, `Door`, `Cat`."
   ]
  },
  {
   "cell_type": "code",
   "execution_count": null,
   "metadata": {},
   "outputs": [],
   "source": []
  },
  {
   "cell_type": "markdown",
   "metadata": {},
   "source": [
    "## Methods definition\n",
    "\n",
    "Now let us define some methods. They look like functions defined inside classes. The crucial difference is that methods must have `self` as the first argument: it simply means that that function/method is applied to the object itself.\n",
    "\n",
    "    class NewObject(object):\n",
    "    \n",
    "        def __init__(self, make, year):\n",
    "            self.make = make\n",
    "            self.year = year\n",
    "            \n",
    "        def method_1(self, arg1, arg2):\n",
    "            # code"
   ]
  },
  {
   "cell_type": "code",
   "execution_count": null,
   "metadata": {},
   "outputs": [],
   "source": [
    "class Rectangle(object):\n",
    "    \n",
    "    def __init__(self, side_1, side_2, color):\n",
    "        self.side_1 = side_1\n",
    "        self.side_2 = side_2\n",
    "        self.color = color\n",
    "        \n",
    "    def calculate_area(self):\n",
    "        return self.side_1 * self.side_2"
   ]
  },
  {
   "cell_type": "markdown",
   "metadata": {},
   "source": [
    "The method `calculate_area` in the code above requires no arguments apart from `self` because the information about the sides does not need to be provided: _it is already available!_ Calling `self.side_1` and `self.side_2` allows us to get that information."
   ]
  },
  {
   "cell_type": "code",
   "execution_count": null,
   "metadata": {},
   "outputs": [],
   "source": [
    "a = Rectangle(5, 3, \"red\")\n",
    "a.calculate_area()"
   ]
  },
  {
   "cell_type": "markdown",
   "metadata": {},
   "source": [
    "The method `calculate_area` calculates the area of the rectangle and returns the value. However, we can instead go ahead and save the value into a special attribute `area`. Notice that we do not expect `area` to be provided beforehand. **Every attribute, even if its value is not known yet, needs to be initialized inside the `__init__`.**"
   ]
  },
  {
   "cell_type": "code",
   "execution_count": null,
   "metadata": {},
   "outputs": [],
   "source": [
    "class Rectangle(object):\n",
    "    \n",
    "    def __init__(self, side_1, side_2, color):\n",
    "        self.side_1 = side_1\n",
    "        self.side_2 = side_2\n",
    "        self.color = color\n",
    "        self.area = None\n",
    "        \n",
    "    def calculate_area(self):\n",
    "        self.area = self.side_1 * self.side_2"
   ]
  },
  {
   "cell_type": "code",
   "execution_count": null,
   "metadata": {},
   "outputs": [],
   "source": [
    "a = Rectangle(5, 3, \"red\")\n",
    "a.calculate_area()"
   ]
  },
  {
   "cell_type": "code",
   "execution_count": null,
   "metadata": {
    "scrolled": true
   },
   "outputs": [],
   "source": [
    "a.area"
   ]
  },
  {
   "cell_type": "markdown",
   "metadata": {},
   "source": [
    "**Question:** is it possible for the `area` attribute to contain a wrong value?"
   ]
  },
  {
   "cell_type": "markdown",
   "metadata": {},
   "source": [
    "## TBA: inheritance, homework"
   ]
  },
  {
   "cell_type": "code",
   "execution_count": null,
   "metadata": {},
   "outputs": [],
   "source": []
  }
 ],
 "metadata": {
  "kernelspec": {
   "display_name": "Python 3",
   "language": "python",
   "name": "python3"
  },
  "language_info": {
   "codemirror_mode": {
    "name": "ipython",
    "version": 3
   },
   "file_extension": ".py",
   "mimetype": "text/x-python",
   "name": "python",
   "nbconvert_exporter": "python",
   "pygments_lexer": "ipython3",
   "version": "3.6.8"
  }
 },
 "nbformat": 4,
 "nbformat_minor": 2
}
