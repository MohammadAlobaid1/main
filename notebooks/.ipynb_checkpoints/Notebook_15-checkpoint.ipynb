{
 "cells": [
  {
   "cell_type": "markdown",
   "metadata": {
    "colab_type": "text",
    "id": "_3OV_5cSCk7V"
   },
   "source": [
    "<div style=\"text-align: right\">\n",
    "    <i>\n",
    "        LIN 537: Computational Lingusitics 1 <br>\n",
    "        Fall 2019 <br>\n",
    "        Alëna Aksënova ft. Joanne Chau\n",
    "    </i>\n",
    "</div>\n",
    "\n",
    "# Notebook 15: Trees and tree traversals \n",
    "\n",
    "In this notebook, we will learn a concept of **tree traversals** -- which refers to the process of checking and or updating each node of a **tree** structure _exactly once_. There are three types of tree traversals in which will be covered: _pre-order, in-order,_ and _post-order_ traversals."
   ]
  },
  {
   "cell_type": "markdown",
   "metadata": {},
   "source": [
    "## Implementation of trees\n",
    "\n",
    "**Tree** data structure can be implemented in Python as a _collection of nodes_ with the relations such as \"child\" defined in-between them. The basic item of the tree is a node, and we can define it using a class `Node`.\n",
    "\n",
    "Trees are extremely important for linguistics, and especially for those working on syntax. For the purpose of this course, we will be working only with the _binary trees,_ but the code can be generalized towards other types of branching as well.\n",
    "\n",
    "Consider the following implementation of `Node`. It has the following attributes:\n",
    "\n",
    "  * `label` stores the label of the node;\n",
    "  * `left_child` defines the left child of the node;\n",
    "  * `right_child` defines its right child."
   ]
  },
  {
   "cell_type": "code",
   "execution_count": null,
   "metadata": {},
   "outputs": [],
   "source": [
    "class Node():\n",
    "    \"\"\" Defines a node in a tree. \"\"\"\n",
    "    \n",
    "    def __init__(self, label, left_child = None, right_child = None):\n",
    "        self.label = label\n",
    "        self.left_child = left_child\n",
    "        self.right_child = right_child"
   ]
  },
  {
   "cell_type": "markdown",
   "metadata": {},
   "source": [
    "Now, let us encode a very simple binary tree given below.\n",
    "\n",
    "<img src=\"images/15_1.png\" width=\"200\">"
   ]
  },
  {
   "cell_type": "code",
   "execution_count": null,
   "metadata": {},
   "outputs": [],
   "source": [
    "NP = Node(\"NP\")\n",
    "VP = Node(\"VP\")\n",
    "S = Node(\"S\", left_child = NP, right_child = VP)"
   ]
  },
  {
   "cell_type": "markdown",
   "metadata": {},
   "source": [
    "Or, alternatively, we can define it as below."
   ]
  },
  {
   "cell_type": "code",
   "execution_count": null,
   "metadata": {},
   "outputs": [],
   "source": [
    "S = Node(\"S\", left_child = Node(\"NP\"), right_child = Node(\"VP\"))"
   ]
  },
  {
   "cell_type": "markdown",
   "metadata": {},
   "source": [
    "Now, it is easy to access labels of the nodes in that tree, starting from the root node."
   ]
  },
  {
   "cell_type": "code",
   "execution_count": null,
   "metadata": {},
   "outputs": [],
   "source": [
    "print(\"Root node:\", S.label)\n",
    "print(\"Left child of the root:\", S.left_child.label)\n",
    "print(\"Right child of the root:\", S.right_child.label)"
   ]
  },
  {
   "cell_type": "markdown",
   "metadata": {},
   "source": [
    "**Practice 1.** Implement the following tree. Print the value of the node `V`.\n",
    "\n",
    "<img src=\"images/15_2.png\" width=\"250\">"
   ]
  },
  {
   "cell_type": "code",
   "execution_count": null,
   "metadata": {},
   "outputs": [],
   "source": [
    "# your code"
   ]
  },
  {
   "cell_type": "markdown",
   "metadata": {},
   "source": [
    "**Practice 2.** define a method `is_leaf` within the class `Node` that will return True if the node is a leaf, and False otherwise. Remember, that the node is a **leaf** if it has no children."
   ]
  },
  {
   "cell_type": "code",
   "execution_count": null,
   "metadata": {},
   "outputs": [],
   "source": [
    "class Node():\n",
    "    \"\"\" Defines a node in a tree. \"\"\"\n",
    "    \n",
    "    def __init__(self, label, left_child = None, right_child = None):\n",
    "        self.label = label\n",
    "        self.left_child = left_child\n",
    "        self.right_child = right_child\n",
    "        \n",
    "    def is_leaf(self):\n",
    "        \"\"\" Tells if the node is a tree. \"\"\"\n",
    "        pass"
   ]
  },
  {
   "cell_type": "markdown",
   "metadata": {},
   "source": [
    "Test if using the following trees. Expect the following output:\n",
    "\n",
    "    Expected output:    S: False\n",
    "                       NP: True"
   ]
  },
  {
   "cell_type": "code",
   "execution_count": null,
   "metadata": {},
   "outputs": [],
   "source": [
    "NP = Node(\"NP\")\n",
    "VP = Node(\"VP\")\n",
    "S = Node(\"S\", left_child = NP, right_child = VP)\n",
    "\n",
    "# print(\" S:\", S.is_leaf())\n",
    "# print(\"NP:\", NP.is_leaf())"
   ]
  },
  {
   "cell_type": "markdown",
   "metadata": {},
   "source": [
    "## Traversals\n",
    "\n",
    "**\"Traverse\"** is a basic operation that are applied to data structures. When we traverse, we visit every element of the structure. For example, we have traversed lists in the past when we were looping throught them using `for`-loops: every item of the list was accessed exactly once.\n",
    "In **tree traverse**, we visit every node of the tree once. Unlike lists or strings, where there is a logical start and end to the traverse, there are different ways to approach traverse for trees.\n",
    "\n",
    "For example, consider the image below.\n",
    "Here, the labels are the orders in which the nodes are visited.\n",
    "So, we start from the root, then we proceed to its left child, then to the right one.\n",
    "Then we access the left child of the left child of the root, etc.\n",
    "\n",
    "\n",
    "<center>\n",
    "<img src = \"http://www.techgeekbuzz.com/wp-content/uploads/2019/09/Tree-Traversal.png\" width = \"400\">\n",
    "</center>\n",
    "<center>\n",
    "<i>Example of a tree traversal </i>\n",
    "</center>"
   ]
  },
  {
   "cell_type": "markdown",
   "metadata": {
    "colab_type": "text",
    "id": "7VAi8Ji6MVLb"
   },
   "source": [
    "## Tree traversals\n",
    "\n",
    "Unlike lists, trees can be read in different ways. For example, we can either go breadth-first (**breadth first traversals**), or first descent as deep as possible (**depth first traversal**). Usually they are called **breadth first search (BFS)** and **depth first search (DFS)** because search is a frequent reason to traverse a tree.\n",
    "\n",
    "In BFS, we start at the highest node and process the tree layer-by-layer, not looking at the nodes' children or sibling relationships. This is a linear processing of the tree.\n",
    "\n",
    "DFS is the opposite, where children of nodes come into considerations. We process the trees by looking into each of the nodes to process all its' children before moving to the next sibling. There are three types of depth first traversals: **pre-order**, **in-order**, and **post-order**. "
   ]
  },
  {
   "cell_type": "markdown",
   "metadata": {
    "colab_type": "text",
    "id": "Z_lAEkn29gWe"
   },
   "source": [
    "## Breadth First Search (BFS) and traversal\n",
    "\n",
    "BFS, also known as **Level Order Traversal**, traverses nodes in layers, or levels. Look at the diagram below: \n",
    "<center>\n",
    "<img src = \"https://he-s3.s3.amazonaws.com/media/uploads/fdec3c2.jpg\" width = \"400\">\n",
    "</center>\n",
    "<center>\n",
    "<i>Demonstration on how to read a level order traversal. </i>\n",
    "</center>\n",
    "\n",
    "This traversal always starts from the top of the tree. Imaging that each step of the tree is a layer, we read from the top down, left to right. In this tree (ignoring the weird braching), the traverse would read `0 1 2 3 4 5 6 7`. In this case, `0` would be our **root node**, i.e. the starting node of the tree."
   ]
  },
  {
   "cell_type": "markdown",
   "metadata": {},
   "source": [
    "For example, consider the encoding of the following tree.\n",
    "\n",
    "<img src=\"images/15_3.png\" width=\"250\">"
   ]
  },
  {
   "cell_type": "code",
   "execution_count": null,
   "metadata": {},
   "outputs": [],
   "source": [
    "tree = Node(\"3\")\n",
    "four = Node(\"4\")\n",
    "five = Node(\"5\")\n",
    "six = Node(\"6\")\n",
    "\n",
    "one = Node(\"1\", tree, four)\n",
    "two = Node(\"2\", five, six)\n",
    "\n",
    "zero = Node(\"0\", one, two)"
   ]
  },
  {
   "cell_type": "markdown",
   "metadata": {},
   "source": [
    "In order to avoid a long yet readable tree definition, we can use a more concise way."
   ]
  },
  {
   "cell_type": "code",
   "execution_count": null,
   "metadata": {},
   "outputs": [],
   "source": [
    "tree = Node(\"0\", Node(\"1\", Node(\"3\"), Node(\"4\")), Node(\"2\", Node(\"5\"), Node(\"6\")))"
   ]
  },
  {
   "cell_type": "markdown",
   "metadata": {},
   "source": [
    "The following code implements a method `level_order_traversal` for the class `Node`."
   ]
  },
  {
   "cell_type": "code",
   "execution_count": null,
   "metadata": {},
   "outputs": [],
   "source": [
    "class Node():\n",
    "    \"\"\" Defines a node in a tree. \"\"\"\n",
    "    \n",
    "    def __init__(self, label, left_child = None, right_child = None):\n",
    "        self.label = label\n",
    "        self.left_child = left_child\n",
    "        self.right_child = right_child\n",
    "    \n",
    "    \n",
    "    def level_order_traversal(self):\n",
    "        \"\"\" Implements the level-order traversal of a tree. \"\"\"\n",
    "        \n",
    "        # here we will save all the nodes that we explored already\n",
    "        explored = []\n",
    "        \n",
    "        # here we have out to-do list, we'll keep updating it\n",
    "        queue = [self]\n",
    "        \n",
    "        # while there is something in the queue, take its first element\n",
    "        while queue:\n",
    "            node = queue.pop(0)\n",
    "            \n",
    "            if node:\n",
    "                # mark the current node as explored, and add its children to the queue\n",
    "                explored.append(node)\n",
    "                queue.extend([node.left_child, node.right_child])\n",
    "                \n",
    "        # collect labels of the explored nodes\n",
    "        order = [i.label for i in explored]\n",
    "        return order"
   ]
  },
  {
   "cell_type": "code",
   "execution_count": null,
   "metadata": {},
   "outputs": [],
   "source": [
    "tree = Node(\"0\", Node(\"1\", Node(\"3\"), Node(\"4\")), Node(\"2\", Node(\"5\"), Node(\"6\")))\n",
    "print(tree.level_order_traversal())"
   ]
  },
  {
   "cell_type": "markdown",
   "metadata": {},
   "source": [
    "**Question.** Why do we need the code `if node:` in the `level_order_traversal` above?\n",
    "\n",
    "**Practice.** Using the code of the `level_order_traversal`, implement a method `BFS` that takes a label of a node as argument and returns all sub-nodes of the root with that label."
   ]
  },
  {
   "cell_type": "code",
   "execution_count": null,
   "metadata": {},
   "outputs": [],
   "source": [
    "class Node():\n",
    "    \"\"\" Defines a node in a tree. \"\"\"\n",
    "    \n",
    "    def __init__(self, label, left_child = None, right_child = None):\n",
    "        self.label = label\n",
    "        self.left_child = left_child\n",
    "        self.right_child = right_child\n",
    "    \n",
    "    \n",
    "    def level_order_traversal(self):\n",
    "        \"\"\" Implements the level-order traversal of a tree. \"\"\"\n",
    "        \n",
    "        explored = []\n",
    "        queue = [self]\n",
    "        \n",
    "        while queue:\n",
    "            node = queue.pop(0)\n",
    "            \n",
    "            if node:\n",
    "                explored.append(node)\n",
    "                queue.extend([node.left_child, node.right_child])\n",
    "                \n",
    "        order = [i.label for i in explored]\n",
    "        return order\n",
    "    \n",
    "\n",
    "    def BFS(self, label):\n",
    "        \"\"\" Implements breadth first search. \"\"\"\n",
    "        pass"
   ]
  },
  {
   "cell_type": "markdown",
   "metadata": {},
   "source": [
    "Test it in the following cell.\n",
    "\n",
    "    Expected output (example):\n",
    "        [<__main__.Node object at 0x7f3edc3f8240>, \n",
    "         <__main__.Node object at 0x7f3edc3f8a20>, \n",
    "         <__main__.Node object at 0x7f3edc3f8208>]"
   ]
  },
  {
   "cell_type": "code",
   "execution_count": null,
   "metadata": {},
   "outputs": [],
   "source": [
    "tree = Node(\"0\", Node(\"1\", Node(\"0\"), Node(\"4\")), Node(\"2\", Node(\"0\"), Node(\"6\")))\n",
    "\n",
    "# uncomment to test\n",
    "# print(tree.BFS(\"0\"))"
   ]
  },
  {
   "cell_type": "markdown",
   "metadata": {
    "colab_type": "text",
    "id": "_ibqPppA--vq"
   },
   "source": [
    "## Depth First Search (DFS) and traversals\n",
    "\n",
    "As mentioned earlier in the notebook, there are tree types of DFS. \n",
    "\n",
    "### Pre-Order Traversal\n",
    "\n",
    "In this traversal, we start at the root of the tree, read everything in it's left subtree first and then everything in the right subtree. When reading pre-order traversals, ensure that all children are read before moving over to the next subtree. Notice as you examine the diagram below that we finish the lowest subtrees first before moving along the tree. \n",
    "<center>\n",
    "<img src = \"https://www.gatevidyalay.com/wp-content/uploads/2018/07/Preorder-Traversal-Example.png\" width = \"400\">\n",
    "</center>\n",
    "<center>\n",
    "<i> Yield of a pre-order traversal </i>\n",
    "</center> \n",
    "\n",
    "<center>\n",
    "<img src = \"https://www.gatevidyalay.com/wp-content/uploads/2018/07/Preorder-Traversal-Shortcut-1.png\" width = \"400\">\n",
    "</center>\n",
    "<center>\n",
    "<i> Reading a pre-order traversal </i>\n",
    "</center> "
   ]
  },
  {
   "cell_type": "code",
   "execution_count": null,
   "metadata": {},
   "outputs": [],
   "source": [
    "class Node():\n",
    "    \"\"\" Defines a node in a tree. \"\"\"\n",
    "    \n",
    "    def __init__(self, label, left_child = None, right_child = None):\n",
    "        self.label = label\n",
    "        self.left_child = left_child\n",
    "        self.right_child = right_child\n",
    "\n",
    "        \n",
    "    def preorder(self):\n",
    "        \"\"\" Performs a pre-order traversal of the tree. \"\"\"\n",
    "\n",
    "        print(self.label, end=\" \")\n",
    "\n",
    "        if self.left_child:\n",
    "            self.left_child.preorder()\n",
    "\n",
    "        if self.right_child:\n",
    "            self.right_child.preorder()\n",
    "            \n",
    "            \n",
    "    def DFS(self, label):\n",
    "        \"\"\" Implements breadth first search. \"\"\"\n",
    "        \n",
    "        nodes_found = []\n",
    "        if self.label == label:\n",
    "            nodes_found.append(self)\n",
    "        \n",
    "        if self.left_child:\n",
    "            nodes_found.extend(self.left_child.DFS(label))\n",
    "            \n",
    "        if self.right_child:\n",
    "            nodes_found.extend(self.right_child.DFS(label))\n",
    "            \n",
    "        return nodes_found"
   ]
  },
  {
   "cell_type": "code",
   "execution_count": null,
   "metadata": {},
   "outputs": [],
   "source": [
    "tree = Node(\"A\", Node(\"B\", Node(\"D\"), Node(\"E\")), Node(\"C\", Node(\"F\"), Node(\"G\")))\n",
    "tree.preorder()"
   ]
  },
  {
   "cell_type": "markdown",
   "metadata": {},
   "source": [
    "### In-Order Traversal \n",
    "For in-order traversals, first start with the left subtree, then we go to the root, and then the right subtree. We start with the lowest left sibling and then work our way up and over.  Imagine that the nodes are projecting shadows: read those shadows in order.\n",
    "<center>\n",
    "<img src = \"https://www.gatevidyalay.com/wp-content/uploads/2018/07/Inorder-Traversal-Example-1.png\" width = \"400\">\n",
    "</center>\n",
    "<center>\n",
    "<i> Yield of an in-order traversal </i>\n",
    "</center> \n",
    "\n",
    "<center>\n",
    "<img src = \"https://www.gatevidyalay.com/wp-content/uploads/2018/07/Inorder-Traversal-Shortcut-1.png\" width = \"400\">\n",
    "</center>\n",
    "<center>\n",
    "<i> Reading an in-order traversal </i>\n",
    "</center> \n",
    "<center>"
   ]
  },
  {
   "cell_type": "code",
   "execution_count": null,
   "metadata": {},
   "outputs": [],
   "source": [
    "class Node():\n",
    "    \"\"\" Defines a node in a tree. \"\"\"\n",
    "    \n",
    "    def __init__(self, label, left_child = None, right_child = None):\n",
    "        self.label = label\n",
    "        self.left_child = left_child\n",
    "        self.right_child = right_child\n",
    "\n",
    "        \n",
    "    def inorder(self):\n",
    "        \"\"\" Performs an in-order traversal of the tree. \"\"\"\n",
    "\n",
    "        if self.left_child:\n",
    "            self.left_child.inorder()\n",
    "            \n",
    "        print(self.label, end=\" \")\n",
    "\n",
    "        if self.right_child:\n",
    "            self.right_child.inorder()"
   ]
  },
  {
   "cell_type": "code",
   "execution_count": null,
   "metadata": {},
   "outputs": [],
   "source": [
    "tree = Node(\"A\", Node(\"B\", Node(\"D\"), Node(\"E\")), Node(\"C\", Node(\"F\"), Node(\"G\")))\n",
    "tree.inorder()"
   ]
  },
  {
   "cell_type": "markdown",
   "metadata": {},
   "source": [
    "\n",
    "### Post-Order Traversal\n",
    "For our final traversal, we start with the lowest left node, then its' sister to the right, and then the node and work our way up the tree. To visualize this type of the traversal, imagine plucking off all the left leaves of a tree first.\n",
    "\n",
    "<center>\n",
    "<img src = \"https://www.gatevidyalay.com/wp-content/uploads/2018/07/Postorder-Traversal-Example.png\" width = \"400\">\n",
    "</center>\n",
    "<center>\n",
    "<i> Yield of a post-order traversal </i>\n",
    "</center> \n",
    "\n",
    "<center>\n",
    "<img src = \"https://www.gatevidyalay.com/wp-content/uploads/2018/07/Postorder-Traversal-Shortcut-1.png\" width = \"400\">\n",
    "</center>\n",
    "<center>\n",
    "<i> Reading a post-order traversal </i>\n",
    "</center> "
   ]
  },
  {
   "cell_type": "markdown",
   "metadata": {},
   "source": [
    "**Practice:** implement a post-order traversal."
   ]
  },
  {
   "cell_type": "code",
   "execution_count": null,
   "metadata": {},
   "outputs": [],
   "source": [
    "class Node():\n",
    "    \"\"\" Defines a node in a tree. \"\"\"\n",
    "    \n",
    "    def __init__(self, label, left_child = None, right_child = None):\n",
    "        self.label = label\n",
    "        self.left_child = left_child\n",
    "        self.right_child = right_child\n",
    "\n",
    "        \n",
    "    def postorder(self):\n",
    "        \"\"\" Performs a post-order traversal of the tree. \"\"\"\n",
    "        pass"
   ]
  },
  {
   "cell_type": "markdown",
   "metadata": {},
   "source": [
    "Test your method below."
   ]
  },
  {
   "cell_type": "code",
   "execution_count": null,
   "metadata": {},
   "outputs": [],
   "source": [
    "tree = Node(\"A\", Node(\"B\", Node(\"D\"), Node(\"E\")), Node(\"C\", Node(\"F\"), Node(\"G\")))\n",
    "# tree.postorder()"
   ]
  },
  {
   "cell_type": "markdown",
   "metadata": {},
   "source": [
    "# Homework 15\n",
    "\n",
    "**Due on Tuesday, December 10th, 11.59pm**\n",
    "\n",
    "Send your notebook (don't forget to save your solutions!) to <alena.aksenova@stonybrook.edu> with the subject **\\[CompLing1\\] Homework 15**."
   ]
  },
  {
   "cell_type": "markdown",
   "metadata": {},
   "source": [
    "**Part 1.** This notebook discussed different algorithms over trees, such as:\n",
    "\n",
    "  * `is_leaf`\n",
    "  * `level_order_traversal`\n",
    "  * `BFS`\n",
    "  * `preorder`\n",
    "  * `DFS`\n",
    "  * `inorder`\n",
    "  * `postorder`\n",
    "  \n",
    "In the following cell, re-define the class `Node` to include every one of those methods."
   ]
  },
  {
   "cell_type": "code",
   "execution_count": null,
   "metadata": {},
   "outputs": [],
   "source": [
    "# re-define the class Node here"
   ]
  },
  {
   "cell_type": "markdown",
   "metadata": {},
   "source": [
    "**Part 2.** Write a new method `get_yield` that will collect the yield of the tree, i.e. it will return the leaf nodes of the tree in the left-to-right order. For example, the yield of the following tree is _the boy hit the ball_.\n",
    "\n",
    "<img src=\"images/15_4.png\" width=\"350\">\n",
    "\n",
    "**Hint.** Use the logic used in the `DFS` implementation: first check if the current node is a leaf; if so, add it to the list in which you are storing the yield. Afterwards, perform similar checks on the node's left and right children, if there are ones."
   ]
  },
  {
   "cell_type": "code",
   "execution_count": null,
   "metadata": {},
   "outputs": [],
   "source": [
    "# extend the class Node here"
   ]
  },
  {
   "cell_type": "markdown",
   "metadata": {},
   "source": [
    "You can test your method in the cell below. It should produce the following output:\n",
    "\n",
    "    Output: [\"the\", \"boy\", \"hit\", \"the\", \"ball\"]"
   ]
  },
  {
   "cell_type": "code",
   "execution_count": null,
   "metadata": {},
   "outputs": [],
   "source": [
    "tree = Node(\"S\", Node(\"NP\", Node(\"the\"), Node(\"boy\")), Node(\"VP\", Node(\"hit\"), \n",
    "                                                            Node(\"NP\", Node(\"the\"), Node(\"ball\"))))\n",
    "\n",
    "# tree.get_yield()"
   ]
  },
  {
   "cell_type": "markdown",
   "metadata": {},
   "source": [
    "### Optional: `yield` in Python"
   ]
  },
  {
   "cell_type": "markdown",
   "metadata": {},
   "source": [
    "You might have noticed that `yield` in Python is a reserved name. Indeed, `yield` is extremely useful but unfortunately we did not have time to discuss it. In order to have a quick intuition of what it does, consider the code below."
   ]
  },
  {
   "cell_type": "code",
   "execution_count": null,
   "metadata": {},
   "outputs": [],
   "source": [
    "def numbers():\n",
    "    \"\"\" Yields numbers from 0 to 9. \"\"\"\n",
    "    \n",
    "    for i in range(5):\n",
    "        yield i\n",
    "    \n",
    "    for i in range(5, 10):\n",
    "        yield i"
   ]
  },
  {
   "cell_type": "code",
   "execution_count": null,
   "metadata": {},
   "outputs": [],
   "source": [
    "num = numbers()\n",
    "print(num, \"---\",list(num))"
   ]
  },
  {
   "cell_type": "markdown",
   "metadata": {},
   "source": [
    "Just as `return`, `yield` cannot be used outside of functions: it is passing the value. `yield`, in some sense, behaves as a `return` that does not stop the function. Instead, `yeild` keeps passing the values until there are any. Note, that the shape of the output might not be predictable if `yield` is used.\n",
    "Read more about `yield` [here](http://simeonvisser.com/posts/python-3-using-yield-from-in-generators-part-1.html)."
   ]
  }
 ],
 "metadata": {
  "colab": {
   "collapsed_sections": [],
   "name": "Notebook_15.ipynb",
   "provenance": []
  },
  "kernelspec": {
   "display_name": "Python 3",
   "language": "python",
   "name": "python3"
  },
  "language_info": {
   "codemirror_mode": {
    "name": "ipython",
    "version": 3
   },
   "file_extension": ".py",
   "mimetype": "text/x-python",
   "name": "python",
   "nbconvert_exporter": "python",
   "pygments_lexer": "ipython3",
   "version": "3.6.8"
  }
 },
 "nbformat": 4,
 "nbformat_minor": 1
}
