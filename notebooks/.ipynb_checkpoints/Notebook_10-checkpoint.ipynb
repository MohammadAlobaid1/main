{
 "cells": [
  {
   "cell_type": "markdown",
   "metadata": {},
   "source": [
    "<div style=\"text-align: right\">\n",
    "    <i>\n",
    "        LIN 537: Computational Lingusitics 1 <br>\n",
    "        Fall 2019 <br>\n",
    "        Alëna Aksënova\n",
    "    </i>\n",
    "</div>\n",
    "\n",
    "# Notebook 10: regular expressions\n",
    "\n",
    "This notebook introduces the notion of *formal languages* and defines one of the ways formal languages can be classified (based on their expressive power).\n",
    "It then introduces a hierarchy of formal languages, and goes in depth about the class of _regular languages._\n",
    "They can be written as **regular expressions**, and this notebook mostly focuses on working with regular languages using Python `re` package."
   ]
  },
  {
   "cell_type": "markdown",
   "metadata": {},
   "source": [
    "## Formal languages\n",
    "\n",
    "Formally, (string) _languages_ are collections of strings produced by a certain grammar.\n",
    "Grammar is a way to _generalize_ the pattern behind the language.\n",
    "For example,\n",
    "\n",
    "    Language 1: ab, abab, ababab, abababab... (*aba, *babababab, *a)\n",
    "     Grammar 1: repeat \"ab\" arbitrary number of times.\n",
    "    \n",
    "    Language 2: aaab, baaa, aaabaaaa, b, aba, aaaaabaaaaaaaaa, baaaaaaaa, aab... (*aaaabaaaabaaa, *aaaaa)\n",
    "     Grammar 2: have a single \"b\" in the string, and then any number of \"a\" on either side of \"b\".\n",
    "    \n",
    "    Language 3: abc, aabbcc, aaabbbccc, aaaabbbbcccc... (*abbccc, *aaabbbc)\n",
    "     Grammar 3: have \"b\" after \"a\" and \"c\" after \"b\", and repeat every letter n times.\n",
    "    \n",
    "    Language 4: aabb, aaabbb, aaaaabbbbb, aaaaaaabbbbbbb, aaaaaaaaaaabbbbbbbbbbb... (*ab, *aaaabbbb)\n",
    "     Grammar 4: n times \"a\" and n times \"b\", where n is a prime number.\n",
    "    \n",
    "These grammars are very discriptive, and we want to have a way to _formalize_ them, therefore obtaining a **formal grammar** for that language.\n",
    "\n",
    "\n",
    "### Expressivity\n",
    "\n",
    "It is intuitive that some rules generating languages use simpler operations than others.\n",
    "For example, Grammar 1 simply uses the repetitions of the substring \"ab\", whereas Grammar 3 _balances_ the number of letters \"a\", \"b\" and \"c\" while preserving their order.\n",
    "\n",
    "The nested hierarchy of formal languages aligned with respect to their complexity is called **the Chomsky hierarchy** [(Chomsky 1959)](http://www.cs.utexas.edu/~cannata/pl/Class%20Notes/Chomsky_1959%20On%20Certain%20Formal%20Properties%20of%20Grammars.pdf).\n",
    "\n",
    "<img src=\"images/10_1.png\" width=\"600\">\n",
    "\n",
    "**Finite** languages are not infinite, and can be defined by simply listing all the strings of the language."
   ]
  },
  {
   "cell_type": "code",
   "execution_count": null,
   "metadata": {},
   "outputs": [],
   "source": [
    "finite_language = [\"abc\", \"cba\", \"bac\", \"cab\", \"acb\", \"bca\"]"
   ]
  },
  {
   "cell_type": "markdown",
   "metadata": {},
   "source": [
    "All classes apart from finite grammars describe potentially infinite stringsets. Later in this course, we will learn some tools for working with two classes of Chomsky hierarchy: **regular** and **context-free**.\n",
    "\n",
    "**Question:** why \"potentially infinite\", and not just \"infinite\"?"
   ]
  },
  {
   "cell_type": "markdown",
   "metadata": {},
   "source": [
    "## Regular expressions\n",
    "\n",
    "Regular languages can be described via so-called **regular expressions** (**regex**).\n",
    "Regexes are strings in a special representation describing languages, and this representation is invented by **Stephen Kleene** in 1950s. Interestingly, he came up with the idea of regular expressions when trying to describe the behavior of _McCulloch-Pitts_ neural networks, the first model inspired by human neurons! See more [here](https://towardsdatascience.com/mcculloch-pitts-model-5fdf65ac5dd1).\n",
    "\n",
    "<img src=\"images/10_2.png\" width=\"200\">\n",
    "<center>\n",
    "    <i> Stephen Kleene </i>\n",
    "</center>\n"
   ]
  },
  {
   "cell_type": "markdown",
   "metadata": {},
   "source": [
    "In order to work with regexes through the Python interface, let's import the `re` package."
   ]
  },
  {
   "cell_type": "code",
   "execution_count": null,
   "metadata": {},
   "outputs": [],
   "source": [
    "import re"
   ]
  },
  {
   "cell_type": "markdown",
   "metadata": {},
   "source": [
    "## Kleene star\n",
    "\n",
    "The basic concept introducing infinity in regular expressions is **Klenee star**.\n",
    "It is denoted as `*`, and it simply means \"repeat the preceding symbol or a string arbitrary number of times\".\n",
    "Here and further in the notebook, I'll be using `\"\"` to denote an empty string.\n",
    "\n",
    "    RegEx:  a*\n",
    "    Language: \"\", a, aa, aaa, aaaaa, ..., aaaaaaaaaaaaaaaaaaaaaaaaaaaaaaaaaa, ...\n",
    "    \n",
    "### Function `re.search`\n",
    "    \n",
    "The function `re.search` searches for the first substring that correspond to a given regular expressions within the given string. It returns a _match object_ if matching substrings were detected, and `None` otherwise.\n",
    "\n",
    "    re.search(r\"regex\", r\"string\")\n",
    "    \n",
    "Notice the `r` before the strings: it means \"raw string\". As you already know, there are characters that have special meaning to regular expressions, and to avoid any confusion, it is easier to work with the raw strings."
   ]
  },
  {
   "cell_type": "code",
   "execution_count": null,
   "metadata": {},
   "outputs": [],
   "source": [
    "print(re.search(r\"a*\", r\"aaaaa\"))"
   ]
  },
  {
   "cell_type": "markdown",
   "metadata": {},
   "source": [
    "Indeed, a string \"aaaaa\" can be matched by the regular expression $a^{*}$."
   ]
  },
  {
   "cell_type": "code",
   "execution_count": null,
   "metadata": {},
   "outputs": [],
   "source": [
    "print(re.search(r\"a*\", r\"aaaabaa\"))"
   ]
  },
  {
   "cell_type": "markdown",
   "metadata": {},
   "source": [
    "String \"aaaabaa\" contains $2$ substrings that can be matched by a regular expression $a^{*}$: \"**aaaa**baa\" and \"aaaab**aa**\", but `re.search` only looks for the first appropriate match, therefore the span that was detected is `span=(0, 4)`.\n",
    "\n",
    "The values of `span` can be extracted in the following manner:"
   ]
  },
  {
   "cell_type": "code",
   "execution_count": null,
   "metadata": {},
   "outputs": [],
   "source": [
    "matched_object = re.search(r\"a*\", r\"aaaabaa\")\n",
    "span = matched_object.span()\n",
    "print(span)"
   ]
  },
  {
   "cell_type": "markdown",
   "metadata": {},
   "source": [
    "To extract the matched substring, we need to apply `.group(0)` to the matched object."
   ]
  },
  {
   "cell_type": "code",
   "execution_count": null,
   "metadata": {
    "scrolled": true
   },
   "outputs": [],
   "source": [
    "match = matched_object.group(0)\n",
    "print(match)"
   ]
  },
  {
   "cell_type": "markdown",
   "metadata": {},
   "source": [
    "As a sidenote, Python allows for \"unpacking\" of the values and multiple variable definitions on a single line."
   ]
  },
  {
   "cell_type": "code",
   "execution_count": null,
   "metadata": {
    "scrolled": true
   },
   "outputs": [],
   "source": [
    "start, end = span[0], span[1]\n",
    "print(\"Start:\", start)\n",
    "print(\"End:  \", end)"
   ]
  },
  {
   "cell_type": "markdown",
   "metadata": {},
   "source": [
    "**Practice:** write a function `full_match` detecting if the whole given string can be matched by the given regular expression.\n",
    "\n",
    "    Function call:  full_match(\"a*\", \"aaaaa\")\n",
    "    Output:         True\n",
    "    \n",
    "    Function call:  full_match(\"a*\", \"aaaaabaa\")\n",
    "    Output:         False\n",
    "    \n",
    "    Function call:  full_match(\"a*\", \"bbbbb\")\n",
    "    Output:         False"
   ]
  },
  {
   "cell_type": "code",
   "execution_count": null,
   "metadata": {},
   "outputs": [],
   "source": []
  },
  {
   "cell_type": "markdown",
   "metadata": {},
   "source": [
    "Test it in the following cell."
   ]
  },
  {
   "cell_type": "code",
   "execution_count": null,
   "metadata": {},
   "outputs": [],
   "source": []
  },
  {
   "cell_type": "markdown",
   "metadata": {},
   "source": [
    "### Function `re.findall`\n",
    "\n",
    "If all matching substrings are required, we can use `re.findall` function that returns _all_ matching substrings.\n",
    "\n",
    "    re.findall(r\"regex\", r\"string\")"
   ]
  },
  {
   "cell_type": "code",
   "execution_count": null,
   "metadata": {},
   "outputs": [],
   "source": [
    "print(re.findall(r\"ab\", r\"aaabbbababa\"))"
   ]
  },
  {
   "cell_type": "markdown",
   "metadata": {},
   "source": [
    "**Question:** explain the output of the following function call."
   ]
  },
  {
   "cell_type": "code",
   "execution_count": null,
   "metadata": {},
   "outputs": [],
   "source": [
    "print(re.findall(r\"a*\", r\"aaaabaa\"))"
   ]
  },
  {
   "cell_type": "markdown",
   "metadata": {},
   "source": [
    "So far we saw the application of the Kleene star to only a single symbol. In order to match repeating substrings, we need to put that substring in the parethesis. For example, see the contrast:"
   ]
  },
  {
   "cell_type": "code",
   "execution_count": null,
   "metadata": {},
   "outputs": [],
   "source": [
    "print(re.search(r\"(ab)*\", r\"abababbbb\"))"
   ]
  },
  {
   "cell_type": "code",
   "execution_count": null,
   "metadata": {},
   "outputs": [],
   "source": [
    "print(re.search(r\"ab*\", r\"abababbbb\"))"
   ]
  },
  {
   "cell_type": "markdown",
   "metadata": {},
   "source": [
    "In the first case, the first match is `ababab`, i.e. it is a string \"ab\" that is repeating.\n",
    "In the second case, however, the first match is simply `ab`, because the regular expression $ab^{*}$ is matching any number of \"b\" preceded by an \"a\"."
   ]
  },
  {
   "cell_type": "markdown",
   "metadata": {},
   "source": [
    "## Kleene plus\n",
    "\n",
    "Kleene star matches _any_ number of the given substring, from $0$ to any $n$.\n",
    "**Kleene plus** matches the given substring $1$ or more times.\n",
    "\n",
    "    Grammar:  (ab)*\n",
    "    Language: \"\", ab, abab, ababab, ababababab...\n",
    "    \n",
    "    Grammar:  (ab)+\n",
    "    Language: ab, abab, ababab, ababababab..."
   ]
  },
  {
   "cell_type": "code",
   "execution_count": null,
   "metadata": {},
   "outputs": [],
   "source": [
    "print(re.search(r\"(ab)*\", r\"\"))"
   ]
  },
  {
   "cell_type": "code",
   "execution_count": null,
   "metadata": {},
   "outputs": [],
   "source": [
    "print(re.search(r\"(ab)+\", r\"\"))"
   ]
  },
  {
   "cell_type": "markdown",
   "metadata": {},
   "source": [
    "**Practice 1:** simplify the following regular expression: `ab(ab)*`.\n",
    "\n",
    "**Practice 2:** for the following regular expressions, tell if the given strings are fully matched by them.\n",
    "\n",
    "    Regular expression:  a*b*a*\n",
    "    Strings:             \"\", aaaaa, bbbb, aaabbbbb, aabaaa, aaabbbabbb, bbbaa, bab\n",
    "    \n",
    "    Regular expression:  a*b+a*\n",
    "    Strings:             \"\", aaaaa, bbbb, aaabbbbb, aabaaa, aaabbbabbb, bbbaa, bab\n",
    "    \n",
    "    Regular expression:  (a*b*)*\n",
    "    Strings:             \"\", aabb, aaabbb, aabbaaaabbbb, bbbb, baaaaa, bababbabb\n",
    "    \n",
    "    Regular expression:  (a+b*)*\n",
    "    Strings:             \"\", aabb, aaabbb, aabbaaaabbbb, bbbb, baaaaa, bababbabb\n",
    "    \n",
    "    Regular expression:  (a+c*b+)+\n",
    "    Strings:             \"\", ab, abab, aaaacc, bbba, aaabbbabbbb, aabbbbbcbbb\n",
    "    \n",
    "    Regular expression:  (a*c*b+)+\n",
    "    Strings:             \"\", ab, abab, aaaacc, bbba, aaabbbabbbb, aabbbbbcbbb\n",
    "    \n",
    "**Practice 3:** come up with a regex describing the following two languages. Test it in the following cells.\n",
    "\n",
    "    Language 1:  \"\", abbc, bbbcc, ccc, acc, abbccc...\n",
    "    Language 2:  abccc, a, abcbcccc, abbb, abbbccc..."
   ]
  },
  {
   "cell_type": "code",
   "execution_count": null,
   "metadata": {},
   "outputs": [],
   "source": [
    "lang_1 = [\"\", \"abbc\", \"bbbcc\", \"ccc\", \"acc\", \"abbccc\"]\n",
    "for s in lang_1:\n",
    "    print(re.search(r\"REGEX\", s))"
   ]
  },
  {
   "cell_type": "code",
   "execution_count": null,
   "metadata": {},
   "outputs": [],
   "source": [
    "lang_2 = [\"abccc\", \"a\", \"abcbcccc\", \"abbb\", \"abbbccc\", \"abcbcbc\"]\n",
    "for s in lang_2:\n",
    "    print(re.search(r\"REGEX\", s))"
   ]
  },
  {
   "cell_type": "markdown",
   "metadata": {},
   "source": [
    "### Matching one of the list of characters\n",
    "\n",
    "In order to match one of some list of characters, we can enclose those characters in square parenthesis:\n",
    "\n",
    "    r\"...[abc]...\"\n",
    "    \n",
    "The regular expression above will match \"a\", \"b\" or \"c\"."
   ]
  },
  {
   "cell_type": "code",
   "execution_count": null,
   "metadata": {},
   "outputs": [],
   "source": [
    "print(re.search(r\"m[ae]n\", r\"woman\"))\n",
    "print(re.search(r\"m[ae]n\", r\"women\"))"
   ]
  },
  {
   "cell_type": "markdown",
   "metadata": {},
   "source": [
    "If you need to match a set of characters containing some range of digits of alphabet symbols, these ranges can be provided in a shortcut way: `[1-7]`, `[a-z]` or `[A-D]`."
   ]
  },
  {
   "cell_type": "code",
   "execution_count": null,
   "metadata": {},
   "outputs": [],
   "source": [
    "print(re.findall(r\"[1-5]\", r\"1945\"))"
   ]
  },
  {
   "cell_type": "markdown",
   "metadata": {},
   "source": [
    "Of course, Kleene star or plus can be applied to any set of symbols:"
   ]
  },
  {
   "cell_type": "code",
   "execution_count": null,
   "metadata": {},
   "outputs": [],
   "source": [
    "print(re.findall(r\"[0-9]+\", r\"It repeated 518305 times!\"))"
   ]
  },
  {
   "cell_type": "markdown",
   "metadata": {},
   "source": [
    "Note that these lists are case-sensitive:"
   ]
  },
  {
   "cell_type": "code",
   "execution_count": null,
   "metadata": {},
   "outputs": [],
   "source": [
    "print(re.findall(r\"[a-z]\", r\"ABBA\"))\n",
    "print(re.findall(r\"[A-Z]\", r\"ABBA\"))"
   ]
  },
  {
   "cell_type": "markdown",
   "metadata": {},
   "source": [
    "If we want to perform matches without case-sensitivity, we can add one more argument to the function `re.findall`. This argument is `re.I`, a short form for `re.IGNORECASE`."
   ]
  },
  {
   "cell_type": "code",
   "execution_count": null,
   "metadata": {},
   "outputs": [],
   "source": [
    "print(re.findall(r\"[a-z]\", r\"ABBA\", re.I))\n",
    "print(re.findall(r\"[A-Z]\", r\"ABBA\"))"
   ]
  },
  {
   "cell_type": "markdown",
   "metadata": {},
   "source": [
    "### Matching the beginning/end of string\n",
    "\n",
    "If we want to make sure that the regualar expression is not only contained within the string we are searching, but rather describes the whole string, we can surround the regex with the following two symbols:\n",
    "\n",
    "  * `^` marks the beginning of the string;\n",
    "  * `$` marks the end of the string. \n",
    "  \n",
    "Of course, these two symbols can be used separately as well in order to match the beginning or the end of the string."
   ]
  },
  {
   "cell_type": "code",
   "execution_count": null,
   "metadata": {},
   "outputs": [],
   "source": [
    "print(re.search(r\"m[ae]n\", r\"woman\"))\n",
    "print(re.search(r\"^m[ae]n$\", r\"woman\"))\n",
    "print(re.search(r\"m[ae]n$\", r\"woman\"))"
   ]
  },
  {
   "cell_type": "markdown",
   "metadata": {},
   "source": [
    "### Any character `.`\n",
    "\n",
    "A dot `.` stands for _any character_."
   ]
  },
  {
   "cell_type": "code",
   "execution_count": null,
   "metadata": {},
   "outputs": [],
   "source": [
    "print(re.search(r\"m.n\", r\"man\"))\n",
    "print(re.search(r\"m.n\", r\"men\"))"
   ]
  },
  {
   "cell_type": "markdown",
   "metadata": {},
   "source": [
    "However, it will match just a single character:"
   ]
  },
  {
   "cell_type": "code",
   "execution_count": null,
   "metadata": {},
   "outputs": [],
   "source": [
    "print(re.search(r\"m.n\", r\"moon\"))"
   ]
  },
  {
   "cell_type": "markdown",
   "metadata": {},
   "source": [
    "Then, applying Kleene star to a `.` will yield the original string."
   ]
  },
  {
   "cell_type": "code",
   "execution_count": null,
   "metadata": {},
   "outputs": [],
   "source": [
    "print(re.search(r\".*\", r\"moon\"))"
   ]
  },
  {
   "cell_type": "markdown",
   "metadata": {},
   "source": [
    "### Matching certain number of times\n",
    "\n",
    "To match some symbol $n$ times, we can add curly parenthesis `{}` after that symbol, and put that $n$ inside: `s{n}`."
   ]
  },
  {
   "cell_type": "code",
   "execution_count": null,
   "metadata": {},
   "outputs": [],
   "source": [
    "print(re.search(r\"mo{2}n\", r\"moon\"))"
   ]
  },
  {
   "cell_type": "markdown",
   "metadata": {},
   "source": [
    "We can also provide a range of the times we want to match that symbol. The range is denoted as `s{m,n}`, where `m` and `n` are the beginning and the end of the range."
   ]
  },
  {
   "cell_type": "code",
   "execution_count": null,
   "metadata": {},
   "outputs": [],
   "source": [
    "print(re.search(r\"mo{2,5}n\", r\"moooon\"))"
   ]
  },
  {
   "cell_type": "markdown",
   "metadata": {},
   "source": [
    "In we want to check a repetition of a group of symbols, we can enclose that group in the round parenthesis `()`:"
   ]
  },
  {
   "cell_type": "code",
   "execution_count": null,
   "metadata": {},
   "outputs": [],
   "source": [
    "print(re.search(r\"fa(la){2,5}fel\", r\"falalalafel\"))"
   ]
  },
  {
   "cell_type": "markdown",
   "metadata": {},
   "source": [
    "### Matching groups of symbols\n",
    "\n",
    "However, if we want to match one of the listed groups of symbols, it will not work to simply put those groups in parenthesis:"
   ]
  },
  {
   "cell_type": "code",
   "execution_count": null,
   "metadata": {},
   "outputs": [],
   "source": [
    "print(re.findall(r\"[(la)(lo)]\", r\"lola\"))"
   ]
  },
  {
   "cell_type": "markdown",
   "metadata": {},
   "source": [
    "The symbols in the square parenthesis are interpreted literally, and therefore the expression above will match parenthesis too:"
   ]
  },
  {
   "cell_type": "code",
   "execution_count": null,
   "metadata": {},
   "outputs": [],
   "source": [
    "print(re.findall(r\"[(la)(lo)]\", r\"hello (world)\"))"
   ]
  },
  {
   "cell_type": "markdown",
   "metadata": {},
   "source": [
    "To match one of the listed groups of symbols, we can join those groups using a special symbol `|` meaning **or**."
   ]
  },
  {
   "cell_type": "code",
   "execution_count": null,
   "metadata": {},
   "outputs": [],
   "source": [
    "print(re.search(r\"la|lo\", r\"lola\"))\n",
    "print(re.search(r\"(la|lo){2}\", r\"lola\"))\n",
    "print(re.search(r\"ba(la|lo){1,2}on\", r\"baloon\"))"
   ]
  },
  {
   "cell_type": "markdown",
   "metadata": {},
   "source": [
    "### Optionality\n",
    "\n",
    "Optionality of a symbol or a group of symbols can be expressed via putting a question mark `?` after that symbol or a group."
   ]
  },
  {
   "cell_type": "code",
   "execution_count": null,
   "metadata": {
    "scrolled": true
   },
   "outputs": [],
   "source": [
    "print(re.search(r\"python(ic)?\", r\"python\"))\n",
    "print(re.search(r\"python(ic)?\", r\"pythonic\"))\n",
    "print(re.search(r\"(py)?th?on(ic)?\", r\"pythonic\"))\n",
    "print(re.search(r\"(py)?th?on(ic)?\", r\"tonic\"))"
   ]
  },
  {
   "cell_type": "markdown",
   "metadata": {},
   "source": [
    "### Negation\n",
    "\n",
    "If symbols from some set should **not** be present in-between two characters, we can use a negation marker `^` used inside the set parenthesis: `[^...]`."
   ]
  },
  {
   "cell_type": "code",
   "execution_count": null,
   "metadata": {},
   "outputs": [],
   "source": [
    "print(re.search(r\"m[^bc]d\", r\"mad\"))\n",
    "print(re.search(r\"m[^bc]d\", r\"mcd\"))"
   ]
  },
  {
   "cell_type": "markdown",
   "metadata": {},
   "source": [
    "**Practice.** Find a refular expression that will prohibit any sequence made out of letters \"b\" and \"c\" in-between \"m\" and \"d\".\n",
    "\n",
    "    \"md\"        ->   Match\n",
    "    \"mod\"       ->   Match\n",
    "    \"mcd\"       ->   No match\n",
    "    \"mbcd\"      ->   No match\n",
    "    \"mbbcbcd\"   ->   No match\n",
    "    \"mcccccc\"   ->   No match"
   ]
  },
  {
   "cell_type": "code",
   "execution_count": null,
   "metadata": {},
   "outputs": [],
   "source": []
  },
  {
   "cell_type": "markdown",
   "metadata": {},
   "source": [
    "## Lookaround assertions\n",
    "\n",
    "Sometimes we want to match a string only in a particular position. In this case, we can use different types of lookaheads and lookbehinds:\n",
    "\n",
    "  * `(?<=foo)` **lookbehind**: makes sure that a string \"foo\" precedes the pattern we are matching;\n",
    "  * `(?=foo)`  **lookahead**:  makes sure that a string \"foo\" follows the pattern we are matching;\n",
    "  * `(?<!foo)` **negative lookbehind**: makes sure that a string \"foo\" does not precede the pattern we are matching;\n",
    "  * `(?!foo)`  **negative lookahead**:  makes sure that a string \"foo\" does not follow the pattern we are matching.\n",
    "  \n",
    "Lookbehinds check that the regular expression is preceded by a certain regular expression."
   ]
  },
  {
   "cell_type": "code",
   "execution_count": null,
   "metadata": {},
   "outputs": [],
   "source": [
    "print(re.search(r\"(?<=hello )world\", r\"hello world!\"))\n",
    "print(re.search(r\"(?<!hello )world\", r\"goodbye world!\"))\n",
    "print(re.search(r\"(?<!hello )world\", r\"hello world!\"))"
   ]
  },
  {
   "cell_type": "markdown",
   "metadata": {},
   "source": [
    "Similarly, lookaheads check that the regular expression is followed by a certain regular expression."
   ]
  },
  {
   "cell_type": "code",
   "execution_count": null,
   "metadata": {
    "scrolled": true
   },
   "outputs": [],
   "source": [
    "print(re.search(r\"hello(?= world)\", r\"hello world!\"))\n",
    "print(re.search(r\"hello(?! world)\", r\"hello people!\"))\n",
    "print(re.search(r\"hello(?! world)\", r\"hello world!\"))"
   ]
  },
  {
   "cell_type": "markdown",
   "metadata": {},
   "source": [
    "**Practice.** You are given the following string."
   ]
  },
  {
   "cell_type": "code",
   "execution_count": null,
   "metadata": {},
   "outputs": [],
   "source": [
    "string = \"a big giraffe came out of the water\""
   ]
  },
  {
   "cell_type": "markdown",
   "metadata": {},
   "source": [
    "Match all words consisting of $2$ or $3$ symols in `string`. You should expect to get the following output:\n",
    "\n",
    "    ['big', 'out', 'of', 'the']"
   ]
  },
  {
   "cell_type": "code",
   "execution_count": null,
   "metadata": {},
   "outputs": [],
   "source": []
  },
  {
   "cell_type": "markdown",
   "metadata": {},
   "source": [
    "As a sidenote, it is a good style to use as least of the lookaround expressions as possible. In simple words, when processing a lookahead or a lookbehind, regex compiler \"pretends\" that it is another regular expression that needs to be matched, attempts the match, and then needs to go back to the position where the assumption was made (this is why they are called _assertion operations)._ This backtracking operation is pretty expensive, and given large lookaround expressions and/or long strings to be searched, it can slow down the code by a lot."
   ]
  },
  {
   "cell_type": "markdown",
   "metadata": {},
   "source": [
    "### Shortcuts\n",
    "\n",
    "Additionally, there is a list of shortcuts to the collections of symbols of some type. Here are some of them:\n",
    "\n",
    "  * `\\d` matches digits, equivalent to `[1-9]`;\n",
    "  * `\\D` matches non-digits, equivalent to `[^1-9]`;\n",
    "  * `\\s` matches any whitespace character, equivalent to `[ \\t\\n\\r\\f\\v]`;\n",
    "  * `\\S` matches any whitespace character, equivalent to `[ \\t\\n\\r\\f\\v]`;\n",
    "  * `\\w` matches any alphanumeric character, equivalent to `[a-zA-Z0-9_]`;\n",
    "  * `\\W` matches any alphanumeric character, equivalent to `[^a-zA-Z0-9_]`."
   ]
  },
  {
   "cell_type": "code",
   "execution_count": null,
   "metadata": {},
   "outputs": [],
   "source": [
    "sentence = \"this sentence, for example, contains punctuations and 1 digit. regular expressions can help us to tokenize this sentense!\"\n",
    "print(re.findall(r\"\\w+\", sentence))"
   ]
  },
  {
   "cell_type": "markdown",
   "metadata": {},
   "source": [
    "Additionally, the marker `\\b` indicates word boundaries."
   ]
  },
  {
   "cell_type": "code",
   "execution_count": null,
   "metadata": {},
   "outputs": [],
   "source": [
    "words = [\"visiting\", \"inverse\", \"within\", \"in\", \"x visiting x\", \"x inverse x\", \"x within x\", \"x in x\"]\n",
    "\n",
    "for w in words:\n",
    "    print(w, \"  -->  \", re.search(r\"\\bin\\b\", w))"
   ]
  },
  {
   "cell_type": "markdown",
   "metadata": {},
   "source": [
    "Everything listed below is just a small part of the functionality of regular expressions. It is useful to remember the basic principles, however, if something more advanced is required, you can always refer to cheat sheets or tutorials, such as [this one](https://www.rexegg.com/regex-quickstart.html)."
   ]
  },
  {
   "cell_type": "markdown",
   "metadata": {},
   "source": [
    "# Homework 10\n",
    "\n",
    "**Due on Sunday, November 10th, 11.59pm**\n",
    "\n",
    "Send your notebook (don't forget to save your solutions!) to <alena.aksenova@stonybrook.edu> with the subject **\\[CompLing1\\] Homework 10**.\n",
    "\n",
    "**Problem.** You are given the following string."
   ]
  },
  {
   "cell_type": "code",
   "execution_count": null,
   "metadata": {},
   "outputs": [],
   "source": [
    "string = \"The first number is Mary 528973, the other one is Peter 29857, and the last one is Mira 245289.\""
   ]
  },
  {
   "cell_type": "markdown",
   "metadata": {},
   "source": [
    "First, extract a list of numbers from this `string`.\n",
    "\n",
    "    Expected output: ['528973', '29857', '245289']"
   ]
  },
  {
   "cell_type": "code",
   "execution_count": null,
   "metadata": {},
   "outputs": [],
   "source": []
  },
  {
   "cell_type": "markdown",
   "metadata": {},
   "source": [
    "Second, extract a list of names from the `string`. Notice that every name is followed by a number.\n",
    "\n",
    "    Expected output: ['Mary', 'Peter', 'Mira']"
   ]
  },
  {
   "cell_type": "code",
   "execution_count": null,
   "metadata": {},
   "outputs": [],
   "source": []
  },
  {
   "cell_type": "markdown",
   "metadata": {},
   "source": [
    "Finally, merge these two lists together into a dictionary.\n",
    "\n",
    "    Expected output: {'Mary': '528973', 'Peter': '29857', 'Mira': '245289'}"
   ]
  },
  {
   "cell_type": "code",
   "execution_count": null,
   "metadata": {},
   "outputs": [],
   "source": []
  }
 ],
 "metadata": {
  "kernelspec": {
   "display_name": "Python 3",
   "language": "python",
   "name": "python3"
  },
  "language_info": {
   "codemirror_mode": {
    "name": "ipython",
    "version": 3
   },
   "file_extension": ".py",
   "mimetype": "text/x-python",
   "name": "python",
   "nbconvert_exporter": "python",
   "pygments_lexer": "ipython3",
   "version": "3.6.8"
  }
 },
 "nbformat": 4,
 "nbformat_minor": 2
}
