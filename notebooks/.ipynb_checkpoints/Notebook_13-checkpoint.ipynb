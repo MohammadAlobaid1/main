{
 "cells": [
  {
   "cell_type": "markdown",
   "metadata": {},
   "source": [
    "<div style=\"text-align: right\">\n",
    "    <i>\n",
    "        LIN 537: Computational Lingusitics 1 <br>\n",
    "        Fall 2019 <br>\n",
    "        Alëna Aksënova\n",
    "    </i>\n",
    "</div>\n",
    "\n",
    "# Notebook 13: measuring string distances\n",
    "\n",
    "Here is the discussion of some algorithms that measure distances between two strings. The algorithms exemplified here are **Hamming distance** and **Levenstein distance**, however, many others exist and are widely used as well. Check [this link](https://www.joyofdata.de/blog/comparison-of-string-distance-algorithms/) for the other algorithms."
   ]
  },
  {
   "cell_type": "markdown",
   "metadata": {},
   "source": [
    "## Hamming distance\n",
    "\n",
    "**Hamming distance** is measured by the number of times two strings had same symbol on the same indices. \n",
    "\n",
    "    String 1: linguist\n",
    "    String 2: language\n",
    "    Distance: .-...--- : 4"
   ]
  },
  {
   "cell_type": "markdown",
   "metadata": {},
   "source": [
    "## To be added:\n",
    "* implementing hamming distance\n",
    "* levenstein distance\n",
    "* walk-through the example\n",
    "* implementing it via a table\n",
    "* the concept of DP\n",
    "* other algorithms"
   ]
  }
 ],
 "metadata": {
  "kernelspec": {
   "display_name": "Python 3",
   "language": "python",
   "name": "python3"
  },
  "language_info": {
   "codemirror_mode": {
    "name": "ipython",
    "version": 3
   },
   "file_extension": ".py",
   "mimetype": "text/x-python",
   "name": "python",
   "nbconvert_exporter": "python",
   "pygments_lexer": "ipython3",
   "version": "3.6.8"
  }
 },
 "nbformat": 4,
 "nbformat_minor": 2
}
