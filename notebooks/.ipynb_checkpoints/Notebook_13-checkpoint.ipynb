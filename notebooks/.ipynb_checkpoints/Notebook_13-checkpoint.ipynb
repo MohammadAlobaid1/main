{
 "cells": [
  {
   "cell_type": "markdown",
   "metadata": {},
   "source": [
    "<div style=\"text-align: right\">\n",
    "    <i>\n",
    "        LIN 537: Computational Lingusitics 1 <br>\n",
    "        Fall 2019 <br>\n",
    "        Alëna Aksënova\n",
    "    </i>\n",
    "</div>\n",
    "\n",
    "# Notebook 13: measuring string distances\n",
    "\n",
    "Here is the discussion of some algorithms that measure distances between two strings. The algorithms exemplified here are **Hamming distance** and **Levenstein distance**, however, many others exist and are widely used as well. Check [this link](https://www.joyofdata.de/blog/comparison-of-string-distance-algorithms/) for the other algorithms.\n",
    "\n",
    "\n",
    "## Measuring distances\n",
    "\n",
    "Similarity of strings is important for:\n",
    "  * determining how natural languages are related;\n",
    "  * seeing how close two gene sequences are;\n",
    "  * detecting OCR errors and other spellcheckers...\n",
    "  \n",
    "  However, the similarity can be measured in many different ways."
   ]
  },
  {
   "cell_type": "markdown",
   "metadata": {},
   "source": [
    "## Hamming distance\n",
    "\n",
    "**Hamming distance** is measured by the number of times two strings had **different** symbols on same indices. \n",
    "\n",
    "    String 1: linguist\n",
    "    String 2: language\n",
    "    Distance: .-...--- : 4\n",
    "    \n",
    "    String 1: physics\n",
    "    String 2: psychic\n",
    "    Distance: .-.---- : 5\n",
    "    \n",
    "    String 1: abab\n",
    "    String 2: baba\n",
    "    Distance: ---- : 4"
   ]
  },
  {
   "cell_type": "markdown",
   "metadata": {},
   "source": [
    "**Practice.** Implement a function measuring Hamming distance between two strings. For now, assume that only strings of the same length can be compared."
   ]
  },
  {
   "cell_type": "code",
   "execution_count": null,
   "metadata": {},
   "outputs": [],
   "source": [
    "def hamming_distance(str1, str2):\n",
    "    \"\"\" Implements Hamming distance between str1 and str2.\n",
    "    \n",
    "    Arguments:\n",
    "      - str1 (str): some string;\n",
    "      - str2 (str): another string.\n",
    "      \n",
    "    Outputs:\n",
    "      - int: value of the Hamming distance between str1 and str2.\n",
    "    \"\"\"\n",
    "    pass"
   ]
  },
  {
   "cell_type": "markdown",
   "metadata": {},
   "source": [
    "Test your implementation below."
   ]
  },
  {
   "cell_type": "code",
   "execution_count": null,
   "metadata": {},
   "outputs": [],
   "source": [
    "test_words = [(\"linguist\", \"language\"), (\"physics\", \"psychic\"), (\"abab\", \"baba\")]\n",
    "\n",
    "for pair in test_words:\n",
    "    print(pair, \"===>\", hamming_distance(pair[0], pair[1]))"
   ]
  },
  {
   "cell_type": "markdown",
   "metadata": {},
   "source": [
    "We know that the items within `test_words` are always pairs. In such cases, during the iteration, Python allows to \"unpack\" the values of the items."
   ]
  },
  {
   "cell_type": "code",
   "execution_count": null,
   "metadata": {
    "scrolled": true
   },
   "outputs": [],
   "source": [
    "test_words = [(\"linguist\", \"language\"), (\"physics\", \"psychic\")]\n",
    "\n",
    "for v, u in test_words:\n",
    "    print((v, u), \"===>\", hamming_distance(v, u))"
   ]
  },
  {
   "cell_type": "markdown",
   "metadata": {},
   "source": [
    "#### `assert` statement\n",
    "\n",
    "Let us enhance the solution using _assertions_. Like raising errors, they catch unsatisfactory states of objects or programs. **Assertions** are a way to show which assumptions are made in this code, i.e. to restrict the code in such a way that it works only if some assumptions hold.\n",
    "\n",
    "    assert conditional_expression\n",
    "    \n",
    "If the conditional expression evaluates to false, AssertionError is raised."
   ]
  },
  {
   "cell_type": "code",
   "execution_count": null,
   "metadata": {},
   "outputs": [],
   "source": [
    "def add_numbers(a, b):\n",
    "    assert type(a) is int and type(b) is int\n",
    "    print(a + b)\n",
    "    \n",
    "add_numbers(5, 3)"
   ]
  },
  {
   "cell_type": "markdown",
   "metadata": {},
   "source": [
    "An error message can be added to the assertion error as well:\n",
    "\n",
    "    assert conditional_expression, message"
   ]
  },
  {
   "cell_type": "code",
   "execution_count": null,
   "metadata": {},
   "outputs": [],
   "source": [
    "def add_numbers(a, b):\n",
    "    assert type(a) is int and type(b) is int, \"I only work with numbers!\"\n",
    "    print(a + b)\n",
    "    \n",
    "add_numbers(5, 3)"
   ]
  },
  {
   "cell_type": "markdown",
   "metadata": {},
   "source": [
    "**Practice.** Now, in the implementation of the Hamming distance function, add the assertion checking that both strings are of the same length."
   ]
  },
  {
   "cell_type": "code",
   "execution_count": null,
   "metadata": {},
   "outputs": [],
   "source": []
  },
  {
   "cell_type": "markdown",
   "metadata": {},
   "source": [
    "**Question&Practice.** What are the ways to extend Hamming distance to strings of non-equal length? Let's implement one of the possible extensions!"
   ]
  },
  {
   "cell_type": "code",
   "execution_count": null,
   "metadata": {},
   "outputs": [],
   "source": []
  },
  {
   "cell_type": "markdown",
   "metadata": {},
   "source": [
    "## Edit distance (Levenshtein distance)\n",
    "\n",
    "**Edit distance** between strings $A$ and $B$ measures the number of _edit operations_ that one needs to perform with a string $A$ to get the string $B$.\n",
    "\n",
    "_Edit operations:_\n",
    "  * **replace** (\"aaa\" -> \"aba\");\n",
    "  * **add** (\"aaa\" -> \"aaab\");\n",
    "  * **remove** (\"aba\" -> \"aa\").\n",
    "  \n",
    "For example, the edit distance between \"anna\" and \"nana\" is $2$.\n",
    "\n",
    "1. remove the initial \"a\" from \"anna\" $\\rightarrow$ \"nna\";\n",
    "2. insert \"a\" after the initial \"n\" in \"nna\" $\\rightarrow$ \"nana\".\n",
    "\n",
    "Alternatively,\n",
    "\n",
    "1. replace the initial \"a\" by \"n\", \"anna\" $\\rightarrow$ \"nnna\";\n",
    "2. replace the second position by \"a\", \"nnna\" $\\rightarrow$ \"nana\"."
   ]
  },
  {
   "cell_type": "code",
   "execution_count": null,
   "metadata": {},
   "outputs": [],
   "source": []
  },
  {
   "cell_type": "markdown",
   "metadata": {},
   "source": [
    "## To be added:\n",
    "* edit distance algo\n",
    "* walk-through the example\n",
    "* practice\n",
    "* implementation of edit distance\n",
    "* the concept of DP\n",
    "* other algorithms\n",
    "* homework"
   ]
  },
  {
   "cell_type": "code",
   "execution_count": null,
   "metadata": {},
   "outputs": [],
   "source": []
  }
 ],
 "metadata": {
  "kernelspec": {
   "display_name": "Python 3",
   "language": "python",
   "name": "python3"
  },
  "language_info": {
   "codemirror_mode": {
    "name": "ipython",
    "version": 3
   },
   "file_extension": ".py",
   "mimetype": "text/x-python",
   "name": "python",
   "nbconvert_exporter": "python",
   "pygments_lexer": "ipython3",
   "version": "3.6.8"
  }
 },
 "nbformat": 4,
 "nbformat_minor": 2
}
