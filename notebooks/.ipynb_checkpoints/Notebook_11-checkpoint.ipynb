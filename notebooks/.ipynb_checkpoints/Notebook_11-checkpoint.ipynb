{
 "cells": [
  {
   "cell_type": "markdown",
   "metadata": {},
   "source": [
    "<div style=\"text-align: right\">\n",
    "    <i>\n",
    "        LIN 537: Computational Lingusitics 1 <br>\n",
    "        Fall 2019 <br>\n",
    "        Alëna Aksënova\n",
    "    </i>\n",
    "</div>\n",
    "\n",
    "# Notebook 11: finite state automata\n",
    "\n",
    "In this notebook, we will learn a concept of **finite state automata** -- an abstract computational model corresponding in its complexity to regular languages. We will discuss deterministic and non-deterministic versions of these automata, implement it, and learn how to accept or reject a string using it.\n",
    "\n",
    "On the Pythonic side, I will demonstrate how to raise customly defined errors using the `raise` keyword, and how to define the default values of the arguments in functions."
   ]
  },
  {
   "cell_type": "markdown",
   "metadata": {},
   "source": [
    "## Structure of finite state automata\n",
    "\n",
    "**Finite state automata** are abstract computational models defined by a finite number of states. \n",
    "\n",
    "  * Temperature changes have _infinite number of states:_ it is always possible to potentially observe a temperature increase or decrease to a value that was never observed before;\n",
    "  * The screen of an electronic thermometer has _finite number of states,_ i.e. all the values that that thermometer can measure. For example, medical sub-lingual thermometer can measure values from 90F to 110F (35C to 42C). Given the finite number of digits that its screen can fit, the range of the temperatures expressed by the thermometer is finite.\n",
    "  \n",
    "Finite state automata (FSA) have a finite list of possible **states** in which that machine can be, and these states have **transitions** defined in-between them. For example, we can observe a transition $A\\xrightarrow{\\text{x}}B$.\n",
    "It will mean that it is possible to get from state $A$ to the state $B$ by reading (\"accepting\") an \"x\".\n",
    "One state is **initial**, i.e. reading a string will always start from that state, and there is also a list of **final**, or **accepting** states, meaning that if the final state is activated when we are done reading the string, that string is accepted.\n",
    "If reading the string did not lead to the accepting state, the string is rejected."
   ]
  },
  {
   "cell_type": "markdown",
   "metadata": {},
   "source": [
    "For example, consider the following FSA.\n",
    "\n",
    "<img src=\"images/11_1.png\" width=\"230\">\n",
    "<center>\n",
    "    <i> FSA 1 </i>\n",
    "</center>\n",
    "\n",
    "The states are the circles, and the arrows in-between them denote the possible transitions.\n",
    "\n",
    "  * **States** In this machine, there are two states: $1$ and $2$. Usually states are denoted as $q$, and therefore we can refer to them as $q_1$ and $q_2$.\n",
    "  * **Initial state** The initial state is shown by an arrow pointing to that state, whereas the source of the arrow is not given. In this case, the initial state is $q_1$.\n",
    "  * **Final state** The accepting state is indicated by a bold circle around the state. In this case, the accepting state is also $q_1$. The notation differs, and frequently the final state is denoted by a double circle around the state.\n",
    "  * **Transitions** There are transitions defined between the states $q_1$ and $q_2$. It is possible to get from $q_1$ to $q_2$ by reading \"a\" ($q_1\\xrightarrow{\\text{a}}q_2$), and to go from $q_2$ to $q_1$ by reading \"b\" ($q_2\\xrightarrow{\\text{b}}q_1$)."
   ]
  },
  {
   "cell_type": "markdown",
   "metadata": {},
   "source": [
    "## Accepting strings with FSAs\n",
    "\n",
    "Finite state automata have transitions between states defined in form of symbols, and therefore a string can be accepted or rejected depending on the state in which it leads within the FSA. In the strings below, I will denote using a vertical bar | what part of the string is currently accepted.\n",
    "\n",
    "**Example 1: abab** \n",
    "\n",
    "  * Step 1. The initial state of the machine above is activated: $q_1$. String: **|**abab.\n",
    "  * Step 2. It is possible to get from $q_1$ to $q_2$ by reading an \"a\", and therefore we can read \"a\" and activate the state $q_2$ instead of $q_1$. String: **a|**bab.\n",
    "  * Step 3. Now we can come back to $q_1$ by reading a \"b\". String: **ab|**ab.\n",
    "  * Step 4. We read another \"a\" and go to $q_2$ again. String: **aba|**b.\n",
    "  * Step 5. We read the final \"b\" and move to $q_1$. The string is now fully processed (**abab|**) and the current state $q_1$ is accepting, and therefore the string \"abab\" is **accepted**.\n",
    "  \n",
    "**Example 2: aba** \n",
    "\n",
    "  * Step 1. The initial state of the machine is activated: $q_1$. String: **|**aba.\n",
    "  * Step 2. We read the initial \"a\" and move to the state $q_2$. String: **a|**ba.\n",
    "  * Step 3. We come back to $q_1$ by reading a \"b\". String: **ab|**a.\n",
    "  * Step 4. We read another \"a\" and go to $q_2$ again. String: **aba|**. The string is fully read, however, $q_2$ is not a final state, therefore the string is **rejected**.\n",
    "  \n",
    "    \n",
    "**Example 3: aabab** \n",
    "\n",
    "  * Step 1. The initial state of the machine is activated: $q_1$. String: **|**aabab.\n",
    "  * Step 2. We read the initial \"a\" and move to $q_2$. String: **a|**abab.\n",
    "  * Step 3. There is no transition reading \"a\" from $q_2$, and therefore the next step is not possible. The string is **rejected**."
   ]
  },
  {
   "cell_type": "markdown",
   "metadata": {},
   "source": [
    "However, reading symbols does not always lead to _another_ state. Consider the FSA below.\n",
    "\n",
    "<img src=\"images/11_2.png\" width=\"250\">\n",
    "<center>\n",
    "    <i> FSA 2 </i>\n",
    "</center>\n",
    "\n",
    "Here, observing the first \"a\" moves the machine from $q_1$ to $q_2$. However, seeing additional \"a\" will simply leave the same state activated until \"b\" is observed, because the transition $q_2\\xrightarrow{\\text{a}}q_2$ is a **loop**.\n",
    "\n",
    "There can be more than a single accepting state.\n",
    "\n",
    "<img src=\"images/11_3.png\" width=\"235\">\n",
    "<center>\n",
    "    <i> FSA 3 </i>\n",
    "</center>\n",
    "\n",
    "For example, in the machine above, both states $q_1$ and $q_2$ are accepting."
   ]
  },
  {
   "cell_type": "markdown",
   "metadata": {},
   "source": [
    "### Deterministic and non-deterministic FSAs\n",
    "\n",
    "So far, there was never a confusion in the machines above about the state in which one moves when observing a certain symbol. Indeed, it was the case because those machines were **deterministic**. In deterministic FSAs (**DFA**), in arcs coming out of a certain state, every symbol can occur only once. For a visualisation, see the figure below.\n",
    "\n",
    "<img src=\"images/11_4.png\" width=\"235\">\n",
    "<center>\n",
    "    <i> Transitions coming out of the state $q_0$ </i>\n",
    "</center>\n",
    "\n",
    "In other words, if arcs reading $a_0$, $a_1$ ... $a_n$ are coming out of the same state, and we know in advance that the FSA is deterministic, all those symbols are different: `a_0 != a_2 != ... != a_n`.\n",
    "\n",
    "For example, the FSA below in **non-deterministic** (**NDFA**).\n",
    "\n",
    "<img src=\"images/11_5.png\" width=\"300\">\n",
    "<center>\n",
    "    <i> FSA 4 </i>\n",
    "</center>\n",
    "\n",
    "**Example: ab**\n",
    "\n",
    "  * Step 1. The initial state $q_1$ is activated. String: **|**ab.\n",
    "  * Step 2. Reading \"a\" moves us to the state $q_2$. String: **a|**b.\n",
    "  * Step 3. Now, there are two transitions that accept \"b\" from the state $q_2$, and therefore **this machine is non-deterministic**.\n",
    "  \n",
    "**Every NDFA can be determinized**, i.e. for every NDFA, there exists a DFA accepting the same set of strings as the original DFA. (You will discuss the procedure of DFA determinization in CompLing 1.)\n",
    "\n",
    "Below there is a DFA corresponding to the NDFA above.\n",
    "\n",
    "<img src=\"images/11_6.png\" width=\"400\">\n",
    "<center>\n",
    "    <i> FSA 5 </i>\n",
    "</center>"
   ]
  },
  {
   "cell_type": "markdown",
   "metadata": {},
   "source": [
    "Now, there is no such configuration when the machine can follow different transitions from the same state when reading the same symbol. The machine is now deterministic.\n",
    "\n",
    "**Practice.** Does the following machine accept the same set of strings as the machines above?\n",
    "\n",
    "<img src=\"images/11_7.png\" width=\"370\">\n",
    "<center>\n",
    "    <i> FSA 6 </i>\n",
    "</center>"
   ]
  },
  {
   "cell_type": "markdown",
   "metadata": {},
   "source": [
    "### Equivalence of FSA and regex\n",
    "\n",
    "As one can see, every FSA defines a set of strings that it can accept. In the previous notebook, we learned that language is a set of strings that are considered well-formed with respect to some grammar. Therefore, **FSA can be viewed as a grammar** that generates a potentially infinite set of strings that can be accepted by this automaton.\n",
    "\n",
    "Moreover, **the complexity of FSAs and regular expressions is the same**, i.e. for every FSA, there is a regex that describes it, and for every regex, there exists a FSA capable of accepting all strings generated by that regex.\n",
    "\n",
    "  * FSA 1 corresponds to a regular expression $(ab)^{*}$.\n",
    "  * FSA 2 corresponds to $b^{*}(a^{+}b^{+})^{*}$.\n",
    "  * FSA 3 corresponds to $(a^{+}b)^{*}b^{*}$.\n",
    "  * FSA 4 and 5 correspond to $(ab)^{*}b^{*}$.\n",
    "  \n",
    "**Practice.** What is the regular expression corresponding to FSA 6?"
   ]
  },
  {
   "cell_type": "markdown",
   "metadata": {},
   "source": [
    "## TBA: simple implementation of FSA\n",
    "## TBA: implementation of string accepting\n",
    "## TBA: additional Python tricks (raise, default value of functional arguments)\n",
    "## TBA: class for FSAs\n",
    "## TBA: homework"
   ]
  },
  {
   "cell_type": "code",
   "execution_count": null,
   "metadata": {},
   "outputs": [],
   "source": []
  }
 ],
 "metadata": {
  "kernelspec": {
   "display_name": "Python 3",
   "language": "python",
   "name": "python3"
  },
  "language_info": {
   "codemirror_mode": {
    "name": "ipython",
    "version": 3
   },
   "file_extension": ".py",
   "mimetype": "text/x-python",
   "name": "python",
   "nbconvert_exporter": "python",
   "pygments_lexer": "ipython3",
   "version": "3.6.8"
  }
 },
 "nbformat": 4,
 "nbformat_minor": 2
}
