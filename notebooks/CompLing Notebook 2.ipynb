{
 "cells": [
  {
   "cell_type": "markdown",
   "metadata": {},
   "source": [
    "<div style=\"text-align: right\">\n",
    "    <i>\n",
    "        LIN 537: Computational Lingusitics 1 <br>\n",
    "        Fall 2019 <br>\n",
    "        Alëna Aksënova\n",
    "    </i>\n",
    "</div>\n",
    "\n",
    "# Notebook 2: flow control and indexing\n",
    "\n",
    "This notebook explains how to control the flow of the program using `if`, `elif` and `else` and boolean expressions. We will also discuss indexing and data types that can be indexed, negative indexing, slices and steps."
   ]
  },
  {
   "cell_type": "markdown",
   "metadata": {},
   "source": [
    "## Flow control\n",
    "\n",
    "In most of the cases, we want to be flexible and only execute some code if certain conditions are met. For example, voice assistaint gets triggered only after the triggering phrase was pronounced.\n",
    "\n",
    "### `if`-statement\n",
    "\n",
    "In Python, the conditional operator `if` introuces a block of code that is executed if some condition is met:\n",
    "\n",
    "```\n",
    "if condition:\n",
    "    code that is executed only if the condition is True\n",
    "```\n",
    "\n",
    "Notice, that indentation is crucial here: the indentation shows which code depends on the boolean expression in `if`."
   ]
  },
  {
   "cell_type": "code",
   "execution_count": 11,
   "metadata": {},
   "outputs": [
    {
     "name": "stdout",
     "output_type": "stream",
     "text": [
      "User 2, you are old!\n"
     ]
    }
   ],
   "source": [
    "user_1_age = 26\n",
    "user_2_age = 99\n",
    "\n",
    "if user_1_age > 90:\n",
    "    print(\"User 1, you are old!\")\n",
    "    \n",
    "if user_2_age > 90:\n",
    "    print(\"User 2, you are old!\")"
   ]
  },
  {
   "cell_type": "markdown",
   "metadata": {},
   "source": [
    "The indented code is executed only when the corresponding condition is True, whereas non-indented code does not depend on that condition anyhow."
   ]
  },
  {
   "cell_type": "code",
   "execution_count": 7,
   "metadata": {},
   "outputs": [
    {
     "name": "stdout",
     "output_type": "stream",
     "text": [
      "Hey, let's chat then!\n",
      "Nice meeting you anyway.\n"
     ]
    }
   ],
   "source": [
    "talkative = True\n",
    "#talkative = False\n",
    "\n",
    "if talkative:\n",
    "    print(\"Hey, let's chat then!\")\n",
    "print(\"Nice meeting you anyway.\")"
   ]
  },
  {
   "cell_type": "markdown",
   "metadata": {},
   "source": [
    "In the example above, the variable _talkative_ is used as a *flag*. We can define the flag to be dependent on the user input, or on some other part of the code."
   ]
  },
  {
   "cell_type": "code",
   "execution_count": 9,
   "metadata": {},
   "outputs": [
    {
     "name": "stdout",
     "output_type": "stream",
     "text": [
      "Are you talkative?\n",
      "no\n",
      "Nice meeting you anyway.\n"
     ]
    }
   ],
   "source": [
    "talkative = False\n",
    "\n",
    "print(\"Are you talkative?\")\n",
    "answer = input()\n",
    "\n",
    "if answer == \"yes\":\n",
    "    talkative = True\n",
    "\n",
    "if talkative:\n",
    "    print(\"Hey, let's chat then!\")\n",
    "print(\"Nice meeting you anyway.\")"
   ]
  },
  {
   "cell_type": "markdown",
   "metadata": {},
   "source": [
    "The code above is slightly too complicated for what it does, but the general idea is clear.\n",
    "\n",
    "### `elif`-statement\n",
    "\n",
    "If the code requires different behavior depending on different boolean expressions, the 2nd and more conditions can be introduced using the `elif` statement. The `elif` code block is executed only if the one in `if` was not.\n",
    "\n",
    "```\n",
    "if condition1:\n",
    "    code that is executed only if condition1 is True\n",
    "    \n",
    "elif condition2:\n",
    "    code that is executed only if condition2 is True and condition1 is False\n",
    "    \n",
    "elif condition3:\n",
    "    code that is executed only if condition3 is True and condition1 and condition2 are False\n",
    "```"
   ]
  },
  {
   "cell_type": "code",
   "execution_count": 13,
   "metadata": {},
   "outputs": [
    {
     "name": "stdout",
     "output_type": "stream",
     "text": [
      "Green!\n",
      "-------\n",
      "Colorless!\n"
     ]
    }
   ],
   "source": [
    "sentence = \"colorless green ideas sleep furiously\"\n",
    "\n",
    "if \"green\" in sentence:\n",
    "    print(\"Green!\")\n",
    "    \n",
    "elif \"colorless\" in sentence:\n",
    "    print(\"Colorless!\")\n",
    "    \n",
    "print(\"-------\")\n",
    "\n",
    "if \"red\" in sentence:\n",
    "    print(\"Red!\")\n",
    "    \n",
    "elif \"colorless\" in sentence:\n",
    "    print(\"Colorless!\")"
   ]
  },
  {
   "cell_type": "markdown",
   "metadata": {},
   "source": [
    "However, if we want to simply check if these words can be found in the sentence independently, we will need to use several `if`-statements."
   ]
  },
  {
   "cell_type": "code",
   "execution_count": 14,
   "metadata": {},
   "outputs": [
    {
     "name": "stdout",
     "output_type": "stream",
     "text": [
      "Green!\n",
      "Colorless!\n",
      "Sleep!\n"
     ]
    }
   ],
   "source": [
    "sentence = \"colorless green ideas sleep furiously\"\n",
    "\n",
    "if \"green\" in sentence:\n",
    "    print(\"Green!\")\n",
    "    \n",
    "if \"colorless\" in sentence:\n",
    "    print(\"Colorless!\")\n",
    "    \n",
    "if \"sleep\" in sentence:\n",
    "    print(\"Sleep!\")"
   ]
  },
  {
   "cell_type": "markdown",
   "metadata": {},
   "source": [
    "### `else`\n",
    "\n",
    "The `else` keyword is used if we want some code to be executed if the conditions listed above in `if` and `elif` did not evaluate to True. In linguistics, it reminds the most the phonological or morphological _elsewhere_ condition. Hence, `else` does not permit a condition after itself!\n",
    "\n",
    "\n",
    "```\n",
    "if condition1:\n",
    "    code that is executed only if condition1 is True\n",
    "    \n",
    "elif condition2:\n",
    "    code that is executed only if condition2 is True and condition1 is False\n",
    "    \n",
    "else:\n",
    "    code that is executed only if condition1 and condition2 are False\n",
    "```"
   ]
  },
  {
   "cell_type": "code",
   "execution_count": 86,
   "metadata": {},
   "outputs": [
    {
     "name": "stdout",
     "output_type": "stream",
     "text": [
      "None of those words were found.\n"
     ]
    }
   ],
   "source": [
    "sentence = \"colorless green ideas sleep furiously\"\n",
    "\n",
    "if \"red\" in sentence:\n",
    "    print(\"Red!\")\n",
    "    \n",
    "elif \"bright\" in sentence:\n",
    "    print(\"Bright!\")\n",
    "    \n",
    "else:\n",
    "    print(\"None of those words were found.\")"
   ]
  },
  {
   "cell_type": "markdown",
   "metadata": {},
   "source": [
    "### Nested conditions\n",
    "\n",
    "A block of `if`-`elif`-`else` statements can be embedded inside another block:\n",
    "\n",
    "```\n",
    "if condition1:\n",
    "\n",
    "    code that is executed if condition1 is True\n",
    "    \n",
    "    if condition2:\n",
    "        code that is executed if condition1 and condition2 are True\n",
    "    else:\n",
    "        code that is executed if condition1 is True and condition2 is False\n",
    "        \n",
    "else:\n",
    "    code that is executed if condition1 is False\n",
    "```"
   ]
  },
  {
   "cell_type": "code",
   "execution_count": 18,
   "metadata": {},
   "outputs": [
    {
     "name": "stdout",
     "output_type": "stream",
     "text": [
      "Enter your mood: bad\n",
      "Smile! :)\n"
     ]
    }
   ],
   "source": [
    "user_mood = input(\"Enter your mood: \")\n",
    "\n",
    "if \"happy\" in user_mood:\n",
    "    print(\"Good that you are feeling happy!\")\n",
    "    if \"relaxed\" in user_mood:\n",
    "        print(\"And you are relaxed as well, it's nice.\")\n",
    "    else:\n",
    "        print(\"Try to relax!\")\n",
    "else:\n",
    "    print(\"Smile! :)\")"
   ]
  },
  {
   "cell_type": "markdown",
   "metadata": {},
   "source": [
    "**Practice:** rewrite the code above using the `elif` statement and complex boolean expressions."
   ]
  },
  {
   "cell_type": "code",
   "execution_count": null,
   "metadata": {},
   "outputs": [],
   "source": []
  },
  {
   "cell_type": "markdown",
   "metadata": {},
   "source": [
    "**Warning:** be careful when combining boolean expressions."
   ]
  },
  {
   "cell_type": "code",
   "execution_count": 20,
   "metadata": {},
   "outputs": [
    {
     "name": "stdout",
     "output_type": "stream",
     "text": [
      "Happy to hear!\n"
     ]
    }
   ],
   "source": [
    "sentence = \"bad and horrible\"\n",
    "if \"good\" or \"awesiome\" in sentence:\n",
    "    print(\"Happy to hear!\")"
   ]
  },
  {
   "cell_type": "markdown",
   "metadata": {},
   "source": [
    "Remember, that the operator `or` combines boolean expression together:\n",
    "\n",
    "            expression1 and expression2\n",
    "\n",
    "The `if`-statement above depends on two expressions: ``''good''`` and ``''awesome'' in sentence``. In fact, in Python, strings have truth values: non-empty string evaluates to True, whereas the empty one evaluates to False."
   ]
  },
  {
   "cell_type": "code",
   "execution_count": 26,
   "metadata": {},
   "outputs": [
    {
     "name": "stdout",
     "output_type": "stream",
     "text": [
      "Non-empty strings evaluate to True.\n"
     ]
    }
   ],
   "source": [
    "if \"string is non-empty\":\n",
    "    print(\"Non-empty strings evaluate to True.\")\n",
    "\n",
    "if \"\":\n",
    "    print(\"Nothing to be seen here.\")"
   ]
  },
  {
   "cell_type": "markdown",
   "metadata": {},
   "source": [
    "### Practice: a simple chatbot\n",
    "\n",
    "Ask user if they are in a chatty mood. If the user said something apart from \"yes\", wish them a good day. Otherwise ask them how they are doing. Have different responses for the cases when the sentence contains (1) \"nice\" or \"good\", (2) \"bad\" or \"horrible\", or (3) anything else."
   ]
  },
  {
   "cell_type": "code",
   "execution_count": null,
   "metadata": {},
   "outputs": [],
   "source": []
  },
  {
   "cell_type": "markdown",
   "metadata": {},
   "source": [
    "## Indexing\n",
    "\n",
    "Indexing is a way of assigning order to elements in some container. **Containers** are objects of data types that can contain arbitrary number of other objects within themselves. Strings are containers, because they can consist of any numbers of characters. However, the order of symbols matters (\"lived\" is not the same as \"devil\"), and therefore the symbols in strings are indexed.\n",
    "\n",
    "Indexing starts from $0$, and a symbol on the position $n$ can be accessed as ``string[n]``."
   ]
  },
  {
   "cell_type": "code",
   "execution_count": 27,
   "metadata": {},
   "outputs": [
    {
     "data": {
      "text/plain": [
       "'p'"
      ]
     },
     "execution_count": 27,
     "metadata": {},
     "output_type": "execute_result"
    }
   ],
   "source": [
    "\"happy\"[3]"
   ]
  },
  {
   "cell_type": "markdown",
   "metadata": {},
   "source": [
    "Integers, floats, and booleans are not indexed, and therefore they are not _subscriptable_, i.e. their sub-objects are not defined."
   ]
  },
  {
   "cell_type": "code",
   "execution_count": 88,
   "metadata": {},
   "outputs": [
    {
     "ename": "TypeError",
     "evalue": "'int' object is not subscriptable",
     "output_type": "error",
     "traceback": [
      "\u001b[0;31m---------------------------------------------------------------------------\u001b[0m",
      "\u001b[0;31mTypeError\u001b[0m                                 Traceback (most recent call last)",
      "\u001b[0;32m<ipython-input-88-d0494b74fd00>\u001b[0m in \u001b[0;36m<module>\u001b[0;34m\u001b[0m\n\u001b[0;32m----> 1\u001b[0;31m \u001b[0;36m1964\u001b[0m\u001b[0;34m[\u001b[0m\u001b[0;36m2\u001b[0m\u001b[0;34m]\u001b[0m\u001b[0;34m\u001b[0m\u001b[0;34m\u001b[0m\u001b[0m\n\u001b[0m",
      "\u001b[0;31mTypeError\u001b[0m: 'int' object is not subscriptable"
     ]
    }
   ],
   "source": [
    "1964[2]"
   ]
  },
  {
   "cell_type": "markdown",
   "metadata": {},
   "source": [
    "### Slices\n",
    "\n",
    "A part of the string can be extracted by taking a **slice** of that string:\n",
    "\n",
    "            string[start:end]\n",
    "\n",
    "The ``start`` argument is the first index _included_ in the slice, and the ``end`` is the first index _not included_ in it."
   ]
  },
  {
   "cell_type": "code",
   "execution_count": 30,
   "metadata": {},
   "outputs": [
    {
     "data": {
      "text/plain": [
       "'derf'"
      ]
     },
     "execution_count": 30,
     "metadata": {},
     "output_type": "execute_result"
    }
   ],
   "source": [
    "\"wonderful\"[3:7]"
   ]
  },
  {
   "cell_type": "markdown",
   "metadata": {},
   "source": [
    "If the value of `start` is $0$, or if the value of `end` is larger then the last available index in the string, the corresponding argument can be ommitted."
   ]
  },
  {
   "cell_type": "code",
   "execution_count": 31,
   "metadata": {},
   "outputs": [
    {
     "data": {
      "text/plain": [
       "'wonderf'"
      ]
     },
     "execution_count": 31,
     "metadata": {},
     "output_type": "execute_result"
    }
   ],
   "source": [
    "\"wonderful\"[:7]"
   ]
  },
  {
   "cell_type": "code",
   "execution_count": 32,
   "metadata": {},
   "outputs": [
    {
     "data": {
      "text/plain": [
       "'derful'"
      ]
     },
     "execution_count": 32,
     "metadata": {},
     "output_type": "execute_result"
    }
   ],
   "source": [
    "\"wonderful\"[3:]"
   ]
  },
  {
   "cell_type": "code",
   "execution_count": 33,
   "metadata": {},
   "outputs": [
    {
     "data": {
      "text/plain": [
       "'wonderful'"
      ]
     },
     "execution_count": 33,
     "metadata": {},
     "output_type": "execute_result"
    }
   ],
   "source": [
    "\"wonderful\"[:]"
   ]
  },
  {
   "cell_type": "markdown",
   "metadata": {},
   "source": [
    "**Practice:** ask user for a word, and print the last available index in the string corresponding to that word."
   ]
  },
  {
   "cell_type": "code",
   "execution_count": 89,
   "metadata": {},
   "outputs": [
    {
     "name": "stdout",
     "output_type": "stream",
     "text": [
      "blah\n",
      "The last index is TBD\n"
     ]
    }
   ],
   "source": [
    "word = input()\n",
    "index = \"TBD\"\n",
    "print(\"The last index is\", index)"
   ]
  },
  {
   "cell_type": "markdown",
   "metadata": {},
   "source": [
    "Apart from the `start` and `end` parameters, there is an optional one: `step`. The **step** of the slice is the difference of the current and the following elements of the slice in the original string. This is useful if, for example, only every third item needs to be included in the slice."
   ]
  },
  {
   "cell_type": "code",
   "execution_count": 44,
   "metadata": {},
   "outputs": [
    {
     "data": {
      "text/plain": [
       "'wne'"
      ]
     },
     "execution_count": 44,
     "metadata": {},
     "output_type": "execute_result"
    }
   ],
   "source": [
    "\"wonderful\"[:5:2]"
   ]
  },
  {
   "cell_type": "code",
   "execution_count": 45,
   "metadata": {},
   "outputs": [
    {
     "data": {
      "text/plain": [
       "'wnefl'"
      ]
     },
     "execution_count": 45,
     "metadata": {},
     "output_type": "execute_result"
    }
   ],
   "source": [
    "\"wonderful\"[::2]"
   ]
  },
  {
   "cell_type": "markdown",
   "metadata": {},
   "source": [
    "The distance can be negative, and in this case, the selected positions start from the bigger indecies and go down to the smaller ones, therefore the `start` argument is bigger than the `end` one."
   ]
  },
  {
   "cell_type": "code",
   "execution_count": 94,
   "metadata": {},
   "outputs": [
    {
     "data": {
      "text/plain": [
       "'lr'"
      ]
     },
     "execution_count": 94,
     "metadata": {},
     "output_type": "execute_result"
    }
   ],
   "source": [
    "\"wonderful\"[8:2:-3]"
   ]
  },
  {
   "cell_type": "markdown",
   "metadata": {},
   "source": [
    "**Practice:** how to reverse a string using slicing?"
   ]
  },
  {
   "cell_type": "code",
   "execution_count": null,
   "metadata": {},
   "outputs": [],
   "source": []
  },
  {
   "cell_type": "markdown",
   "metadata": {},
   "source": [
    "### Negative indexing\n",
    "\n",
    "Python supports negative indexing. In this case, _the index of the final element_ is $-1$, pre-final one is $-2$, and so on."
   ]
  },
  {
   "cell_type": "code",
   "execution_count": 59,
   "metadata": {},
   "outputs": [
    {
     "data": {
      "text/plain": [
       "'e'"
      ]
     },
     "execution_count": 59,
     "metadata": {},
     "output_type": "execute_result"
    }
   ],
   "source": [
    "\"apple\"[-1]"
   ]
  },
  {
   "cell_type": "code",
   "execution_count": 60,
   "metadata": {},
   "outputs": [
    {
     "data": {
      "text/plain": [
       "'ppl'"
      ]
     },
     "execution_count": 60,
     "metadata": {},
     "output_type": "execute_result"
    }
   ],
   "source": [
    "\"apple\"[-4:-1]"
   ]
  },
  {
   "cell_type": "code",
   "execution_count": 61,
   "metadata": {},
   "outputs": [
    {
     "data": {
      "text/plain": [
       "'iitm'"
      ]
     },
     "execution_count": 61,
     "metadata": {},
     "output_type": "execute_result"
    }
   ],
   "source": [
    "\"antidisestablishmentarianism\"[-3:-13:-3]"
   ]
  },
  {
   "cell_type": "markdown",
   "metadata": {},
   "source": [
    "Here, the first included index is $-3$. The second is $-3-3$, or $-6$. Then $-9$ and $-12$, and $-15$ is not included because it is bigger than $-13$."
   ]
  },
  {
   "cell_type": "markdown",
   "metadata": {},
   "source": [
    "### The `find` method\n",
    "\n",
    "`str.find(string, substring)` returns the index of the string where the given substring starts, or `-1` if the substring is not found."
   ]
  },
  {
   "cell_type": "code",
   "execution_count": 95,
   "metadata": {},
   "outputs": [
    {
     "data": {
      "text/plain": [
       "4"
      ]
     },
     "execution_count": 95,
     "metadata": {},
     "output_type": "execute_result"
    }
   ],
   "source": [
    "str.find(\"an apple\", \"pp\")"
   ]
  },
  {
   "cell_type": "code",
   "execution_count": 65,
   "metadata": {},
   "outputs": [
    {
     "data": {
      "text/plain": [
       "-1"
      ]
     },
     "execution_count": 65,
     "metadata": {},
     "output_type": "execute_result"
    }
   ],
   "source": [
    "str.find(\"apple\", \"abc\")"
   ]
  },
  {
   "cell_type": "markdown",
   "metadata": {},
   "source": [
    "However, if the substring is found more then once, `find` returns the starting index only of its first occurrence."
   ]
  },
  {
   "cell_type": "code",
   "execution_count": 96,
   "metadata": {},
   "outputs": [
    {
     "data": {
      "text/plain": [
       "0"
      ]
     },
     "execution_count": 96,
     "metadata": {},
     "output_type": "execute_result"
    }
   ],
   "source": [
    "str.find(\"rock and roll\", \"ro\")"
   ]
  },
  {
   "cell_type": "markdown",
   "metadata": {},
   "source": [
    "A more precise name for functions such as `find`, `upper`, `lower`, etc. are **methods**. Methods are defined for specific types of objects, and they can be called either by the full reference, as `str.upper(some_string)`, or by the short one as `some_string.upper()`.\n",
    "\n",
    "Intuitively, **methods** depend on the type of the object they operate with. For example, the definition of the object `str` includes the definition of the method `upper`.\n",
    "**Functions** operate with objects, but they are defined independently of those objects."
   ]
  },
  {
   "cell_type": "code",
   "execution_count": 97,
   "metadata": {},
   "outputs": [
    {
     "data": {
      "text/plain": [
       "True"
      ]
     },
     "execution_count": 97,
     "metadata": {},
     "output_type": "execute_result"
    }
   ],
   "source": [
    "str.upper(\"heLLo wORld\") == \"heLLo wORld\".upper()"
   ]
  },
  {
   "cell_type": "code",
   "execution_count": 98,
   "metadata": {},
   "outputs": [
    {
     "data": {
      "text/plain": [
       "True"
      ]
     },
     "execution_count": 98,
     "metadata": {},
     "output_type": "execute_result"
    }
   ],
   "source": [
    "str.find(\"Hello\", \"ll\") == \"Hello\".find(\"ll\")"
   ]
  },
  {
   "cell_type": "markdown",
   "metadata": {},
   "source": [
    "### Practice: calculating initial and final indecies\n",
    "\n",
    "Write code that requires a string and its substring. It then prints the initial and final indecies of the substring in that string in positive and in negative representations. For example:\n",
    "\n",
    "    String: subsequential\n",
    "    Substring: quen\n",
    "    \n",
    "    The non-negative slice is [5:9].\n",
    "    The negative slice is [-8:-4]."
   ]
  },
  {
   "cell_type": "code",
   "execution_count": null,
   "metadata": {},
   "outputs": [],
   "source": []
  },
  {
   "cell_type": "markdown",
   "metadata": {},
   "source": [
    "# Homework 2\n",
    "\n",
    "**Due on Sunday, September 15th, 11.59pm**\n",
    "\n",
    "Send your notebook (don't forget to save your solutions!) to <alena.aksenova@stonybrook.edu> with the subject **\\[CompLing1\\] Homework 2**."
   ]
  },
  {
   "cell_type": "markdown",
   "metadata": {},
   "source": [
    "**Peoblem 1.**\n",
    "You might have heard of *Dungeons & Dragons*, a pen-and-paper roleplaying game where the player creates their own fantasy character and then plays this character in a series of adventures.\n",
    "There are different types of characters to choose from, but they must satisfy certain requirements.\n",
    "\n",
    "_Alignment_ places the character's ethics and morals along two axes: lawful-neutral-chaotic, and good-neutral-evil. Here is a selection of alignments of the characters:\n",
    "\n",
    "- _Paladin:_ lawful-good\n",
    "- _Antipaladin:_ chaotic-evil\n",
    "- _Monk:_ any combination with lawful\n",
    "- _Rogue:_ any combination that's not lawful\n",
    "- _Druid:_ must not be lawful-good or chaotic-good\n",
    "- _Fighter:_ anything goes\n",
    "\n",
    "Ask user for their preferred position on these two axes, and pring on the screen possible characters for the user. The list should not contain any duplicates.\n",
    "If the user enters a choice that does not exist, tell them so and assume `neutral` instead.\n",
    "\n",
    "    Choose one from lawful-neutral-chaotic: chaotic\n",
    "    Choose one from good-neutral-evil: good\n",
    "    \n",
    "    You are chaotic-good. You can be:\n",
    "    - rogue\n",
    "    - fighter"
   ]
  },
  {
   "cell_type": "code",
   "execution_count": null,
   "metadata": {},
   "outputs": [],
   "source": []
  },
  {
   "cell_type": "markdown",
   "metadata": {},
   "source": [
    "**Problem 2.** You are given the following list of words whose reversals are words as well. There are [more](https://www.buzzfeed.com/kellyoakes/words-that-mean-something-different-backwards) of those!"
   ]
  },
  {
   "cell_type": "code",
   "execution_count": 99,
   "metadata": {},
   "outputs": [],
   "source": [
    "reversal_words = [\"desserts\", \"stressed\", \"live\", \"evil\", \"knits\", \"stink\", \"sports\", \"strops\",\n",
    "                 \"regal\", \"lager\", \"pupils\", \"slipup\", \"raw\", \"war\", \"pals\", \"slap\"]"
   ]
  },
  {
   "cell_type": "markdown",
   "metadata": {},
   "source": [
    "Remember, that if you ran the previous cell where the variable `reversal_words` was defined, you can refer to that list later in the notebook."
   ]
  },
  {
   "cell_type": "code",
   "execution_count": 100,
   "metadata": {},
   "outputs": [
    {
     "data": {
      "text/plain": [
       "'evil'"
      ]
     },
     "execution_count": 100,
     "metadata": {},
     "output_type": "execute_result"
    }
   ],
   "source": [
    "reversal_words[3]"
   ]
  },
  {
   "cell_type": "markdown",
   "metadata": {},
   "source": [
    "Implement a routine with the following behavior:\n",
    "\n",
    "    The input word: knits\n",
    "    \n",
    "    This word remains a word when reversed!\n",
    "    The reversal of that word: stink"
   ]
  },
  {
   "cell_type": "code",
   "execution_count": null,
   "metadata": {},
   "outputs": [],
   "source": []
  },
  {
   "cell_type": "markdown",
   "metadata": {},
   "source": [
    "**Problem 3.** Leap and non-leap years.\n",
    "\n",
    "    A year is leap year if it is divisible by 4 unless it is a century year (i.e. ends with 00). A century year is only leap when it is divisible by 400.\n",
    "    \n",
    "For this, it would be convenient to use the modulo division operator `%`:"
   ]
  },
  {
   "cell_type": "code",
   "execution_count": 85,
   "metadata": {},
   "outputs": [
    {
     "name": "stdout",
     "output_type": "stream",
     "text": [
      "107 % 25 = 7\n",
      "13 % 2 = 1\n"
     ]
    }
   ],
   "source": [
    "print(\"107 % 25 =\", 107 % 25)\n",
    "print(\"13 % 2 =\", 13 % 2)"
   ]
  },
  {
   "cell_type": "markdown",
   "metadata": {},
   "source": [
    "Write a code that tells if the year provided by a user is leap or not."
   ]
  },
  {
   "cell_type": "code",
   "execution_count": null,
   "metadata": {},
   "outputs": [],
   "source": []
  }
 ],
 "metadata": {
  "kernelspec": {
   "display_name": "Python 3",
   "language": "python",
   "name": "python3"
  },
  "language_info": {
   "codemirror_mode": {
    "name": "ipython",
    "version": 3
   },
   "file_extension": ".py",
   "mimetype": "text/x-python",
   "name": "python",
   "nbconvert_exporter": "python",
   "pygments_lexer": "ipython3",
   "version": "3.6.8"
  }
 },
 "nbformat": 4,
 "nbformat_minor": 2
}
