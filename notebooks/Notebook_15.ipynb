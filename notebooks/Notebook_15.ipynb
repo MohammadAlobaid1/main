{
 "cells": [
  {
   "cell_type": "markdown",
   "metadata": {
    "colab_type": "text",
    "id": "_3OV_5cSCk7V"
   },
   "source": [
    "<div style=\"text-align: right\">\n",
    "    <i>\n",
    "        LIN 537: Computational Lingusitics 1 <br>\n",
    "        Fall 2019 <br>\n",
    "        Alëna Aksënova ft. Joanne Chau\n",
    "    </i>\n",
    "</div>\n",
    "\n",
    "# Notebook 15: Trees and tree traversals \n",
    "\n",
    "In this notebook, we will learn a concept of **tree traversals** -- which refers to the process of checking and or updating each node of a **tree** structure _exactly once_. There are three types of tree traversals in which will be covered: _pre-order, in-order,_ and _post-order_ traversals."
   ]
  },
  {
   "cell_type": "markdown",
   "metadata": {},
   "source": [
    "## Implementation of trees\n",
    "\n",
    "**Tree** data structure can be implemented in Python as a _collection of nodes_ with the relations such as \"child\" defined in-between them. The basic item of the tree is a node, and we can define it using a class `Node`.\n",
    "\n",
    "Trees are extremely important for linguistics, and especially for those working on syntax. For the purpose of this course, we will be working only with the _binary trees,_ but the code can be generalized towards other types of branching as well.\n",
    "\n",
    "Consider the following implementation of `Node`. It has the following attributes:\n",
    "\n",
    "  * `label` stores the label of the node;\n",
    "  * `left_child` defines the left child of the node;\n",
    "  * `right_child` defines its right child."
   ]
  },
  {
   "cell_type": "code",
   "execution_count": null,
   "metadata": {},
   "outputs": [],
   "source": [
    "class Node():\n",
    "    \"\"\" Defines a node in a tree. \"\"\"\n",
    "    \n",
    "    def __init__(self, label, left_child = None, right_child = None):\n",
    "        self.label = label\n",
    "        self.left_child = left_child\n",
    "        self.right_child = right_child"
   ]
  },
  {
   "cell_type": "markdown",
   "metadata": {},
   "source": [
    "Now, let us encode a very simple binary tree given below.\n",
    "\n",
    "<img src=\"images/15_1.png\" width=\"200\">"
   ]
  },
  {
   "cell_type": "code",
   "execution_count": null,
   "metadata": {},
   "outputs": [],
   "source": [
    "NP = Node(\"NP\")\n",
    "VP = Node(\"VP\")\n",
    "S = Node(\"S\", left_child = NP, right_child = VP)"
   ]
  },
  {
   "cell_type": "markdown",
   "metadata": {},
   "source": [
    "Or, alternatively, we can define it as below."
   ]
  },
  {
   "cell_type": "code",
   "execution_count": null,
   "metadata": {},
   "outputs": [],
   "source": [
    "S = Node(\"S\", left_child = Node(\"NP\"), right_child = Node(\"VP\"))"
   ]
  },
  {
   "cell_type": "markdown",
   "metadata": {},
   "source": [
    "Now, it is easy to access labels of the nodes in that tree, starting from the root node."
   ]
  },
  {
   "cell_type": "code",
   "execution_count": null,
   "metadata": {},
   "outputs": [],
   "source": [
    "print(\"Root node:\", S.label)\n",
    "print(\"Left child of the root:\", S.left_child.label)\n",
    "print(\"Right child of the root:\", S.right_child.label)"
   ]
  },
  {
   "cell_type": "markdown",
   "metadata": {},
   "source": [
    "**Practice 1.** Implement the following tree. Print the value of the node `V`.\n",
    "\n",
    "<img src=\"images/15_2.png\" width=\"250\">"
   ]
  },
  {
   "cell_type": "code",
   "execution_count": null,
   "metadata": {},
   "outputs": [],
   "source": [
    "# your code"
   ]
  },
  {
   "cell_type": "markdown",
   "metadata": {},
   "source": [
    "**Practice 2.** define a method `is_leaf` within the class `Node` that will return True if the node is a leaf, and False otherwise. Remember, that the node is a **leaf** if it has no children."
   ]
  },
  {
   "cell_type": "code",
   "execution_count": null,
   "metadata": {},
   "outputs": [],
   "source": [
    "class Node():\n",
    "    \"\"\" Defines a node in a tree. \"\"\"\n",
    "    \n",
    "    def __init__(self, label, left_child = None, right_child = None):\n",
    "        self.label = label\n",
    "        self.left_child = left_child\n",
    "        self.right_child = right_child\n",
    "        \n",
    "    def is_leaf(self):\n",
    "        \"\"\" Tells if the node is a tree. \"\"\"\n",
    "        pass"
   ]
  },
  {
   "cell_type": "markdown",
   "metadata": {},
   "source": [
    "Test if using the following trees. Expect the following output:\n",
    "\n",
    "    Expected output:    S: False\n",
    "                       NP: True"
   ]
  },
  {
   "cell_type": "code",
   "execution_count": null,
   "metadata": {},
   "outputs": [],
   "source": [
    "NP = Node(\"NP\")\n",
    "VP = Node(\"VP\")\n",
    "S = Node(\"S\", left_child = NP, right_child = VP)\n",
    "\n",
    "# print(\" S:\", S.is_leaf())\n",
    "# print(\"NP:\", NP.is_leaf())"
   ]
  },
  {
   "cell_type": "markdown",
   "metadata": {},
   "source": [
    "## Traversals\n",
    "\n",
    "**\"Traverse\"** is a basic operation that are applied to data structures. When we traverse, we visit every element of the structure. For example, we have traversed lists in the past when we were looping throught them using `for`-loops: every item of the list was accessed exactly once.\n",
    "In **tree traverse**, we visit every node of the tree once. Unlike lists or strings, where there is a logical start and end to the traverse, there are different ways to approach traverse for trees.\n",
    "\n",
    "For example, consider the image below.\n",
    "Here, the labels are the orders in which the nodes are visited.\n",
    "So, we start from the root, then we proceed to its left child, then to the right one.\n",
    "Then we access the left child of the left child of the root, etc.\n",
    "\n",
    "\n",
    "<center>\n",
    "<img src = \"http://www.techgeekbuzz.com/wp-content/uploads/2019/09/Tree-Traversal.png\" width = \"400\">\n",
    "</center>\n",
    "<center>\n",
    "<i>Example of a tree traversal </i>\n",
    "</center>"
   ]
  },
  {
   "cell_type": "markdown",
   "metadata": {
    "colab_type": "text",
    "id": "7VAi8Ji6MVLb"
   },
   "source": [
    "## Tree traversals\n",
    "\n",
    "Unlike lists, trees can be read in different ways. For example, we can either go breadth-first (**breadth first traversals**), or first descent as deep as possible (**depth first traversal**). Usually they are called **breadth first search (BFS)** and **depth first search (DFS)** because search is a frequent reason to traverse a tree.\n",
    "\n",
    "In BFS, we start at the highest node and process the tree layer-by-layer, not looking at the nodes' children or sibling relationships. This is a linear processing of the tree.\n",
    "\n",
    "DFS is the opposite, where children of nodes come into considerations. We process the trees by looking into each of the nodes to process all its' children before moving to the next sibling. There are three types of depth first traversals: **pre-order**, **in-order**, and **post-order**. "
   ]
  },
  {
   "cell_type": "markdown",
   "metadata": {
    "colab_type": "text",
    "id": "Z_lAEkn29gWe"
   },
   "source": [
    "## Breadth First Search (BFS)\n",
    "BFS, also known as **Level Order Traversal**, traverses nodes in layers, or levels. Look at the diagram below: \n",
    "<center>\n",
    "<img src = \"https://he-s3.s3.amazonaws.com/media/uploads/fdec3c2.jpg\" width = \"400\">\n",
    "</center>\n",
    "<center>\n",
    "<i>Demonstration on how to read a level order traversal. </i>\n",
    "</center>\n",
    "\n",
    "This traversal always starts from the top of the tree. Imaging that each step of the tree is a layer, we read from the top down, left to right. In this tree (ignoring the weird braching), the traverse would read `0 1 2 3 4 5 6 7`. In this case, `0` would be our **root node**, i.e. the starting node of the tree."
   ]
  },
  {
   "cell_type": "markdown",
   "metadata": {},
   "source": [
    "For example, consider the encoding of the following tree.\n",
    "\n",
    "<img src=\"images/15_3.png\" width=\"250\">"
   ]
  },
  {
   "cell_type": "code",
   "execution_count": null,
   "metadata": {},
   "outputs": [],
   "source": [
    "tree = Node(\"3\")\n",
    "four = Node(\"4\")\n",
    "five = Node(\"5\")\n",
    "six = Node(\"6\")\n",
    "\n",
    "one = Node(\"1\", tree, four)\n",
    "two = Node(\"2\", five, six)\n",
    "\n",
    "zero = Node(\"0\", one, two)"
   ]
  },
  {
   "cell_type": "markdown",
   "metadata": {},
   "source": [
    "In order to avoid a long yet readable tree definition, we can use a more concise way."
   ]
  },
  {
   "cell_type": "code",
   "execution_count": null,
   "metadata": {},
   "outputs": [],
   "source": [
    "tree = Node(\"0\", Node(\"1\", Node(\"3\"), Node(\"4\")), Node(\"2\", Node(\"5\"), Node(\"6\")))"
   ]
  },
  {
   "cell_type": "markdown",
   "metadata": {},
   "source": [
    "The following code implements a method `level_order_traversal` for the class `Node`."
   ]
  },
  {
   "cell_type": "code",
   "execution_count": null,
   "metadata": {},
   "outputs": [],
   "source": [
    "class Node():\n",
    "    \"\"\" Defines a node in a tree. \"\"\"\n",
    "    \n",
    "    def __init__(self, label, left_child = None, right_child = None):\n",
    "        self.label = label\n",
    "        self.left_child = left_child\n",
    "        self.right_child = right_child\n",
    "    \n",
    "    \n",
    "    def level_order_traversal(self):\n",
    "        \"\"\" Implements the level-order traversal of a tree. \"\"\"\n",
    "        \n",
    "        # here we will save all the nodes that we explored already\n",
    "        explored = []\n",
    "        \n",
    "        # here we have out to-do list, we'll keep updating it\n",
    "        queue = [self]\n",
    "        \n",
    "        # while there is something in the queue, take its first element\n",
    "        while queue:\n",
    "            node = queue.pop(0)\n",
    "            \n",
    "            if node:\n",
    "                # mark the current node as explored, and add its children to the queue\n",
    "                explored.append(node)\n",
    "                queue.extend([node.left_child, node.right_child])\n",
    "                \n",
    "        # collect labels of the explored nodes\n",
    "        order = [i.label for i in explored]\n",
    "        return order"
   ]
  },
  {
   "cell_type": "code",
   "execution_count": null,
   "metadata": {},
   "outputs": [],
   "source": [
    "tree = Node(\"0\", Node(\"1\", Node(\"3\"), Node(\"4\")), Node(\"2\", Node(\"5\"), Node(\"6\")))\n",
    "print(tree.level_order_traversal())"
   ]
  },
  {
   "cell_type": "markdown",
   "metadata": {},
   "source": [
    "**Question.** Why do we need the code `if node:` in the `level_order_traversal` above?\n",
    "\n",
    "**Practice.** Using the code of the `level_order_traversal`, implement a method `BFS` that takes a label of a node as argument and returns all sub-nodes of the root with that label."
   ]
  },
  {
   "cell_type": "code",
   "execution_count": null,
   "metadata": {},
   "outputs": [],
   "source": [
    "class Node():\n",
    "    \"\"\" Defines a node in a tree. \"\"\"\n",
    "    \n",
    "    def __init__(self, label, left_child = None, right_child = None):\n",
    "        self.label = label\n",
    "        self.left_child = left_child\n",
    "        self.right_child = right_child\n",
    "    \n",
    "    \n",
    "    def level_order_traversal(self):\n",
    "        \"\"\" Implements the level-order traversal of a tree. \"\"\"\n",
    "        \n",
    "        explored = []\n",
    "        queue = [self]\n",
    "        \n",
    "        while queue:\n",
    "            node = queue.pop(0)\n",
    "            \n",
    "            if node:\n",
    "                explored.append(node)\n",
    "                queue.extend([node.left_child, node.right_child])\n",
    "                \n",
    "        order = [i.label for i in explored]\n",
    "        return order\n",
    "    \n",
    "\n",
    "    def BFS(self, label):\n",
    "        \"\"\" Implements breadth first search. \"\"\"\n",
    "        pass"
   ]
  },
  {
   "cell_type": "markdown",
   "metadata": {},
   "source": [
    "Test it in the following cell.\n",
    "\n",
    "    Expected output (example):\n",
    "        [<__main__.Node object at 0x7f3edc3f8240>, \n",
    "         <__main__.Node object at 0x7f3edc3f8a20>, \n",
    "         <__main__.Node object at 0x7f3edc3f8208>]"
   ]
  },
  {
   "cell_type": "code",
   "execution_count": null,
   "metadata": {},
   "outputs": [],
   "source": [
    "tree = Node(\"0\", Node(\"1\", Node(\"0\"), Node(\"4\")), Node(\"2\", Node(\"0\"), Node(\"6\")))\n",
    "\n",
    "# uncomment to test\n",
    "# print(tree.BFS(\"0\"))"
   ]
  },
  {
   "cell_type": "markdown",
   "metadata": {
    "colab_type": "text",
    "id": "_ibqPppA--vq"
   },
   "source": [
    "## Depth First Search (DFS)\n",
    "\n",
    "As mentioned earlier in the notebook, there are tree types of Depth First Search for trees. \n",
    "\n",
    "*  **Pre-Order Traversal**: In this traversal, we start at the root of the tree, read everything in it's left subtree first and then everything in the right subtree. When reading pre-order traversals, ensure that all children are read before moving over to the next subtree. Notice as you examine the diagram below that we finish the lowest subtrees first before moving along the tree. \n",
    "<center>\n",
    "<img src = \"https://www.gatevidyalay.com/wp-content/uploads/2018/07/Preorder-Traversal-Example.png\" width = \"400\">\n",
    "</center>\n",
    "<center>\n",
    "<i> Example of a pre-order traversal </i>\n",
    "</center> \n",
    "*  **In-Order Traversal**: For in-order traversals, first start with the left subtree, then we go to the root, and then the right subtree. We start with the lowest left sibling and then work our way up and over. \n",
    "<center>\n",
    "<img src = \"https://www.gatevidyalay.com/wp-content/uploads/2018/07/Inorder-Traversal-Example-1.png\" width = \"400\">\n",
    "</center>\n",
    "<center>\n",
    "<i> Example of a in-order traversal </i>\n",
    "</center> \n",
    "*  **Post-Order Traversal**: For our final traversal, we start with the lowest left node, then its' sister to the right, and then the node and work our way up the tree. \n",
    "<center>\n",
    "<img src = \"https://www.gatevidyalay.com/wp-content/uploads/2018/07/Postorder-Traversal-Example.png\" width = \"400\">\n",
    "</center>\n",
    "<center>\n",
    "<i> Example of a post-order traversal </i>\n",
    "</center> \n",
    "\n",
    "Below are diagrams that will help guide you in reading traversals as you accustom your eyes into doing so. \n",
    "<center>\n",
    "<img src = \"https://www.gatevidyalay.com/wp-content/uploads/2018/07/Preorder-Traversal-Shortcut-1.png\" width = \"400\">\n",
    "</center>\n",
    "<center>\n",
    "<i> Demonstration of reading a pre-order traversal </i>\n",
    "</center> \n",
    "<center>\n",
    "<img src = \"https://www.gatevidyalay.com/wp-content/uploads/2018/07/Inorder-Traversal-Shortcut-1.png\" width = \"400\">\n",
    "</center>\n",
    "<center>\n",
    "<i> Demonstration of reading a in-order traversal </i>\n",
    "</center> \n",
    "<center>\n",
    "<img src = \"https://www.gatevidyalay.com/wp-content/uploads/2018/07/Postorder-Traversal-Shortcut-1.png\" width = \"400\">\n",
    "</center>\n",
    "<center>\n",
    "<i> Demonstration of reading a post-order traversal. Imagine plucking off all the left leaves of a tree first. </i>\n",
    "</center> "
   ]
  },
  {
   "cell_type": "markdown",
   "metadata": {
    "colab_type": "text",
    "id": "GQbM_0VnO2i6"
   },
   "source": [
    "## Tree Traversal and Recursion\n",
    "\n",
    "Recursion in computer science is a method of problem solving where the solution is dependent on the smaller instances to the solution, think of the triangle puzzle we did in class, divide and conquer! \n",
    "\n",
    "Examine the below tree. Pretend you're a computer and your task is to parse this tree as a preorder traversal. How would you do this? \n",
    "\n",
    "<center>\n",
    "<img src = \"https://www.cs.cmu.edu/~adamchik/15-121/lectures/Trees/pix/binaryTree.bmp\" width = \"400\">\n",
    "</center>\n",
    "<center>\n",
    "<i> Simple binary tree. </i>\n",
    "</center> \n",
    "\n",
    "Start at the root node `A` and read its left child, `B`. Now, `B` becomes the root node, and we examine its left child, `D`. Now that all the subtrees of the left are read, we go to the right child of `A`, `C`. We examine now the left child of `C`, which is `E`, and lastly, the right child of `C`, `F`. Can you see how this is recursive? \n",
    "\n",
    "Tree traversal are multiple direct recursion. Multiple recursion is when the recursion contains multiple self self-references. Direct recursion occurs when a function calls upon itself.\n",
    "\n",
    "Keeping this in mind, we can design and implement functions that can check readings of tree traversals for us. \n"
   ]
  },
  {
   "cell_type": "markdown",
   "metadata": {
    "colab_type": "text",
    "id": "yBaqWNeTD_SO"
   },
   "source": [
    "##Python\n",
    "\n",
    "So the question now becomes, how do we code this into Python. We can simply classify our nodes into a class, where we look at what is our children and parents. "
   ]
  },
  {
   "cell_type": "code",
   "execution_count": null,
   "metadata": {
    "colab": {},
    "colab_type": "code",
    "id": "_19YbdtrEMB4"
   },
   "outputs": [],
   "source": [
    "class Node(): \n",
    "  def __init__(self,key):\n",
    "    self.parent = None\n",
    "    self.sister = None\n",
    "    self.left = None\n",
    "    self.right = None\n",
    "    self.val = key"
   ]
  },
  {
   "cell_type": "markdown",
   "metadata": {
    "colab_type": "text",
    "id": "kfrmS58oEdmz"
   },
   "source": [
    "We can design functions that can help check the readings of tree traversals for us. \n",
    "\n",
    "We can make a `def Levelorder()` function with the class of Nodes. "
   ]
  },
  {
   "cell_type": "code",
   "execution_count": null,
   "metadata": {
    "colab": {},
    "colab_type": "code",
    "id": "p5FmkoVXP--I"
   },
   "outputs": [],
   "source": [
    "def Levelorder(): \n",
    "  # implement a function that would print each of the levels of the tree \n",
    "  "
   ]
  },
  {
   "cell_type": "markdown",
   "metadata": {
    "colab_type": "text",
    "id": "7sbIv7PxQJ8H"
   },
   "source": [
    "Let's say we are only curious to what the daughters are to the root node. (For instance, in syntax, we can say the root node is TP, and its daughters are DP and VP. Our function should be able to input the level we want to read, and be able to give us all the nodes on that level. Keep in mind, when we dig deeper into the tree we will be looking into more than one subtree, for example, the below tree, layer/level 2 are nodes `4 5 6 7`. \n",
    "\n",
    "<center>\n",
    "<img src = \"https://he-s3.s3.amazonaws.com/media/uploads/fdec3c2.jpg\" width = \"400\">\n",
    "</center>\n",
    "<center>\n",
    "<i>Demonstration on how to read a level order traversal. </i>\n",
    "</center>\n",
    "\n",
    "This function, we will call `def Levelnodes():` Instead of asking for all the possible nodes given on the layer, we will ask for specific daughters of a single node. The input should be the node we are looking as the root and the layer would be daughters that are under it. For the above picture, if we wanted all daughters for `1`, we would tell the code this and the output should be `4 5` only."
   ]
  },
  {
   "cell_type": "code",
   "execution_count": null,
   "metadata": {
    "colab": {},
    "colab_type": "code",
    "id": "LsAg0GiqRMtw"
   },
   "outputs": [],
   "source": [
    "def Levelnodes(root, level): \n",
    "  # input the root and level \n",
    "  # looking into the level, tell us the daughter "
   ]
  },
  {
   "cell_type": "markdown",
   "metadata": {
    "colab_type": "text",
    "id": "Ux1EryEyP0YA"
   },
   "source": [
    "For a `def Preorder():` function, knowing the class for Nodes, implement a function to check the tree traversal in the pre-order traverse."
   ]
  },
  {
   "cell_type": "code",
   "execution_count": null,
   "metadata": {
    "colab": {},
    "colab_type": "code",
    "id": "_Vz6iGiCFxPR"
   },
   "outputs": [],
   "source": [
    "def Preorder(): \n",
    "  # allow the tree to visit the root first \n",
    "  # traverse the left subtree, Preorder(left-subtree)\n",
    "  # traverse the right subtree, Preorder(right-subtree)"
   ]
  },
  {
   "cell_type": "markdown",
   "metadata": {
    "colab_type": "text",
    "id": "mZkbfitdGHs3"
   },
   "source": [
    "`def Inorder():` would look very similar "
   ]
  },
  {
   "cell_type": "code",
   "execution_count": null,
   "metadata": {
    "colab": {},
    "colab_type": "code",
    "id": "p3u5mj3dGMUn"
   },
   "outputs": [],
   "source": [
    "def Inorder(): \n",
    "  # traverse the left tree, Inorder(left-subtree) \n",
    "  # visit the root \n",
    "  # traverse the right tree, Inorder(right-subtree)"
   ]
  },
  {
   "cell_type": "markdown",
   "metadata": {
    "colab_type": "text",
    "id": "-Vt3y603Geyh"
   },
   "source": [
    "**Practice**: And now implement a fuction `def Postorder():`"
   ]
  },
  {
   "cell_type": "code",
   "execution_count": null,
   "metadata": {
    "colab": {},
    "colab_type": "code",
    "id": "Of3mcBALGjNi"
   },
   "outputs": [],
   "source": [
    "def Postorder(): \n",
    "  # traverse the left subtree, Postoder(left-subtree)\n",
    "  # traverse the right subtree, Postoder(right-subtree)\n",
    "  # visit the root"
   ]
  }
 ],
 "metadata": {
  "colab": {
   "collapsed_sections": [],
   "name": "Notebook_15.ipynb",
   "provenance": []
  },
  "kernelspec": {
   "display_name": "Python 3",
   "language": "python",
   "name": "python3"
  },
  "language_info": {
   "codemirror_mode": {
    "name": "ipython",
    "version": 3
   },
   "file_extension": ".py",
   "mimetype": "text/x-python",
   "name": "python",
   "nbconvert_exporter": "python",
   "pygments_lexer": "ipython3",
   "version": "3.6.8"
  }
 },
 "nbformat": 4,
 "nbformat_minor": 1
}
