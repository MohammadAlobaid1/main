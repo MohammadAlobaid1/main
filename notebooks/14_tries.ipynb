{
 "cells": [
  {
   "cell_type": "markdown",
   "metadata": {},
   "source": [
    "<div style=\"text-align: right\">\n",
    "    <i>\n",
    "        LIN 537: Computational Lingusitics 1 <br>\n",
    "        Fall 2019 <br>\n",
    "        Alëna Aksënova\n",
    "    </i>\n",
    "</div>\n",
    "\n",
    "# Notebook 14: tries\n",
    "\n",
    "This notebook introduces **tries**, or **prefix trees**.\n",
    "It is a tree-based data structure allowing to store a finite list of strings in memory compactly.\n",
    "\n",
    "Using an example of X-SAMPA (\"industrial\" representation of IPA symbols) sequences, an exercise in the end of the notebook exemplifies how prefix trees can be used for parsing the phonemic sequences, i.e. predicting both \"ice cream\" and \"I scream\" when given the input `[aI s k r i m]`.\n",
    "\n",
    "\n",
    "## Building prefix trees\n",
    "\n",
    "Imagine that we have the following list and we need to store it in memory.\n",
    "The cell below defines saving it as a list of strings."
   ]
  },
  {
   "cell_type": "code",
   "execution_count": 1,
   "metadata": {},
   "outputs": [],
   "source": [
    "words = [\"linguist\", \"language\", \"physics\"]"
   ]
  },
  {
   "cell_type": "markdown",
   "metadata": {},
   "source": [
    "However, there is another _data structure_ that allows to store a collection of strings more succinctly.\n",
    "\n",
    "A **trie**, or a **prefix tree**, stores strings in a tree that branches every time positions of the strings don't match. An empty string is the top node in the tree, because every string has something in-common: _every string starts with an empty substring_. Then, there are two options how to start a word in the list of `words`: \"l\" and \"p\", so the node of the empty string branches to the nodes \"l\" and \"p\", and so on."
   ]
  },
  {
   "cell_type": "markdown",
   "metadata": {},
   "source": [
    "<img src=\"images/14_1.png\" width=\"500\">"
   ]
  },
  {
   "cell_type": "markdown",
   "metadata": {},
   "source": [
    "**Prefix tree** can also be viewed as an automaton, where the empty prefix is the initial state, and the arrows are pointing right (if represented as on the picture above).\n",
    "This allows to move through the automaton, and yield strings formed based on the states/transitions.\n",
    "\n",
    "To encode a lexicon we also need to mark some states as final to mean that the sequence up to this point forms a word that this tree is storing.\n",
    "\n",
    "<img src=\"images/14_2.png\" width=\"600\">"
   ]
  },
  {
   "cell_type": "markdown",
   "metadata": {},
   "source": [
    "We can use a dictionary with the strings in nodes stored as the keys, and the dictionaries for its sub-trees saved as the values to represent a trie."
   ]
  },
  {
   "cell_type": "code",
   "execution_count": 2,
   "metadata": {},
   "outputs": [],
   "source": [
    "dictionary = {'': {'l': {'a': {'n': {'g': {'u': {'a': {'g': {'e': {}}}}}}},\n",
    "                         'i': {'n': {'g': {'u': {'i': {'s': {'t': {'i': {'c': {'s': {}}}}}}}}}}},\n",
    "                   'p': {'h': {'y': {'s': {'i': {'c': {'s': {}}}}}}}}}"
   ]
  },
  {
   "cell_type": "markdown",
   "metadata": {},
   "source": [
    "But this representation does not encode the final states.\n",
    "A simple way to do so is to add some special symbol to every word, and store those symbols in the prefix tree.\n",
    "The appearance of that symbol in the tree means that the path from the empty prefix to the special symbol is a word."
   ]
  },
  {
   "cell_type": "code",
   "execution_count": 3,
   "metadata": {},
   "outputs": [],
   "source": [
    "dictionary = {'': {'l': {'a': {'n': {'g': {'u': {'a': {'g': {'e': {'#': {}}}}}}}},\n",
    "                         'i': {'n': {'g': {'u': {'i': {'s': {'t': {'#': {},\n",
    "                                                                   'i': {'c': {'s': {'#': {}}}}}}}}}}}},\n",
    "                   'p': {'h': {'y': {'s': {'i': {'c': {'s': {'#': {}}}}}}}}}}"
   ]
  },
  {
   "cell_type": "markdown",
   "metadata": {},
   "source": [
    "Consider `create_prefix_tree` that generates a prefix trees like the one from the prevoius cell."
   ]
  },
  {
   "cell_type": "code",
   "execution_count": 4,
   "metadata": {},
   "outputs": [],
   "source": [
    "def create_prefix_tree(words):\n",
    "    \"\"\" Creates a prefix tree given the list of words. \"\"\"\n",
    "    \n",
    "    trie = {}\n",
    "\n",
    "    for w in words:\n",
    "        annotated_word = w + \"#\"\n",
    "        \n",
    "        # start from the upper level of the dictionary\n",
    "        current_level = trie\n",
    "\n",
    "        # iterate through symbols of the word\n",
    "        for s in annotated_word:\n",
    "\n",
    "            # if the current level doesn't store this key aleady, add it\n",
    "            if s not in current_level:\n",
    "                current_level[s] = {}\n",
    "\n",
    "            # move inside the dictionary of the current symbol stores as its value\n",
    "            current_level = current_level[s]\n",
    "\n",
    "    # add the empty string root node above all symbols\n",
    "    trie = {\"\": trie}\n",
    "\n",
    "    return trie"
   ]
  },
  {
   "cell_type": "markdown",
   "metadata": {},
   "source": [
    "Notice, that the code above takes advantage of the straightforward copy in Python: `current_level` is storing _a reference_ to the dictionary `trie`, and therefore modifying `current_level` modifies the variable `trie` because they are linked. To refresh this topic, see Notebook 3 explaining copying of lists: exactly the same applies here as well."
   ]
  },
  {
   "cell_type": "code",
   "execution_count": null,
   "metadata": {},
   "outputs": [],
   "source": [
    "from pprint import pprint\n",
    "\n",
    "\n",
    "words = [\"linguist\", \"language\", \"physics\", \"linguistics\"]\n",
    "trie = create_prefix_tree(words)\n",
    "pprint(trie)"
   ]
  },
  {
   "cell_type": "markdown",
   "metadata": {},
   "source": [
    "Indeed, these two prefix trees are identical."
   ]
  },
  {
   "cell_type": "code",
   "execution_count": null,
   "metadata": {},
   "outputs": [],
   "source": [
    "print(trie == dictionary)"
   ]
  },
  {
   "cell_type": "markdown",
   "metadata": {},
   "source": [
    "**Practice.** Implement a function inserting a word in the trie."
   ]
  },
  {
   "cell_type": "code",
   "execution_count": null,
   "metadata": {},
   "outputs": [],
   "source": [
    "def insert_word(trie, word):\n",
    "    \"\"\"\n",
    "    Inserts the given word into the given prefix tree.\n",
    "    \n",
    "    Arguments:\n",
    "        trie (dict): a prefix tree;\n",
    "        word (str): a word that needs to be inserted.\n",
    "        \n",
    "    Returns:\n",
    "        dict: an updated prefix tree.\n",
    "    \"\"\"\n",
    "    pass"
   ]
  },
  {
   "cell_type": "markdown",
   "metadata": {},
   "source": [
    "## Searching in tries\n",
    "\n",
    "Tries allow to search through collections of strings in a more efficient way than if they are stored as a list."
   ]
  },
  {
   "cell_type": "markdown",
   "metadata": {},
   "source": [
    "**Practice.** Write a function that takes two arguments: `trie` and `word`. It returns True if `word` is represented in `trie`, and False otherwise."
   ]
  },
  {
   "cell_type": "code",
   "execution_count": null,
   "metadata": {},
   "outputs": [],
   "source": [
    "def word_in_trie(trie, word):\n",
    "    \"\"\"\n",
    "    Tells if a given word is represented in the given prefix tree.\n",
    "    \n",
    "    Arguments:\n",
    "        trie (dict): a prefix tree;\n",
    "        word (str): a word that might or might not be a part of the trie.\n",
    "        \n",
    "    Returns:\n",
    "        bool: True if the word is a part of the trie, False otherwise.\n",
    "    \"\"\"\n",
    "    pass"
   ]
  },
  {
   "cell_type": "markdown",
   "metadata": {},
   "source": [
    "Test your code using the following strings:"
   ]
  },
  {
   "cell_type": "code",
   "execution_count": null,
   "metadata": {},
   "outputs": [],
   "source": [
    "words_test = [\"linguist\", \"linguistics\", \"lang\", \"\", \"math\"]\n",
    "for word in words_test:\n",
    "    print(word.rjust(12), \"\\t\", word_in_trie(trie, word))"
   ]
  },
  {
   "cell_type": "markdown",
   "metadata": {},
   "source": [
    "## Deleting words from tries\n",
    "\n",
    "There are several cases we need to consider when deleting words from tries:\n",
    "\n",
    "* a word is a prefix of some other word;\n",
    "* a word contains a prefix of some other word;\n",
    "* a word is unique;\n",
    "* a word is not represented in the trie.\n",
    "\n",
    "**Practice 1.** What is the way to handle the cases above?\n",
    "\n",
    "**Practice 2. (optional, very advanced)** Implement removing a word from the trie."
   ]
  },
  {
   "cell_type": "code",
   "execution_count": null,
   "metadata": {},
   "outputs": [],
   "source": []
  },
  {
   "cell_type": "markdown",
   "metadata": {},
   "source": [
    "## Parsing sequences of phonemes\n",
    "\n",
    "Tries are used to store lexical items or their phonemic representations: this data structure allows to search its members in an effective way.\n",
    "Consider a task of getting a sequence of phonemes as input and trying to assign it a phonetically possible parse.\n",
    "\n",
    "In industry, IPA symbols are represented using a special alphabet called **X-SAMPA**:  Extended Speech Assessment Methods Phonetic Alphabet ([wiki](https://en.wikipedia.org/wiki/X-SAMPA)).\n",
    "\n",
    "<img src=\"images/14_3.gif\" width=\"300\">"
   ]
  },
  {
   "cell_type": "markdown",
   "metadata": {},
   "source": [
    "Consider the following X-SAMPA transcription: `[aI s k r i m]`. The task of the alignment module is to understand what lexical items in which order are contained in that transcription.\n",
    "\n",
    "Assume we have the following words in the lexicon:"
   ]
  },
  {
   "cell_type": "code",
   "execution_count": null,
   "metadata": {},
   "outputs": [],
   "source": [
    "lexicon = [\"aI\", \"s k r i m\", \"aI s\", \"k r i m\", \"k r i m s\"]"
   ]
  },
  {
   "cell_type": "markdown",
   "metadata": {},
   "source": [
    "_Part 1._ Translate every lexical item to a list of strings, where every string is an X-SAMPA character.\n",
    "\n",
    "    Expected output: [['aI'], ['s', 'k', 'r', 'i', 'm'], ['aI', 's'], ['k', 'r', 'i', 'm'],\n",
    "                      ['k', 'r', 'i', 'm', 's']]"
   ]
  },
  {
   "cell_type": "code",
   "execution_count": null,
   "metadata": {},
   "outputs": [],
   "source": []
  },
  {
   "cell_type": "markdown",
   "metadata": {},
   "source": [
    "_Part 2._ Build a prefix tree representing the lexicon. You might want to use `create_prefix_tree` function and implement one small change in it.\n",
    "\n",
    "    Expected output: {'': {'aI': {'#': {}, \n",
    "                                  's': {'#': {}}},\n",
    "                          'k': {'r': {'i': {'m': {'#': {}, \n",
    "                                                  's': {'#': {}}}}}},\n",
    "                          's': {'k': {'r': {'i': {'m': {'#': {}}}}}}}}"
   ]
  },
  {
   "cell_type": "code",
   "execution_count": null,
   "metadata": {},
   "outputs": [],
   "source": []
  },
  {
   "cell_type": "markdown",
   "metadata": {},
   "source": [
    "_Part 3._ Take a look at the implementation of `find_words`, a function that finds all words in the given string that are present in the given trie."
   ]
  },
  {
   "cell_type": "code",
   "execution_count": null,
   "metadata": {},
   "outputs": [],
   "source": [
    "def find_words(trie, string):\n",
    "    \"\"\"\n",
    "    Finds all words in the given string that can be generated\n",
    "    using the fiven prefix tree.\n",
    "    \n",
    "    Arguments:\n",
    "        trie (dict): prefix tree;\n",
    "        string (str): a string that needs to be parsed.\n",
    "        \n",
    "    Outputs:\n",
    "        list: a list of words detected in that string.\n",
    "    \"\"\"\n",
    "    \n",
    "    words_detected = []\n",
    "    current_level = trie[\"\"]\n",
    "    \n",
    "    # iterating over indices of the string!\n",
    "    for i in range(len(string)):\n",
    "\n",
    "        # if a string cannot be parsed using a given trie\n",
    "        if string[i] not in current_level:\n",
    "            break\n",
    "                \n",
    "        # if a stop symbol can follow the current symbol,\n",
    "        # the part of that string up until now is a possible word\n",
    "        if \"#\" in current_level[string[i]]:\n",
    "            words_detected.append(string[:i+1])\n",
    "\n",
    "            # if the current symbol is not the last one,\n",
    "            # parse the remaining part of the string\n",
    "            if i < len(string) - 1:\n",
    "                words_detected.extend(find_words(trie, string[i+1:]))\n",
    "            \n",
    "        # go one level deeper to read the following symbol\n",
    "        current_level = current_level[string[i]]\n",
    "        \n",
    "    return words_detected"
   ]
  },
  {
   "cell_type": "markdown",
   "metadata": {},
   "source": [
    "The next cell should produce the following output:\n",
    "\n",
    "    [['aI'], ['s', 'k', 'r', 'i', 'm'], ['aI', 's'], ['k', 'r', 'i', 'm']]"
   ]
  },
  {
   "cell_type": "code",
   "execution_count": null,
   "metadata": {},
   "outputs": [],
   "source": [
    "input_string = \"aI s k r i m\"\n",
    "words_detected = find_words(trie, input_string.split())\n",
    "print(words_detected)"
   ]
  },
  {
   "cell_type": "markdown",
   "metadata": {},
   "source": [
    "_Part 4._ Assume that we know in advance that there are only two words in the `input_string`. Using the output of `find_parses`, find all working alignments for the `input_string`."
   ]
  },
  {
   "cell_type": "code",
   "execution_count": null,
   "metadata": {},
   "outputs": [],
   "source": []
  },
  {
   "cell_type": "markdown",
   "metadata": {},
   "source": [
    "_Part 5._ Now find all working alignments for `alternative_input`."
   ]
  },
  {
   "cell_type": "code",
   "execution_count": null,
   "metadata": {},
   "outputs": [],
   "source": [
    "alternative_input = \"aI s k r i m s\""
   ]
  }
 ],
 "metadata": {
  "kernelspec": {
   "display_name": "Python 3",
   "language": "python",
   "name": "python3"
  },
  "language_info": {
   "codemirror_mode": {
    "name": "ipython",
    "version": 3
   },
   "file_extension": ".py",
   "mimetype": "text/x-python",
   "name": "python",
   "nbconvert_exporter": "python",
   "pygments_lexer": "ipython3",
   "version": "3.6.8"
  }
 },
 "nbformat": 4,
 "nbformat_minor": 2
}
