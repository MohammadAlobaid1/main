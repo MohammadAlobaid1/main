{
 "cells": [
  {
   "cell_type": "markdown",
   "metadata": {},
   "source": [
    "<div style=\"text-align: right\">\n",
    "    <i>\n",
    "        LIN 537: Computational Lingusitics 1 <br>\n",
    "        Fall 2019 <br>\n",
    "        Alëna Aksënova\n",
    "    </i>\n",
    "</div>\n",
    "\n",
    "# Notebook 14: tries\n",
    "\n",
    "This notebook introduces **tries**, or **prefix trees**.\n",
    "It is a tree-based data structure allowing to store a finite list of strings in memory compactly.\n",
    "\n",
    "\n",
    "## Building prefix trees\n",
    "\n",
    "Imagine that we have the following list and we need to store it in memory.\n",
    "The cell below defines saving it as a list of strings."
   ]
  },
  {
   "cell_type": "code",
   "execution_count": null,
   "metadata": {},
   "outputs": [],
   "source": [
    "words = [\"linguist\", \"language\", \"physics\"]"
   ]
  },
  {
   "cell_type": "markdown",
   "metadata": {},
   "source": [
    "However, there is another _data structure_ that allows to store a collection of strings more succinctly.\n",
    "\n",
    "A **trie**, or a **prefix tree**, stores strings in a tree that branches every time positions of the strings don't match. An empty string is the top node in the tree, because every string has something in-common: _every string starts with an empty substring_. Then, there are two options how to start a word in the list of `words`: \"l\" and \"p\", so the node of the empty string branches to the nodes \"l\" and \"p\", and so on."
   ]
  },
  {
   "cell_type": "markdown",
   "metadata": {},
   "source": [
    "<img src=\"images/14_1.png\" width=\"500\">"
   ]
  },
  {
   "cell_type": "markdown",
   "metadata": {},
   "source": [
    "**Prefix tree** can also be viewed as an automaton, where the empty prefix is the initial state, and the arrows are pointing right (if represented as on the picture above).\n",
    "This allows to move through the automaton, and yield strings formed based on the states/transitions.\n",
    "\n",
    "To encode a lexicon we also need to mark some states as final to mean that the sequence up to this point forms a word that this tree is storing.\n",
    "\n",
    "<img src=\"images/14_2.png\" width=\"600\">"
   ]
  },
  {
   "cell_type": "markdown",
   "metadata": {},
   "source": [
    "To encode it, we can use a dictionary with the strings in nodes stored as the keys, and the dictionaries for its sub-trees saved as the values."
   ]
  },
  {
   "cell_type": "code",
   "execution_count": null,
   "metadata": {},
   "outputs": [],
   "source": [
    "dictionary = {'': {'l': {'a': {'n': {'g': {'u': {'a': {'g': {'e': {}}}}}}},\n",
    "                         'i': {'n': {'g': {'u': {'i': {'s': {'t': {'i': {'c': {'s': {}}}}}}}}}}},\n",
    "                   'p': {'h': {'y': {'s': {'i': {'c': {'s': {}}}}}}}}}"
   ]
  },
  {
   "cell_type": "markdown",
   "metadata": {},
   "source": [
    "But this representation does not encode the final states.\n",
    "A simple way to do so is to add some special symbol to every word, and store those symbols in the prefix tree.\n",
    "The appearance of that symbol in the tree means that the path from the empty prefix to the special symbol is a word."
   ]
  },
  {
   "cell_type": "code",
   "execution_count": null,
   "metadata": {},
   "outputs": [],
   "source": [
    "dictionary = {'': {'l': {'a': {'n': {'g': {'u': {'a': {'g': {'e': {'#': {}}}}}}}},\n",
    "                         'i': {'n': {'g': {'u': {'i': {'s': {'t': {'#': {},\n",
    "                                                                   'i': {'c': {'s': {'#': {}}}}}}}}}}}},\n",
    "                   'p': {'h': {'y': {'s': {'i': {'c': {'s': {'#': {}}}}}}}}}}"
   ]
  },
  {
   "cell_type": "markdown",
   "metadata": {},
   "source": [
    "Consider `create_prefix_tree` that generates a prefix trees like the one from the prevoius cell."
   ]
  },
  {
   "cell_type": "code",
   "execution_count": null,
   "metadata": {},
   "outputs": [],
   "source": [
    "def create_prefix_tree(words):\n",
    "    \"\"\" Creates a prefix tree given the list of words. \"\"\"\n",
    "    \n",
    "    trie = {}\n",
    "\n",
    "    for w in words:\n",
    "        annotated_word = w + \"#\"\n",
    "        \n",
    "        # start from the upper level of the dictionary\n",
    "        current_level = trie\n",
    "\n",
    "        # iterate through symbols of the word\n",
    "        for s in annotated_word:\n",
    "\n",
    "            # if the current level doesn't store this key aleady, add it\n",
    "            if s not in current_level:\n",
    "                current_level[s] = {}\n",
    "\n",
    "            # move inside the dictionary of the current symbol stores as its value\n",
    "            current_level = current_level[s]\n",
    "\n",
    "    # add the empty string root node above all symbols\n",
    "    trie = {\"\": trie}\n",
    "\n",
    "    return trie"
   ]
  },
  {
   "cell_type": "code",
   "execution_count": null,
   "metadata": {},
   "outputs": [],
   "source": [
    "from pprint import pprint\n",
    "\n",
    "\n",
    "words = [\"linguist\", \"language\", \"physics\", \"linguistics\"]\n",
    "trie = create_prefix_tree(words)\n",
    "pprint(trie)"
   ]
  },
  {
   "cell_type": "markdown",
   "metadata": {},
   "source": [
    "Indeed, these two prefix trees are identical."
   ]
  },
  {
   "cell_type": "code",
   "execution_count": null,
   "metadata": {},
   "outputs": [],
   "source": [
    "print(trie == dictionary)"
   ]
  },
  {
   "cell_type": "markdown",
   "metadata": {},
   "source": [
    "**Practice.** Implement a function inserting a word in the trie."
   ]
  },
  {
   "cell_type": "code",
   "execution_count": null,
   "metadata": {},
   "outputs": [],
   "source": [
    "def insert_word(trie, word):\n",
    "    \"\"\"\n",
    "    Inserts the given word into the given prefix tree.\n",
    "    \n",
    "    Arguments:\n",
    "        trie (dict): a prefix tree;\n",
    "        word (str): a word that needs to be inserted.\n",
    "        \n",
    "    Returns:\n",
    "        dict: an updated prefix tree.\n",
    "    \"\"\"\n",
    "    pass"
   ]
  },
  {
   "cell_type": "markdown",
   "metadata": {},
   "source": [
    "## Searching in tries\n",
    "\n",
    "Tries allow to search through collections of strings in a more efficient way in comparison to storing them as a list."
   ]
  },
  {
   "cell_type": "markdown",
   "metadata": {},
   "source": [
    "**Practice.** Write a function that takes two arguments: `trie` and `word`. It returns True if `word` is represented in `trie`, and False otherwise."
   ]
  },
  {
   "cell_type": "code",
   "execution_count": null,
   "metadata": {},
   "outputs": [],
   "source": [
    "def word_in_trie(trie, word):\n",
    "    \"\"\"\n",
    "    Tells if a given word is represented in the given prefix tree.\n",
    "    \n",
    "    Arguments:\n",
    "        trie (dict): a prefix tree;\n",
    "        word (str): a word that might or might not be a part of the trie.\n",
    "        \n",
    "    Returns:\n",
    "        bool: True if the word is a part of the trie, False otherwise.\n",
    "    \"\"\"\n",
    "    pass"
   ]
  },
  {
   "cell_type": "markdown",
   "metadata": {},
   "source": [
    "Test your code using the following strings:"
   ]
  },
  {
   "cell_type": "code",
   "execution_count": null,
   "metadata": {},
   "outputs": [],
   "source": [
    "words_test = [\"linguist\", \"linguistics\", \"lang\", \"\", \"math\"]\n",
    "for word in words_test:\n",
    "    print(word.rjust(12), \"\\t\", word_in_trie(trie, word))"
   ]
  },
  {
   "cell_type": "markdown",
   "metadata": {},
   "source": [
    "## Deleting words from tries\n",
    "\n",
    "There are several cases we need to consider when deleting words from tries:\n",
    "\n",
    "* word is a prefix of some other word;\n",
    "* word contains a prefix of some other word;\n",
    "* a word is unique;\n",
    "* a word is not represented in the trie.\n",
    "\n",
    "**Practice 1.** What is the way to handle the cases above?\n",
    "\n",
    "**Practice 2. (optional)** Implement removing a word from the trie."
   ]
  },
  {
   "cell_type": "code",
   "execution_count": null,
   "metadata": {},
   "outputs": [],
   "source": [
    "def remove_word_from_trie(trie, word):\n",
    "    \"\"\"\n",
    "    Removes the given word from the given prefix tree.\n",
    "    \n",
    "    Arguments:\n",
    "        trie (dict): a prefix tree;\n",
    "        word (str): a word that needs to be removed.\n",
    "        \n",
    "    Returns:\n",
    "        dict: an updated prefix tree.\n",
    "    \"\"\"\n",
    "    pass"
   ]
  }
 ],
 "metadata": {
  "kernelspec": {
   "display_name": "Python 3",
   "language": "python",
   "name": "python3"
  },
  "language_info": {
   "codemirror_mode": {
    "name": "ipython",
    "version": 3
   },
   "file_extension": ".py",
   "mimetype": "text/x-python",
   "name": "python",
   "nbconvert_exporter": "python",
   "pygments_lexer": "ipython3",
   "version": "3.6.8"
  }
 },
 "nbformat": 4,
 "nbformat_minor": 2
}
