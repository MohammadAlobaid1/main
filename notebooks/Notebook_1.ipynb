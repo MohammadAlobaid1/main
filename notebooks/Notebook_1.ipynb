{
 "cells": [
  {
   "cell_type": "markdown",
   "metadata": {},
   "source": [
    "<div style=\"text-align: right\">\n",
    "    <i>\n",
    "        LIN 537: Computational Lingusitics 1 <br>\n",
    "        Fall 2019 <br>\n",
    "        Alëna Aksënova\n",
    "    </i>\n",
    "</div>\n",
    "\n",
    "# Notebook 1: Basic IO, variables, boolean expressions\n",
    "\n",
    "This notebook introduces the basic programming terminology such as *funcitons*, *arguments*, *variables*, *IO* etc. It shows how to implement basic input-output operations using `print` and `input`. Then it explains such fundamental data types as `str`, `int`, `float` and `bool`. Finally, it demonstrates how to create and evaluate Boolean expressions."
   ]
  },
  {
   "cell_type": "markdown",
   "metadata": {},
   "source": [
    "## 1. The Jupyter environment\n",
    "\n",
    "In this class we are going to use Jupyter notebooks for coding. They are minimalistic, easy to read, they make it easy to write explanation in Markdown, and it is very convenient to work with the code in separate cells.\n",
    "\n",
    "In order to avoid the hassle of installing Jupyter notebooks locally, we will be using [Colaboratory](https://colab.research.google.com/notebooks/welcome.ipynb) that makes it easy to upload and work with the notebooks."
   ]
  },
  {
   "cell_type": "markdown",
   "metadata": {},
   "source": [
    "## 2. Functions and their arguments\n",
    "\n",
    "The notion of functions and arguments is probably not new to you, especially if you took formal semantics classes. Roughly, _John sleeps_ can be expressed as a function `sleep` getting `John` as an argument and therefore yielding `sleep(John)`.\n",
    "\n",
    "In Python, and in programming in general, **functions** can be thought of as descriptions of actions. They always return some value. For example,\n",
    " * function that reverses strings returns another string;\n",
    " * function that adds two numbers together returns their sum;\n",
    " * function that calculates number of symbols in a sentence returns that number.\n",
    " \n",
    "However, sometimes it might seem that a function is not returning anything. Spoiler: it returns something, and this something is *nothing*, or `None`.\n",
    "\n",
    "In order to perform the intended chain of action, a function needs zero or more **arguments**, or objects that are required in advance by that function. For example,\n",
    " * function that reverses strings needs to have 1 argument: a string to reverse;\n",
    " * function that removes first _n_ words from a sentence needs 2 arguments: the number of words to remove, and the sentence itself;\n",
    " * function that prints \"Hello world!\" needs 0 arguments: we know exactly what we are printing.\n",
    "\n",
    "\n",
    "**Question:** what arguments can a function that draws a circle have?\n",
    "\n",
    "The simplest function in Python is `print`. It simply displays on the screen its argument(s):"
   ]
  },
  {
   "cell_type": "code",
   "execution_count": null,
   "metadata": {},
   "outputs": [],
   "source": [
    "print(\"Hello world!\")"
   ]
  },
  {
   "cell_type": "code",
   "execution_count": null,
   "metadata": {},
   "outputs": [],
   "source": [
    "print(\"Mary\", \"John\")"
   ]
  },
  {
   "cell_type": "code",
   "execution_count": null,
   "metadata": {},
   "outputs": [],
   "source": [
    "print()"
   ]
  },
  {
   "cell_type": "code",
   "execution_count": null,
   "metadata": {},
   "outputs": [],
   "source": [
    "print(\"September\", 9)"
   ]
  },
  {
   "cell_type": "markdown",
   "metadata": {},
   "source": [
    "In simple words, the `print` function simply prints on the screen whatever it has in the parentheses. But in the previous cell, we see that the two arguments of `print` are colored in different colors. The reason for it that the Python syntax highlighting shows that they belong to _different data types_."
   ]
  },
  {
   "cell_type": "markdown",
   "metadata": {},
   "source": [
    "## 3. Basic data types: int, float, str, bool\n",
    "\n",
    "We will start exploting Python data types by looking at integers, floats, strings, and booleans.\n",
    "\n",
    "**Integers** (`int`) are numbers without a fractional component. For example, `8`, `0`, `-1` and `-9248` are integers, whereas `3.14` or `-1.333` are not. \n",
    "\n",
    "\n",
    "**Floating point numbers** (`float`) are numbers with the fractional component, i.e. `9.8`, `4.3958` or `-8.000001`.  \n",
    "\n",
    "This is a very important distinction, since integers and floating point numbers are stored differently in the memory of the computer. A function that conveniently shows the type of its argument is `type`. Like this, we can ensure that `8` is an integer, whereas `8.5` is not:"
   ]
  },
  {
   "cell_type": "code",
   "execution_count": null,
   "metadata": {},
   "outputs": [],
   "source": [
    "type(8)"
   ]
  },
  {
   "cell_type": "code",
   "execution_count": null,
   "metadata": {},
   "outputs": [],
   "source": [
    "type(8.5)"
   ]
  },
  {
   "cell_type": "markdown",
   "metadata": {},
   "source": [
    "Note, that when `8` is written as `8.0`, it is a `float` and not an integer!"
   ]
  },
  {
   "cell_type": "code",
   "execution_count": null,
   "metadata": {},
   "outputs": [],
   "source": [
    "type(8.0)"
   ]
  },
  {
   "cell_type": "markdown",
   "metadata": {},
   "source": [
    "We can perform arithmetic operations with integers and floats."
   ]
  },
  {
   "cell_type": "code",
   "execution_count": null,
   "metadata": {},
   "outputs": [],
   "source": [
    "# addition\n",
    "6 + 9"
   ]
  },
  {
   "cell_type": "code",
   "execution_count": null,
   "metadata": {},
   "outputs": [],
   "source": [
    "# substraction\n",
    "99 - 0.5"
   ]
  },
  {
   "cell_type": "code",
   "execution_count": null,
   "metadata": {},
   "outputs": [],
   "source": [
    "# multiplication\n",
    "5 * 2"
   ]
  },
  {
   "cell_type": "code",
   "execution_count": null,
   "metadata": {},
   "outputs": [],
   "source": [
    "# division that returns a floating point number (\"classic division\")\n",
    "115 / 2"
   ]
  },
  {
   "cell_type": "code",
   "execution_count": null,
   "metadata": {},
   "outputs": [],
   "source": [
    "# division that rounds down the result to a nearest integer (\"floor division\")\n",
    "115 // 2"
   ]
  },
  {
   "cell_type": "code",
   "execution_count": null,
   "metadata": {},
   "outputs": [],
   "source": [
    "# exponentiation\n",
    "2 ** 10"
   ]
  },
  {
   "cell_type": "markdown",
   "metadata": {},
   "source": [
    "**Practice:** how to calculate the square root of `1024` using Python knowledge that we already have?"
   ]
  },
  {
   "cell_type": "code",
   "execution_count": null,
   "metadata": {},
   "outputs": [],
   "source": [
    "# your code"
   ]
  },
  {
   "cell_type": "markdown",
   "metadata": {},
   "source": [
    "On a separate note, notice two things:\n",
    " * there is an orange _Out\\[number\\]_ right next to the outputs of every cell, and\n",
    " * we didn't use `print`, and still saw the results of the operations!\n",
    " \n",
    "This happens because when we run a cell, the output of the last operation is being displayed on the screen. How can we check that it's only the last operation that is displayed and not all of them?"
   ]
  },
  {
   "cell_type": "code",
   "execution_count": null,
   "metadata": {},
   "outputs": [],
   "source": [
    "5 + 8   # 13\n",
    "9 + 2   # 11"
   ]
  },
  {
   "cell_type": "markdown",
   "metadata": {},
   "source": [
    "If we want to make sure that every output is displayed, we should use the `print` function."
   ]
  },
  {
   "cell_type": "code",
   "execution_count": null,
   "metadata": {},
   "outputs": [],
   "source": [
    "print(5 + 8)   # 13\n",
    "print(9 + 2)   # 11"
   ]
  },
  {
   "cell_type": "markdown",
   "metadata": {},
   "source": [
    "**Strings** (`str`) are sequences of characters: `\"apple\"`, `'Hello world!'` or `\"My phone number is 123.\"`. **Strings are always surrounded by quotes!** These quotes can be either single or double, just use them consistently."
   ]
  },
  {
   "cell_type": "code",
   "execution_count": null,
   "metadata": {},
   "outputs": [],
   "source": [
    "type(\"My phone number is 123.\")"
   ]
  },
  {
   "cell_type": "markdown",
   "metadata": {},
   "source": [
    "When a number is surrounded by quotes, it is not an integer or a float, but it is a string!"
   ]
  },
  {
   "cell_type": "code",
   "execution_count": null,
   "metadata": {},
   "outputs": [],
   "source": [
    "print(type(5))\n",
    "print(type(\"5\"))"
   ]
  },
  {
   "cell_type": "markdown",
   "metadata": {},
   "source": [
    "In the previous code cell, we see the following line: `print(type(5))`. It simply means that the output of `type(5)` is passed to the `print` function as an argument, i.e. `type(5)` tells that the type of `5` is an integer, and the `print` function catches that output and displays it on the screen."
   ]
  },
  {
   "cell_type": "markdown",
   "metadata": {},
   "source": [
    "For strings, `+` operator defines concatenation."
   ]
  },
  {
   "cell_type": "code",
   "execution_count": null,
   "metadata": {},
   "outputs": [],
   "source": [
    "\"artificial\" + \"ly\""
   ]
  },
  {
   "cell_type": "code",
   "execution_count": null,
   "metadata": {},
   "outputs": [],
   "source": [
    "# \"15\" and \"1\" are strings, not integers!\n",
    "\"15\" + \"1\""
   ]
  },
  {
   "cell_type": "markdown",
   "metadata": {},
   "source": [
    "**Practice:** what will happen if we add string \"15\" and integer 1?"
   ]
  },
  {
   "cell_type": "code",
   "execution_count": null,
   "metadata": {},
   "outputs": [],
   "source": [
    "# your code"
   ]
  },
  {
   "cell_type": "markdown",
   "metadata": {},
   "source": [
    "A frequent task is to convert a variable from one type to another, or to perform _typecasting_. If we want to change the type of a string to an integer, for example, to be able to perform arithmetic with a number that was represented as a string, we can use the `int` or `float` functions."
   ]
  },
  {
   "cell_type": "code",
   "execution_count": null,
   "metadata": {},
   "outputs": [],
   "source": [
    "number = \"55\"\n",
    "print(\"Old type:\", type(number))\n",
    "number = int(number)\n",
    "print(\"New type:\", type(number))"
   ]
  },
  {
   "cell_type": "markdown",
   "metadata": {},
   "source": [
    "A value can be converted from another type to a string by using the `str` function."
   ]
  },
  {
   "cell_type": "code",
   "execution_count": null,
   "metadata": {},
   "outputs": [],
   "source": [
    "number2 = 4.7\n",
    "print(\"Old type:\", type(number2))\n",
    "number2 = str(number2)\n",
    "print(\"New type:\", type(number2))"
   ]
  },
  {
   "cell_type": "markdown",
   "metadata": {},
   "source": [
    "Finally, **booleans** (`bool`) are `True` and `False`, or simply `1` and `0`."
   ]
  },
  {
   "cell_type": "code",
   "execution_count": null,
   "metadata": {},
   "outputs": [],
   "source": [
    "print(type(True))\n",
    "print(type(False))\n",
    "print(type(\"False\"))"
   ]
  },
  {
   "cell_type": "markdown",
   "metadata": {},
   "source": [
    "Booleans are the \"answers\" to such questions like the following ones.\n",
    " * Does this phrase contain the word \"linguistics\"?\n",
    " * Is the sum of those two number bigger than 17?\n",
    " * Have we already seen this sentence before?\n",
    " \n",
    "We will see very soon how extremely useful booleans are."
   ]
  },
  {
   "cell_type": "markdown",
   "metadata": {},
   "source": [
    "## 4. Variables\n",
    "\n",
    "The way to store some value in the memory of the computer is to define a _variable_ that refers to that value. In some sense, the variable is the name of the value. As soon as we _declare_ that variable, we can use it to refer to its value.\n",
    "\n",
    "For example, we can define a variable `name` and then use it if we want to greet someone:"
   ]
  },
  {
   "cell_type": "code",
   "execution_count": null,
   "metadata": {},
   "outputs": [],
   "source": [
    "name = \"John\"\n",
    "print(\"Hello,\", name)"
   ]
  },
  {
   "cell_type": "markdown",
   "metadata": {},
   "source": [
    "The value of the variable can be of any data type."
   ]
  },
  {
   "cell_type": "code",
   "execution_count": null,
   "metadata": {},
   "outputs": [],
   "source": [
    "var1 = \"banana\"\n",
    "var2 = 9\n",
    "var3 = 0.2\n",
    "var4 = True\n",
    "\n",
    "print(\"The type of var1 is\", type(var1))\n",
    "print(\"The type of var2 is\", type(var2))\n",
    "print(\"The type of var3 is\", type(var3))\n",
    "print(\"The type of var4 is\", type(var4))"
   ]
  },
  {
   "cell_type": "markdown",
   "metadata": {},
   "source": [
    "If there are several lines where the same variable name is defined, only the last definition matters."
   ]
  },
  {
   "cell_type": "code",
   "execution_count": null,
   "metadata": {},
   "outputs": [],
   "source": [
    "name = \"John\"\n",
    "name = \"Alice\"\n",
    "print(name)"
   ]
  },
  {
   "cell_type": "markdown",
   "metadata": {},
   "source": [
    "**Laws of variable names**\n",
    " * Variable names are not strings: they are not surrounded by quotes!\n",
    " * They cannot start with a digit.\n",
    " * They cannot contain spaces or special symbols such as $, !, ~, etc. (The underscore is fine though!)\n",
    "\n",
    "**Warning:** never (unless you are doing it on purpose!) define a variable using the term that already means something for python (`print`, `int`, `type`, etc.) It is possible, but it will break _a lot_ of things.\n",
    "\n",
    "We can store a result of an operation in a variable."
   ]
  },
  {
   "cell_type": "code",
   "execution_count": null,
   "metadata": {},
   "outputs": [],
   "source": [
    "hello = type(\"Hello!\")\n",
    "print(hello)"
   ]
  },
  {
   "cell_type": "code",
   "execution_count": null,
   "metadata": {},
   "outputs": [],
   "source": [
    "large_number = 193425 + 32532513\n",
    "print(large_number)"
   ]
  },
  {
   "cell_type": "code",
   "execution_count": null,
   "metadata": {},
   "outputs": [],
   "source": [
    "parent1 = \"Mary\"\n",
    "parent2 = \"John\"\n",
    "parents = parent1 + \" and \" + parent2\n",
    "print(parents)"
   ]
  },
  {
   "cell_type": "markdown",
   "metadata": {},
   "source": [
    "If the variable value needs to be updated with respect to its old value, we can use the following operators:\n",
    " * `var += some_value` (same as `var = var + some_value`);\n",
    " * `var -= some_value` (same as `var = var - some_value`);\n",
    " * `var *= some_value` (same as `var = var * some_value`);\n",
    " * `var /= some_value` (same as `var = var / some_value`)."
   ]
  },
  {
   "cell_type": "code",
   "execution_count": null,
   "metadata": {},
   "outputs": [],
   "source": [
    "var1 = 15\n",
    "print(\"Old value:\", var1)\n",
    "var1 += 1\n",
    "print(\"New value:\", var1)"
   ]
  },
  {
   "cell_type": "code",
   "execution_count": null,
   "metadata": {},
   "outputs": [],
   "source": [
    "var2 = \"mild\"\n",
    "print(\"Old value:\", var2)\n",
    "var2 += \"ly\"\n",
    "print(\"New value:\", var2)"
   ]
  },
  {
   "cell_type": "code",
   "execution_count": null,
   "metadata": {},
   "outputs": [],
   "source": [
    "var3 = 19\n",
    "print(\"Old value:\", var3)\n",
    "var3 /= 2\n",
    "print(\"New value:\", var3)"
   ]
  },
  {
   "cell_type": "markdown",
   "metadata": {},
   "source": [
    "## 5. Basic IO\n",
    "\n",
    "We already know that the way to display values on the screen is to `print` them. However, many tasks, especially the chatbots, rely on the input from a user. In Python, `input` takes care of it!\n",
    "\n",
    "The `input` function asks users to enter the information and returns the string containing the user input, so in most of the cases, it is useful to save the results of the input into some variable.\n",
    "\n",
    "If `input` is called without any arguments (i.e. as `input()`, don't forget the parentheses!), it simply waits for the user to type in some information."
   ]
  },
  {
   "cell_type": "code",
   "execution_count": null,
   "metadata": {},
   "outputs": [],
   "source": [
    "user_input = input()\n",
    "print(\"The user input is:\", user_input)"
   ]
  },
  {
   "cell_type": "markdown",
   "metadata": {},
   "source": [
    "However, if `input` is called with an argument, this argument is displayed next to the input window."
   ]
  },
  {
   "cell_type": "code",
   "execution_count": null,
   "metadata": {},
   "outputs": [],
   "source": [
    "name = input(\"What is your name? \")\n",
    "print(\"My name is\", name)"
   ]
  },
  {
   "cell_type": "markdown",
   "metadata": {},
   "source": [
    "## 6. Boolean expressions\n",
    "\n",
    "Booleans expressions are expressions that can be evaluated to `True` or `False`. There are multiple logical operators that help us to form them.\n",
    "\n",
    "The operator `==` checks for the equality of its left and the right sides."
   ]
  },
  {
   "cell_type": "code",
   "execution_count": null,
   "metadata": {},
   "outputs": [],
   "source": [
    "10 + 5 == 15"
   ]
  },
  {
   "cell_type": "code",
   "execution_count": null,
   "metadata": {},
   "outputs": [],
   "source": [
    "10 == 15"
   ]
  },
  {
   "cell_type": "code",
   "execution_count": null,
   "metadata": {},
   "outputs": [],
   "source": [
    "\"Apple\" == \"apple\""
   ]
  },
  {
   "cell_type": "code",
   "execution_count": null,
   "metadata": {},
   "outputs": [],
   "source": [
    "(10 + 5 == 20) == False"
   ]
  },
  {
   "cell_type": "markdown",
   "metadata": {},
   "source": [
    "The opposite operator to `==` is `!=`, it checks for non-equality:"
   ]
  },
  {
   "cell_type": "code",
   "execution_count": null,
   "metadata": {},
   "outputs": [],
   "source": [
    "1 != 10"
   ]
  },
  {
   "cell_type": "markdown",
   "metadata": {},
   "source": [
    "Operators `>`, `>=`, `<` and `<=` are defined as well."
   ]
  },
  {
   "cell_type": "code",
   "execution_count": null,
   "metadata": {},
   "outputs": [],
   "source": [
    "7 < 9"
   ]
  },
  {
   "cell_type": "code",
   "execution_count": null,
   "metadata": {},
   "outputs": [],
   "source": [
    "8 >= 8"
   ]
  },
  {
   "cell_type": "markdown",
   "metadata": {},
   "source": [
    "The operator `in` checks if the left-hand side object is contained within the right-hand side one."
   ]
  },
  {
   "cell_type": "code",
   "execution_count": null,
   "metadata": {},
   "outputs": [],
   "source": [
    "\"world\" in \"Hello world!\""
   ]
  },
  {
   "cell_type": "code",
   "execution_count": null,
   "metadata": {},
   "outputs": [],
   "source": [
    "\"Apple\" in \"I love apples\""
   ]
  },
  {
   "cell_type": "markdown",
   "metadata": {},
   "source": [
    "The operator `not` reverses the truth value to the opposite one."
   ]
  },
  {
   "cell_type": "code",
   "execution_count": null,
   "metadata": {},
   "outputs": [],
   "source": [
    "not True"
   ]
  },
  {
   "cell_type": "code",
   "execution_count": null,
   "metadata": {},
   "outputs": [],
   "source": [
    "not False"
   ]
  },
  {
   "cell_type": "code",
   "execution_count": null,
   "metadata": {},
   "outputs": [],
   "source": [
    "\"peach\" not in \"I love apples\""
   ]
  },
  {
   "cell_type": "code",
   "execution_count": null,
   "metadata": {},
   "outputs": [],
   "source": [
    "not (10 + 5 == 15)"
   ]
  },
  {
   "cell_type": "markdown",
   "metadata": {},
   "source": [
    "Apart from the above listed operators, there are _complex operators_ `and` and `or`. Boolean expressions can be combined using these operators.\n",
    "* **`and`** returns true if it combines two expressions, and both of them evaluate to True;\n",
    "* **`or`** returns true if at least one of the expressions it combines evaluates to True.\n",
    "\n",
    "_Beware of the scope_: `(A and B) or C` is not the same thing as `A and (B or C)`!"
   ]
  },
  {
   "cell_type": "code",
   "execution_count": null,
   "metadata": {},
   "outputs": [],
   "source": [
    "True and True"
   ]
  },
  {
   "cell_type": "code",
   "execution_count": null,
   "metadata": {},
   "outputs": [],
   "source": [
    "True and False"
   ]
  },
  {
   "cell_type": "code",
   "execution_count": null,
   "metadata": {},
   "outputs": [],
   "source": [
    "False or True"
   ]
  },
  {
   "cell_type": "code",
   "execution_count": null,
   "metadata": {},
   "outputs": [],
   "source": [
    "(False and True) or True"
   ]
  },
  {
   "cell_type": "code",
   "execution_count": null,
   "metadata": {},
   "outputs": [],
   "source": [
    "False and (True or True)"
   ]
  },
  {
   "cell_type": "code",
   "execution_count": null,
   "metadata": {},
   "outputs": [],
   "source": [
    "(\"apple\" in \"apples\") and (1 + 1 == 2)"
   ]
  },
  {
   "cell_type": "code",
   "execution_count": null,
   "metadata": {},
   "outputs": [],
   "source": [
    "(\"apple\" in \"apples\") or (1 + 1 == 5)"
   ]
  },
  {
   "cell_type": "code",
   "execution_count": null,
   "metadata": {
    "scrolled": true
   },
   "outputs": [],
   "source": [
    "((\"apple\" in \"apples\") and (1 + 1 == 3)) or (5 < 10)"
   ]
  },
  {
   "cell_type": "markdown",
   "metadata": {},
   "source": [
    "## 7. More magic with strings"
   ]
  },
  {
   "cell_type": "markdown",
   "metadata": {},
   "source": [
    "**Bag-of-words** model of meaning assumes that the meaning of the text can be represented by all the words found in the text and their frequency. Indeed, if the text is about pets, we expect words such as \"cat\" and \"dog\" to be more frequent in it, and if the text is about politics, words such as \"president\", \"market\",  and \"GDP\" will occure more often.\n",
    "\n",
    "However, there are words that are frequent in all types of texts: \"and\", \"of\", \"the\", \"a(n)\", \"there\", and so on. These words are called **stop words**, and since they are not informative for modeling the meaning of the text, they are frequently removed from it.\n",
    "\n",
    "For many linguistic tasks, capitalization of the words does not matter. For example, when the task is to get rid of the stop words, we want to get rid of them independently of the capitalization (\"THE\", \"the\", \"The\", etc.) However, for Python, \"the\" and \"The\" are completely different words."
   ]
  },
  {
   "cell_type": "code",
   "execution_count": null,
   "metadata": {},
   "outputs": [],
   "source": [
    "\"the\" == \"The\""
   ]
  },
  {
   "cell_type": "markdown",
   "metadata": {},
   "source": [
    "There is a way to map all the versions of \"the\" with different capitalizations to \"the\": `str.lower(\"ThE\")`."
   ]
  },
  {
   "cell_type": "code",
   "execution_count": null,
   "metadata": {},
   "outputs": [],
   "source": [
    "str.lower(\"ThE\")"
   ]
  },
  {
   "cell_type": "code",
   "execution_count": null,
   "metadata": {},
   "outputs": [],
   "source": [
    "\"the\" == str.lower(\"ThE\")"
   ]
  },
  {
   "cell_type": "markdown",
   "metadata": {},
   "source": [
    "Similarily, there are functions `upper` and `title` that convert a string to uppercase or capitalize it."
   ]
  },
  {
   "cell_type": "code",
   "execution_count": null,
   "metadata": {},
   "outputs": [],
   "source": [
    "print(\"The uppercase of 'the' is '\" + str.upper(\"the\") + \"'.\")"
   ]
  },
  {
   "cell_type": "code",
   "execution_count": null,
   "metadata": {},
   "outputs": [],
   "source": [
    "print(\"The title version of 'hello world' is '\" + str.title(\"hello world\") + \"'.\")"
   ]
  },
  {
   "cell_type": "markdown",
   "metadata": {},
   "source": [
    "In the examples below, we are printing parentheses inside of the other parentheses by alternating their types (i.e. if double quotes are marking the string, the single quotes are used inside, or vice versa).\n",
    "\n",
    "However, the other way to do it is to use a special _escape symbol_ `/` before the quotation mark that we want to have as a part of the string."
   ]
  },
  {
   "cell_type": "code",
   "execution_count": null,
   "metadata": {},
   "outputs": [],
   "source": [
    "print(\"Both single quotations \\' and double quotations \\\" are interpreted literally this way.\")"
   ]
  },
  {
   "cell_type": "markdown",
   "metadata": {},
   "source": [
    "Another important special symbols are the `\\n` (new line) and `\\t` (tabulation)."
   ]
  },
  {
   "cell_type": "code",
   "execution_count": null,
   "metadata": {},
   "outputs": [],
   "source": [
    "print(\"This line \\ncontinues on the second line, and tabulation is here\\tas well.\")"
   ]
  },
  {
   "cell_type": "markdown",
   "metadata": {},
   "source": [
    "There are also functions that allow to check if the string is uppercase, lowercase, or title, and these functions are:\n",
    " * `str.isupper(\"Hello\")` checks if a string is uppercase;\n",
    " * `str.islower(\"Hello\")` checks if a string is lowercase;\n",
    " * `str.istitle(\"Hello\")` checks if a string is a title."
   ]
  },
  {
   "cell_type": "code",
   "execution_count": null,
   "metadata": {},
   "outputs": [],
   "source": [
    "str.isupper(\"HELLO WORLD!\")"
   ]
  },
  {
   "cell_type": "code",
   "execution_count": null,
   "metadata": {},
   "outputs": [],
   "source": [
    "str.islower(\"hello world!\")"
   ]
  },
  {
   "cell_type": "code",
   "execution_count": null,
   "metadata": {},
   "outputs": [],
   "source": [
    "str.istitle(\"Hello World!\")"
   ]
  },
  {
   "cell_type": "markdown",
   "metadata": {},
   "source": [
    "Another very useful function is `len`. Can you guess what it does based on the outputs of the following cells?"
   ]
  },
  {
   "cell_type": "code",
   "execution_count": null,
   "metadata": {},
   "outputs": [],
   "source": [
    "len(\"Hello world!\")"
   ]
  },
  {
   "cell_type": "code",
   "execution_count": null,
   "metadata": {},
   "outputs": [],
   "source": [
    "len(\"computational linguistics\")"
   ]
  },
  {
   "cell_type": "code",
   "execution_count": null,
   "metadata": {},
   "outputs": [],
   "source": [
    "len(25)"
   ]
  },
  {
   "cell_type": "markdown",
   "metadata": {},
   "source": [
    "# Homework 1\n",
    "\n",
    "**Due on Saturday, September 14th, 11.59pm**\n",
    "\n",
    "Send your notebook (don't forget to save your solutions!) to <alena.aksenova@stonybrook.edu> with the subject **\\[CompLing1\\] Homework 1**."
   ]
  },
  {
   "cell_type": "markdown",
   "metadata": {},
   "source": [
    "**Problem 1.** You are given the following paragraph."
   ]
  },
  {
   "cell_type": "code",
   "execution_count": null,
   "metadata": {},
   "outputs": [],
   "source": [
    "text = \"A glance around her studio reveals some of the complexity. The place is packed chockablock \" \\\n",
    "       \"with clusters of objects grouped by type: alarm clocks (maybe two dozen), antique books, model \" \\\n",
    "       \"clipper ships, African masks, birdcages, globes, painted wood watermelon slices, the Mexican \" \\\n",
    "       \"healing charms known as milagros and so-called mammy dolls piled on a chair.\""
   ]
  },
  {
   "cell_type": "markdown",
   "metadata": {},
   "source": [
    "Write a code that will ask the user to enter a word. Then check if this word is contained in the text given above."
   ]
  },
  {
   "cell_type": "code",
   "execution_count": null,
   "metadata": {},
   "outputs": [],
   "source": []
  },
  {
   "cell_type": "markdown",
   "metadata": {},
   "source": [
    "**Problem 2.** Write a condition that checks if the word \"idiot\" is present in the user input. Make sure that it works independently of the capitalization!"
   ]
  },
  {
   "cell_type": "code",
   "execution_count": null,
   "metadata": {},
   "outputs": [],
   "source": []
  },
  {
   "cell_type": "markdown",
   "metadata": {},
   "source": [
    "**Problem 3.** Ask the user for the year in which they were born, and print the age of the user. (Assume that the user's birthday is always January 1 so that the calculation is simple.)\n",
    "\n",
    "_Hint:_ the `int` function might be useful here."
   ]
  },
  {
   "cell_type": "code",
   "execution_count": null,
   "metadata": {},
   "outputs": [],
   "source": []
  },
  {
   "cell_type": "markdown",
   "metadata": {},
   "source": [
    "**Problem 4.** With string concatenation you can also play a round of *Mad Libs*.\n",
    "If you aren't familiar with the game, here's how it works: you have a predetermined text where certain words have been replaced by their part of speech, for example *verb*, *noun*, *adjective*.\n",
    "For each gap, you ask a friend to say a word of that part of speech.\n",
    "You then put those words in the gap and read out the text aloud.\n",
    "Ideally, hilarity ensues.\n",
    "\n",
    "Here's an example adapted from the very first Mad Libs book:\n",
    "\n",
    "~~~\n",
    "\"[exclamation]! He said [adverb] as he jumped into his convertible\n",
    "[noun] and drove off with his [adjective] friend.\"\n",
    "\n",
    "\"Ron! He said better as he jumped into his convertible\n",
    "Tesla and drove off with his irritating friend.\"\n",
    "~~~\n",
    "\n",
    "Write a program that allows the user to play a single round of Mad Libs with the computer."
   ]
  },
  {
   "cell_type": "code",
   "execution_count": null,
   "metadata": {},
   "outputs": [],
   "source": []
  },
  {
   "cell_type": "markdown",
   "metadata": {},
   "source": [
    "**Problem 5.** Ask the user to define what is the minimal number of characters for a word to be considered long. Ask for another input, in this case, a word. Afterwards, write a boolean expression that checks if the word provided by a user is long or not."
   ]
  },
  {
   "cell_type": "code",
   "execution_count": null,
   "metadata": {},
   "outputs": [],
   "source": []
  }
 ],
 "metadata": {
  "kernelspec": {
   "display_name": "Python 3",
   "language": "python",
   "name": "python3"
  },
  "language_info": {
   "codemirror_mode": {
    "name": "ipython",
    "version": 3
   },
   "file_extension": ".py",
   "mimetype": "text/x-python",
   "name": "python",
   "nbconvert_exporter": "python",
   "pygments_lexer": "ipython3",
   "version": "3.6.8"
  }
 },
 "nbformat": 4,
 "nbformat_minor": 2
}
