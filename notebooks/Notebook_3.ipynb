{
 "cells": [
  {
   "cell_type": "markdown",
   "metadata": {},
   "source": [
    "<div style=\"text-align: right\">\n",
    "    <i>\n",
    "        LIN 537: Computational Lingusitics 1 <br>\n",
    "        Fall 2019 <br>\n",
    "        Alëna Aksënova\n",
    "    </i>\n",
    "</div>\n",
    "\n",
    "# Notebook 3: lists and for loops\n",
    "\n",
    "This notebook introduces a new data type, `list`, and explains what methods are defined for lists (`append`, `extend`, `insert`, and others) and what issues appear when the lists are copied. Then it shows the way to access sub-elements of larger elements individually via a `for-loop`."
   ]
  },
  {
   "cell_type": "markdown",
   "metadata": {},
   "source": [
    "## Lists\n",
    "\n",
    "The new data type, `list`, is a collection of items.\n",
    "These items can be of very different types: integers, strings, booleans, floats, and other lists as well."
   ]
  },
  {
   "cell_type": "code",
   "execution_count": null,
   "metadata": {},
   "outputs": [],
   "source": [
    "a = [1, 2, 3]\n",
    "print(a)"
   ]
  },
  {
   "cell_type": "code",
   "execution_count": null,
   "metadata": {},
   "outputs": [],
   "source": [
    "type(a)"
   ]
  },
  {
   "cell_type": "markdown",
   "metadata": {},
   "source": [
    "A list below contains another list as its sub-list:"
   ]
  },
  {
   "cell_type": "code",
   "execution_count": null,
   "metadata": {},
   "outputs": [],
   "source": [
    "b = [1, \"a\", [\"cab\", True]]"
   ]
  },
  {
   "cell_type": "markdown",
   "metadata": {},
   "source": [
    "The items in the list are _ordered_, just as strings. Remember, that strings are ordered, and the simple proof to it is that strings \"devil\" and \"lived\" are different words. Lists are like that as well: `[1, 2, 3]` is not the same as `[3, 1, 2]`."
   ]
  },
  {
   "cell_type": "code",
   "execution_count": null,
   "metadata": {},
   "outputs": [],
   "source": [
    "[1, 2, 3] == [3, 1, 2]"
   ]
  },
  {
   "cell_type": "markdown",
   "metadata": {},
   "source": [
    "They are ordered, and therefore we can use indexing with lists:"
   ]
  },
  {
   "cell_type": "code",
   "execution_count": null,
   "metadata": {},
   "outputs": [],
   "source": [
    "sample_list = [1, \"linguistics\", [\"physics\", 15], 3.14, False]\n",
    "print(\"Element at the index 1 is\", sample_list[1])\n",
    "print(\"Element at the index 2 is\", sample_list[2])\n",
    "print(\"Element at the index 4 is\", sample_list[4])"
   ]
  },
  {
   "cell_type": "markdown",
   "metadata": {},
   "source": [
    "Accessing an element of the sublist is possible by indicating its address in several layers of indexing:"
   ]
  },
  {
   "cell_type": "code",
   "execution_count": null,
   "metadata": {},
   "outputs": [],
   "source": [
    "print(sample_list[2][0])"
   ]
  },
  {
   "cell_type": "markdown",
   "metadata": {},
   "source": [
    "An empty list can be created in a following way:"
   ]
  },
  {
   "cell_type": "code",
   "execution_count": null,
   "metadata": {},
   "outputs": [],
   "source": [
    "empty_list = []\n",
    "print(\"This is an empty list:\", empty_list)\n",
    "print(\"Its length is\", len(empty_list))"
   ]
  },
  {
   "cell_type": "markdown",
   "metadata": {},
   "source": [
    "### Modifying lists\n",
    "\n",
    "One can add new elements to lists by using methods `append`, `extend` and `insert`.\n",
    "\n",
    "#### `append`\n",
    "\n",
    "This method appends a new item to some already existing list and uses the following syntax `list_to_append_to.append(what_to_append)`."
   ]
  },
  {
   "cell_type": "code",
   "execution_count": null,
   "metadata": {},
   "outputs": [],
   "source": [
    "list_1 = [1, 2, 3]\n",
    "list_1.append(\"new item\")\n",
    "print(list_1)"
   ]
  },
  {
   "cell_type": "markdown",
   "metadata": {},
   "source": [
    "However, this is a way to add one item, and it cannot be used directly if we want to add all items from one list to another."
   ]
  },
  {
   "cell_type": "code",
   "execution_count": null,
   "metadata": {},
   "outputs": [],
   "source": [
    "one_list = [1, 2, 3]\n",
    "another_list = [True, \"linguistics\"]\n",
    "one_list.append(another_list)\n",
    "print(one_list)"
   ]
  },
  {
   "cell_type": "markdown",
   "metadata": {},
   "source": [
    "#### `extend`\n",
    "\n",
    "The `extend` method adds the element from the second list in a _flat_ way:"
   ]
  },
  {
   "cell_type": "code",
   "execution_count": null,
   "metadata": {},
   "outputs": [],
   "source": [
    "one_list = [1, 2, 3]\n",
    "another_list = [True, \"linguistics\"]\n",
    "one_list.extend(another_list)\n",
    "print(one_list)"
   ]
  },
  {
   "cell_type": "markdown",
   "metadata": {},
   "source": [
    "#### `insert`\n",
    "\n",
    "If an element needs to be inserted on a concrete position, `insert` can be used with the specified index:"
   ]
  },
  {
   "cell_type": "code",
   "execution_count": null,
   "metadata": {},
   "outputs": [],
   "source": [
    "states = [\"California\", \"New York\", \"Arizona\"]\n",
    "states.insert(1, \"Colorado\")\n",
    "print(states)"
   ]
  },
  {
   "cell_type": "markdown",
   "metadata": {},
   "source": [
    "#### `remove` and `del`\n",
    "\n",
    "The method `remove` removes a concrete item from the list."
   ]
  },
  {
   "cell_type": "code",
   "execution_count": null,
   "metadata": {},
   "outputs": [],
   "source": [
    "states = [\"California\", \"New York\", \"Arizona\"]\n",
    "states.remove(\"Arizona\")\n",
    "print(states)"
   ]
  },
  {
   "cell_type": "markdown",
   "metadata": {},
   "source": [
    "However, notice that `remove` only removes the first instance of the item:"
   ]
  },
  {
   "cell_type": "code",
   "execution_count": null,
   "metadata": {},
   "outputs": [],
   "source": [
    "states = [\"California\", \"New York\", \"Arizona\", \"New York\"]\n",
    "states.remove(\"New York\")\n",
    "print(states)"
   ]
  },
  {
   "cell_type": "markdown",
   "metadata": {},
   "source": [
    "If an item needs to be remove by position, one should use `del` operator. Notice its unusual syntax!"
   ]
  },
  {
   "cell_type": "code",
   "execution_count": null,
   "metadata": {},
   "outputs": [],
   "source": [
    "print(states)\n",
    "del states[1]\n",
    "print(states)"
   ]
  },
  {
   "cell_type": "markdown",
   "metadata": {},
   "source": [
    "Rewriting an element of a list by some other element can be done directly by accessing that element by index and changing it."
   ]
  },
  {
   "cell_type": "code",
   "execution_count": null,
   "metadata": {},
   "outputs": [],
   "source": [
    "cities = [\"NYC\", \"LA\"]\n",
    "cities[0] = \"SF\"\n",
    "print(cities)"
   ]
  },
  {
   "cell_type": "markdown",
   "metadata": {},
   "source": [
    "**Practice.** You are given the following list of letters."
   ]
  },
  {
   "cell_type": "code",
   "execution_count": null,
   "metadata": {},
   "outputs": [],
   "source": [
    "letters = [\"d\", \"b\", \"c\", \"n\"]"
   ]
  },
  {
   "cell_type": "markdown",
   "metadata": {},
   "source": [
    "Insert \"x\" at the position 3 in the list `letters`. Then remove \"c\" from it. Append \"e\". Delete the element at the index 2, and, finally, rewrite the letter at the position 1 as 'o'. Print `letters`."
   ]
  },
  {
   "cell_type": "code",
   "execution_count": null,
   "metadata": {},
   "outputs": [],
   "source": []
  },
  {
   "cell_type": "markdown",
   "metadata": {},
   "source": [
    "### Copying lists\n",
    "\n",
    "One needs to be careful when copying lists because it is a bit tricky. Consider the following code and its behavior."
   ]
  },
  {
   "cell_type": "code",
   "execution_count": null,
   "metadata": {},
   "outputs": [],
   "source": [
    "states_1 = [\"California\", \"New York\", \"Arizona\"]\n",
    "states_2 = states_1\n",
    "del states_2[2]\n",
    "print(\"states_1:\", states_1)\n",
    "print(\"states_2:\", states_2)"
   ]
  },
  {
   "cell_type": "markdown",
   "metadata": {},
   "source": [
    "Even though we removed \"Arizona\" from the copy of the list, the original list was modified! It happens because if you copy a list in this direct way, the copy and the original list share the same _reference_, or, in other words, they occupy the same location in the memory.\n",
    "\n",
    "One way to copy the list and to avoid that problem, is to take a full slice of that list."
   ]
  },
  {
   "cell_type": "code",
   "execution_count": null,
   "metadata": {},
   "outputs": [],
   "source": [
    "states_1 = [\"California\", \"New York\", \"Arizona\"]\n",
    "states_2 = states_1[:]\n",
    "del states_2[2]\n",
    "print(\"states_1:\", states_1)\n",
    "print(\"states_2:\", states_2)"
   ]
  },
  {
   "cell_type": "markdown",
   "metadata": {},
   "source": [
    "However, it still will have the same problem as before if the list is not flat, i.e. if it contains embedded lists. This type of copy is called **shallow copy**, because only the reference to the original list is being copied, but the references for the sublists stayed the same."
   ]
  },
  {
   "cell_type": "code",
   "execution_count": null,
   "metadata": {},
   "outputs": [],
   "source": [
    "states_1 = [\"CA\", [\"NY\", \"NV\"]]\n",
    "states_2 = states_1[:]\n",
    "del states_2[1][0]\n",
    "print(\"states_1:\", states_1)\n",
    "print(\"states_2:\", states_2)"
   ]
  },
  {
   "cell_type": "markdown",
   "metadata": {},
   "source": [
    "**Deep copy** copies references to all elements and sub-elements of the original list. However, to access this function (`deepcopy`), we need to import it from the package for copying different data structures that is called `copy`."
   ]
  },
  {
   "cell_type": "code",
   "execution_count": null,
   "metadata": {},
   "outputs": [],
   "source": [
    "from copy import deepcopy"
   ]
  },
  {
   "cell_type": "markdown",
   "metadata": {},
   "source": [
    "After `from` there goes the name of the package, and after `import` we name the function that is being imported."
   ]
  },
  {
   "cell_type": "code",
   "execution_count": null,
   "metadata": {},
   "outputs": [],
   "source": [
    "states_1 = [\"CA\", \"CO\", [\"NY\", \"NV\"], \"RI\"]\n",
    "states_2 = deepcopy(states_1)\n",
    "del states_2[2][0]\n",
    "del states_2[1]\n",
    "print(\"states_1:\", states_1)\n",
    "print(\"states_2:\", states_2)"
   ]
  },
  {
   "cell_type": "markdown",
   "metadata": {},
   "source": [
    "**Question:** why does the following slightly modified code produce an error message?"
   ]
  },
  {
   "cell_type": "code",
   "execution_count": null,
   "metadata": {},
   "outputs": [],
   "source": [
    "states_1 = [\"CA\", \"CO\", [\"NY\", \"NV\"], \"RI\"]\n",
    "states_2 = deepcopy(states_1)\n",
    "del states_2[1]\n",
    "del states_2[2][0]\n",
    "print(\"states_1:\", states_1)\n",
    "print(\"states_2:\", states_2)"
   ]
  },
  {
   "cell_type": "markdown",
   "metadata": {},
   "source": [
    "## For-loops\n",
    "\n",
    "For loops allow us to _iterate_ over elements of containers such as lists or strings, and to access items of those containers individually, in order. The syntax is following:\n",
    "\n",
    "     for item in container:\n",
    "            # the variable \"item\" now refers to the next item of the container"
   ]
  },
  {
   "cell_type": "code",
   "execution_count": null,
   "metadata": {},
   "outputs": [],
   "source": [
    "for char in \"linguistics\":\n",
    "    print(\"The current symbol is\", char)"
   ]
  },
  {
   "cell_type": "markdown",
   "metadata": {},
   "source": [
    "We can combine `if`-`elif`-`else` statements and `for` loops."
   ]
  },
  {
   "cell_type": "code",
   "execution_count": null,
   "metadata": {},
   "outputs": [],
   "source": [
    "vowels = [\"a\", \"e\", \"i\", \"o\", \"u\"]\n",
    "for char in \"linguistics\":\n",
    "    if char in vowels:\n",
    "        print(\"I found a vowel! It is\", char)"
   ]
  },
  {
   "cell_type": "markdown",
   "metadata": {},
   "source": [
    "Of course, `for` loops can be contained within `for` loops:"
   ]
  },
  {
   "cell_type": "code",
   "execution_count": null,
   "metadata": {},
   "outputs": [],
   "source": [
    "cities = [\"NYC\", \"LA\", \"SF\"]\n",
    "\n",
    "for city in cities:\n",
    "    print(\"The current city is\", city)\n",
    "    print(\"Its letters are:\")\n",
    "    \n",
    "    for letter in city:\n",
    "        print(\"\\t\", letter)"
   ]
  },
  {
   "cell_type": "markdown",
   "metadata": {},
   "source": [
    "**Practice.** We are given lists of questions and possible answers."
   ]
  },
  {
   "cell_type": "code",
   "execution_count": null,
   "metadata": {},
   "outputs": [],
   "source": [
    "questions = [\"How are you?\", \"What are you doing?\", \"What's your name?\"]\n",
    "answers = [\"Fine!\", \"Nothing much\", \"Jen\"]"
   ]
  },
  {
   "cell_type": "markdown",
   "metadata": {},
   "source": [
    "Ask user every one of these questions, and if that answer is present in our list of answers, print \"I knew it!\"."
   ]
  },
  {
   "cell_type": "code",
   "execution_count": null,
   "metadata": {},
   "outputs": [],
   "source": []
  },
  {
   "cell_type": "markdown",
   "metadata": {},
   "source": [
    "**Practice.** You are given the following two lists."
   ]
  },
  {
   "cell_type": "code",
   "execution_count": null,
   "metadata": {},
   "outputs": [],
   "source": [
    "cities = [\"NYC\", \"LA\", \"SF\"]\n",
    "small_cities = [\"Stony Brook\", \"Port Jeff\"]"
   ]
  },
  {
   "cell_type": "markdown",
   "metadata": {},
   "source": [
    "Add cities from `small_cities` to `cities` using the `append` method and a `for` loop, so that it would yield the following list:\n",
    "\n",
    "    [\"NYC\", \"LA\", \"SF\", \"Stony Brook\", \"Port Jeff\"]"
   ]
  },
  {
   "cell_type": "code",
   "execution_count": null,
   "metadata": {},
   "outputs": [],
   "source": []
  },
  {
   "cell_type": "markdown",
   "metadata": {},
   "source": [
    "# Homework 3\n",
    "\n",
    "**Due on Sunday, September 22nd, 11.59pm**\n",
    "\n",
    "Send your notebook (don't forget to save your solutions!) to <alena.aksenova@stonybrook.edu> with the subject **\\[CompLing1\\] Homework 3**."
   ]
  },
  {
   "cell_type": "markdown",
   "metadata": {},
   "source": [
    "**Problem 1.** You are given two lists, `cities` and `small_cities`. Insert the elements from `small_cities` in `cities` in such a way so that the list `cities` would contain items in the following order:\n",
    "    \n",
    "    [\"NYC\", \"LA\", \"Stony Brook\", \"Port Jeff\", \"SF\"]\n",
    "    \n",
    "Use any method or way you want."
   ]
  },
  {
   "cell_type": "code",
   "execution_count": null,
   "metadata": {},
   "outputs": [],
   "source": [
    "cities = [\"NYC\", \"LA\", \"SF\"]\n",
    "small_cities = [\"Stony Brook\", \"Port Jeff\"]\n",
    "\n",
    "# your code here"
   ]
  },
  {
   "cell_type": "markdown",
   "metadata": {},
   "source": [
    "**Problem 2.** Using the given list `cities`, produce the following output:\n",
    "\n",
    "    NYC NYC\n",
    "    NYC LA\n",
    "    NYC SF\n",
    "    LA NYC\n",
    "    LA LA\n",
    "    LA SF\n",
    "    SF NYC\n",
    "    SF LA\n",
    "    SF SF"
   ]
  },
  {
   "cell_type": "code",
   "execution_count": null,
   "metadata": {},
   "outputs": [],
   "source": [
    "cities = [\"NYC\", \"LA\", \"SF\"]\n",
    "\n",
    "# your code here"
   ]
  },
  {
   "cell_type": "markdown",
   "metadata": {},
   "source": [
    "**Problem 3.** You are given some words from the [Swadesh list](https://en.wikipedia.org/wiki/Swadesh_list)."
   ]
  },
  {
   "cell_type": "code",
   "execution_count": null,
   "metadata": {},
   "outputs": [],
   "source": [
    "words = [\"sun\", \"moon\", \"earth\", \"water\", \"food\", \"sky\"]"
   ]
  },
  {
   "cell_type": "markdown",
   "metadata": {},
   "source": [
    "Imagine that you are working with a native speaker of some language other than English. Create a new (empty) list for words of that language, call it `translations`. Then, for every word of the Swadesh list (`words`), ask the user to provide its translation, and save them into the `translations` list. After all the words were translated, print `translations`."
   ]
  },
  {
   "cell_type": "code",
   "execution_count": null,
   "metadata": {},
   "outputs": [],
   "source": []
  }
 ],
 "metadata": {
  "kernelspec": {
   "display_name": "Python 3",
   "language": "python",
   "name": "python3"
  },
  "language_info": {
   "codemirror_mode": {
    "name": "ipython",
    "version": 3
   },
   "file_extension": ".py",
   "mimetype": "text/x-python",
   "name": "python",
   "nbconvert_exporter": "python",
   "pygments_lexer": "ipython3",
   "version": "3.6.8"
  }
 },
 "nbformat": 4,
 "nbformat_minor": 2
}
