{
 "cells": [
  {
   "cell_type": "markdown",
   "metadata": {
    "colab_type": "text",
    "id": "Fp923_XtF1so"
   },
   "source": [
    "<div style=\"text-align: right\">\n",
    "    <i>\n",
    "        LIN 537: Computational Lingusitics 1 <br>\n",
    "        Fall 2019 <br>\n",
    "        Cody St. Clair\n",
    "    </i>\n",
    "</div>\n",
    "\n",
    "# Brill Tagger\n",
    "\n",
    "The Brill tagger is a rule-based tagging algorithm, unlike the Viterbi algorithm, which uses a stochastic Hidden Markov Model (HMM). The Brill algorithm breaks part of speech (POS) tagging into two steps:\n",
    "\n",
    "1. Assign every word in the text whatever part of speech is most common for that word.\n",
    "2. Apply a set of rules to the text to change parts of speech based on context. (Then repeat this step until either no more changes are made or a certain maximum number of steps has been reached.)"
   ]
  },
  {
   "cell_type": "markdown",
   "metadata": {
    "colab_type": "text",
    "id": "WWo-r_uPcxq8"
   },
   "source": [
    "## Assigning the Most Common POS\n",
    "\n",
    "In Brill's original description, he proposed having a learning phase in which a pre-tagged (i.e. tagged by a human) text would be analyzed to determine which tag is most common for each word in the corpus.\n",
    "\n",
    "Tagged text is typically written with foreward slashes separating each word from its assigned POS. E.g. `The/DET quick/ADJ brown/ADJ fox/N jumps/V over/PRE the/DET lazy/ADJ dog/N .` (When text is tokenized, it is common to separate punctuation `[,.!?]` etc. from other words with a space; this just makes pulling words out of the text easier later.)\n",
    "\n",
    "Parsing this and counting the number of times each word is assigned each POS is fairly trivial with what we've covered so far, so to spare ourselves some trouble, we will act as though this has already been done, and our functions will take a pre-made dictionary mapping words to their most common POS. E.g. `{\"the\": \"DET\", \"apple\": \"N\", \"run\": \"V\"}` and so on.\n",
    "\n",
    "You might also be wondering what you might do if you don't have a large pre-tagged corpus for a language (e.g. if you're working with an uncommon or under-studied language). One of the beautiful things about the Brill algorithm is that this notion of most common part of speech is fairly intuitive for a native speaker (or even a linguist with sufficient documentation). So, it's possible for the dictionary of most common parts of speech to be written by hand if need be.\n",
    "\n",
    "As an example, if you see the word, \"run,\" in isolation, what part of speech would you assume it to be? You would probably call it a verb, unless you had more context, even though it can be used as a noun too. If you were short on corpus material, you could then just append this fact to your POS lookup table by hand. E.g. `dictionary[\"run\"] = \"V\"`."
   ]
  },
  {
   "cell_type": "code",
   "execution_count": null,
   "metadata": {
    "colab": {},
    "colab_type": "code",
    "id": "m26En9xiuZQv"
   },
   "outputs": [],
   "source": [
    "example_dictionary = {\n",
    "    \"the\": \"DET\",\n",
    "    \"of\": \"PREP\",\n",
    "    \"a\": \"DET\",\n",
    "    \"in\": \"PREP\",\n",
    "    \"on\": \"PREP\",\n",
    "    \"about\": \"PREP\",\n",
    "    \"might\": \"MOD\",\n",
    "    \"would\": \"MOD\",\n",
    "    \"could\": \"MOD\",\n",
    "    \"give\": \"VERB\",\n",
    "    \"gives\": \"VERB\",\n",
    "    \"run\": \"VERB\",\n",
    "    \"runs\": \"VERB\",\n",
    "    \"person\": \"NOUN\"\n",
    "}"
   ]
  },
  {
   "cell_type": "markdown",
   "metadata": {
    "colab_type": "text",
    "id": "YcTb294lwla-"
   },
   "source": [
    "We can now create the first half of the Brill Tagger, with one extra note: no corpus/dictionary will ever contain every word that could occur in a language; even if you meticulously included every word you could, new words are coined all the time, so it would become outdated very quickly. As a result, we should have a default tag, and every time our tagger encounters a word that's not in its dictionary, we will assign it the default tag."
   ]
  },
  {
   "cell_type": "code",
   "execution_count": null,
   "metadata": {
    "colab": {},
    "colab_type": "code",
    "id": "eb-4Z_nB_Fc5"
   },
   "outputs": [],
   "source": [
    "class BrillTagger:\n",
    "  def __init__(self, default_tag, dictionary):\n",
    "    \"\"\"\n",
    "    Creates a new Brill Tagger.\n",
    "\n",
    "    Arguments:\n",
    "      default_tag (str): The tag that should be assigned if a word\n",
    "    is not in the dictionary.\n",
    "      dictionary (dict): A dictionary mapping words to their most common POS.\n",
    "    \"\"\"\n",
    "    self.default_tag = default_tag\n",
    "    self.dictionary = dictionary\n",
    "  def tag(self, words):\n",
    "    \"\"\"\n",
    "    Tags a list of words.\n",
    "\n",
    "    Arguments:\n",
    "      words (list): A list of words to tag.\n",
    "\n",
    "    Return (list):\n",
    "      A list of tagged words as dictionaries.\n",
    "    \"\"\"\n",
    "    tagged = []\n",
    "    for word in words:\n",
    "      if word.lower() in self.dictionary:\n",
    "        tagged.append({\"word\": word, \"tag\": self.dictionary[word]})\n",
    "      else:\n",
    "        tagged.append({\"word\": word, \"tag\": self.default_tag})\n",
    "    return tagged"
   ]
  },
  {
   "cell_type": "markdown",
   "metadata": {
    "colab_type": "text",
    "id": "bce56_u1YePo"
   },
   "source": [
    "Let's try this simple half-parser with the example dictionary above and see how it performs on some text."
   ]
  },
  {
   "cell_type": "code",
   "execution_count": null,
   "metadata": {
    "colab": {
     "base_uri": "https://localhost:8080/",
     "height": 74
    },
    "colab_type": "code",
    "executionInfo": {
     "elapsed": 444,
     "status": "ok",
     "timestamp": 1574751495201,
     "user": {
      "displayName": "Cody St. Clair",
      "photoUrl": "",
      "userId": "05813383872028317122"
     },
     "user_tz": 300
    },
    "id": "0glR8DahYla2",
    "outputId": "8e836785-e6a6-4d6b-c281-ca9ce417bd18"
   },
   "outputs": [],
   "source": [
    "tagger = BrillTagger(\"NOUN\", example_dictionary)\n",
    "\n",
    "sample_one = \"John said he would give Mary a book in the garden\"\n",
    "sample_two = \"\"\"Beware the Jabberwock my son the jaws that bite\n",
    "  the claws that catch beware the Jubjub bird and shun\n",
    "  the furimous Bandersnatch\"\"\"\n",
    "\n",
    "print(tagger.tag(sample_one.split()))\n",
    "print(tagger.tag(sample_two.split()))"
   ]
  },
  {
   "cell_type": "markdown",
   "metadata": {
    "colab_type": "text",
    "id": "zuAmHWdMcJ_7"
   },
   "source": [
    "In these cases, our tagger does fairly well on the first sample, only failing for \"said,\" which might should be added to the dictionary to correct. For the second sample, it does much worse, part of which is because it's missing some very common words in its dictionary, like \"that,\" but several words in the second sample don't occur anywhere in English outside of Lewis Carroll's \"Jabberwocky,\" so it's unlikely any dictionary would contain them, yet a native speaker can easily figure out their parts of speech (even if they don't understand the words themselves)."
   ]
  },
  {
   "cell_type": "markdown",
   "metadata": {
    "colab_type": "text",
    "id": "Wl8BQNrlyTEt"
   },
   "source": [
    "Before moving on, it's worth noting that Brill's original tagger also had two rules built into this step:\n",
    "\n",
    "1. If a word is unknown and starts with a capital letter, it's probably a proper noun (`NOUN`).\n",
    "2. The tagger has another dictionary for the most common tags for the last 3 letters of a word. Whenever an unknown word is encountered, it checks whether the last 3 letters of that word are in this dictionary and assigns that tag to the word if possible. (This accounts for suffixes like -ing, -ous, etc.)\n",
    "\n",
    "For our parser, we will group these rules with the contextual rules in the next phase. This has the benefit of keeping this part simple, and it will demonstrate a use-case for class inheritance in the next section."
   ]
  },
  {
   "cell_type": "markdown",
   "metadata": {
    "colab_type": "text",
    "id": "xAu63V1Ok1Yt"
   },
   "source": [
    "## Rule Application\n",
    "\n",
    "Brill's tagger learned a set of rules to improve its performance by running the first step over another pre-tagged text and comparing its own output with the given tags. From this, it made a list to count how many times it tagged something that was actually *x* as *y*. Then it would automatically generate potential rules following a template and choose whichever rule that improved performance most to add to its list of rules. Rules would be things along the lines of: if the previous word is tagged `DET` and the following word is tagged `N`, then change the current word to `ADJ`.\n",
    "\n",
    "Again, this process has the benefit of being easy for a human to interpret and follow. As a result, we could potentially write rules by hand if we didn't have a pre-tagged corpus handy and we were familiar with the target language's grammar.\n",
    "\n",
    "For our tagger, we want to have to main types (classes) of rules:\n",
    "\n",
    "1. Rules that look at the context of a word (what tags come before/after it).\n",
    "2. Rules that look at the spelling of a word (to capture generalizations in the morphology and the capitalization rule mentioned above)\n",
    "\n",
    "Before we implement either of these classes, let's consider an even more basic kind of tag transformation rule, one which simply changes all tags of POS *a* to *b*. We can capture this with the following class:"
   ]
  },
  {
   "cell_type": "code",
   "execution_count": null,
   "metadata": {
    "colab": {},
    "colab_type": "code",
    "id": "644TtriqHECd"
   },
   "outputs": [],
   "source": [
    "class TagRule:\n",
    "  def __init__(self, target_tag, output_tag):\n",
    "    \"\"\"\n",
    "    Creates a new Tag Rule.\n",
    "\n",
    "    Arguments:\n",
    "      target_tag (str): The POS tag that the rule should apply to, or None\n",
    "      if the rule should apply to any tag.\n",
    "      output_tag (str): The POS tag that the word should be changed to if\n",
    "      the rule applies.\n",
    "    \"\"\"\n",
    "    self.target_tag = target_tag\n",
    "    self.output_tag = output_tag\n",
    "  def can_apply(self, text, index):\n",
    "    \"\"\"\n",
    "    Checks if the rule can apply to text[index].\n",
    "    \n",
    "    Arguments:\n",
    "      text (list): A list of tagged words as dictionaries.\n",
    "      index (int): The index of the word currently being considered in the list.\n",
    "    \n",
    "    Return (bool):\n",
    "      True if the rule can apply, False otherwise.\n",
    "    \"\"\"\n",
    "    return text[index][\"tag\"] == self.target_tag if self.target_tag != None else True"
   ]
  },
  {
   "cell_type": "markdown",
   "metadata": {
    "colab_type": "text",
    "id": "Of04oBVrrrgU"
   },
   "source": [
    "### The Ternary Operator\n",
    "\n",
    "The last line of that cell might be a bit confusing. It's called the ternary operator, but essentially, it's just a way to have a quick if/else statement on a single line. It has the format:\n",
    "```\n",
    "[value] if [condition] else [other_value]\n",
    "```\n",
    "\n",
    "If `[condition]` is True, the expression reduces to `[value]`, otherwise, it reduces to `[other_value]`. So, in the last line above, our condition is `self.target_tag != None`. If this is True (i.e. we care about the tag of the current word), the expression reduces to `text[index][\"tag\"] == self.target_tag`; if it's False, it just reduces to `True`.\n",
    "\n",
    "We put this in the return statement, so that if `target_tag` is None, we return True, but otherwise, we return the truth value of `text[index][\"tag\"] == self.target_tag`."
   ]
  },
  {
   "cell_type": "markdown",
   "metadata": {
    "colab_type": "text",
    "id": "2Jti1QadHPO6"
   },
   "source": [
    "You're probably wondering why we pass a list and an index to the `can_apply` function instead of just passing an individual word/tag dictionary. This will become clearer when we implement contextual rules, and keeping the function consistent across all the rules will be very helpful in the tagger later.\n",
    "\n",
    "This class of rules is not very useful in itself, but we will extend it to form the other rules of our Tagger. Next, we will implement the class of spelling rules (rules that apply to capitalized words, or words with certain endings, etc.). We will use regular expressions to keep things simple for ourselves (though they are a bit overpowered for this)."
   ]
  },
  {
   "cell_type": "code",
   "execution_count": null,
   "metadata": {
    "colab": {},
    "colab_type": "code",
    "id": "rZJf27updBZR"
   },
   "outputs": [],
   "source": [
    "import re\n",
    "\n",
    "class MorphoRule(TagRule):\n",
    "  def __init__(self, target_tag, output_tag, exp):\n",
    "    \"\"\"\n",
    "    Creates a new Morphological Rule.\n",
    "\n",
    "    Arguments:\n",
    "      target_tag (str): The POS tag that the rule should apply to, or None\n",
    "      if the rule should apply to any tag.\n",
    "      output_tag (str): The POS tag that the word should be changed to if\n",
    "      the rule applies.\n",
    "      exp (str): A regular expression to test against a word.\n",
    "    \"\"\"\n",
    "    super().__init__(target_tag, output_tag)\n",
    "    self.exp = exp\n",
    "  def can_apply(self, text, index):\n",
    "    \"\"\"\n",
    "    Checks whether the rule can apply to text[index].\n",
    "\n",
    "    Arguments:\n",
    "      text (list): A list of tagged words as dictionaries.\n",
    "      index (int): The index of the word currently being considered in the list.\n",
    "    \n",
    "    Return (bool):\n",
    "      True if text[index] has the target_tag and if exp is in the word,\n",
    "      False otherwise.\n",
    "    \"\"\"\n",
    "    if super().can_apply(text, index):\n",
    "      if re.search(self.exp, text[index][\"word\"]):\n",
    "        return True\n",
    "    return False"
   ]
  },
  {
   "cell_type": "markdown",
   "metadata": {
    "colab_type": "text",
    "id": "fwGbWc06KDIx"
   },
   "source": [
    "Finally, we turn to contextual rules. To keep things expandable, we won't limit the number of words we can look at before/after the current word. Rather, we will have two lists (or tuples) of POS tags before/after the current word. If any position in these lists is `None`, we will treat it as matching any tag, and if the list of previous/next tags would go outside the bounds of our text, we will treat it as an automatic failure."
   ]
  },
  {
   "cell_type": "code",
   "execution_count": null,
   "metadata": {
    "colab": {},
    "colab_type": "code",
    "id": "XiaBTMPwYtBC"
   },
   "outputs": [],
   "source": [
    "class ContextRule(TagRule):\n",
    "  def __init__(self, target_tag, output_tag, prev_tags, next_tags):\n",
    "    \"\"\"\n",
    "    Creates a new Contextual Rule.\n",
    "\n",
    "    Arguments:\n",
    "      target_tag (str): The POS tag that the rule should apply to, or None\n",
    "      if the rule should apply to any tag.\n",
    "      output_tag (str): The POS tag that the word should be changed to if\n",
    "      the rule applies.\n",
    "      prev_tags (list): A list of tags to look for before the current word, with\n",
    "      the first element being the word immediately before the current one and so\n",
    "      on. Any element which is None matches any tag.\n",
    "      next_tags (list): A list of tags to look for after the current word,\n",
    "      starting with the word immediately after. Any element which is None\n",
    "      matches any tag.\n",
    "    \"\"\"\n",
    "    super().__init__(target_tag, output_tag)\n",
    "    self.prev_tags = prev_tags\n",
    "    self.next_tags = next_tags\n",
    "  def can_apply(self, text, index):\n",
    "    \"\"\"\n",
    "    Checks whether the rule can apply to text[index].\n",
    "\n",
    "    Arguments:\n",
    "      text (list): A list of tagged words as dictionaries.\n",
    "      index (int): The index of the word currently being considered in the list.\n",
    "    \n",
    "    Return (bool):\n",
    "      True if text[index] has the target_tag and the previous/following words\n",
    "      have the tags in prev_tags and next_tags, respectively. False otherwise,\n",
    "      including if the length of prev_tags/next_tags would go beyond\n",
    "      the length of text.\n",
    "    \"\"\"\n",
    "    if not super().can_apply(text, index):\n",
    "      return False\n",
    "    if (len(self.prev_tags) - index) < 0:\n",
    "      return False\n",
    "    if (len(self.next_tags) + index) >= len(text):\n",
    "      return False\n",
    "    for i in range(len(self.prev_tags)):\n",
    "      if self.prev_tags[i] != None and self.prev_tags[i] != text[index-i][\"tag\"]:\n",
    "        return False\n",
    "    for i in range(len(self.next_tags)):\n",
    "      if self.next_tags[i] != None and self.next_tags[i] != text[index+i][\"tag\"]:\n",
    "        return False\n",
    "    return True"
   ]
  },
  {
   "cell_type": "markdown",
   "metadata": {
    "colab_type": "text",
    "id": "DtvpiELFYAPf"
   },
   "source": [
    "Now we can create a few simple rules to improve our parser."
   ]
  },
  {
   "cell_type": "code",
   "execution_count": null,
   "metadata": {
    "colab": {},
    "colab_type": "code",
    "id": "CgSViPaRYLGL"
   },
   "outputs": [],
   "source": [
    "rules = []"
   ]
  },
  {
   "cell_type": "markdown",
   "metadata": {
    "colab_type": "text",
    "id": "R5b0_l6NFZZQ"
   },
   "source": [
    "Once we have some rules, the tagger applies the dictionary-based tags above, and then iterates through its list of rules applying any that fit. (This process can then be repeated until either there are no more changes, or we hit some fixed maximum number of cycles, but for simplicity, our's will only apply the rules once.)"
   ]
  },
  {
   "cell_type": "code",
   "execution_count": null,
   "metadata": {
    "colab": {},
    "colab_type": "code",
    "id": "HBPozzejouGB"
   },
   "outputs": [],
   "source": [
    "class BrillTagger:\n",
    "  def __init__(self, default_tag, dictionary, rules):\n",
    "    \"\"\"\n",
    "    Creates a new Brill Tagger.\n",
    "\n",
    "    Arguments:\n",
    "      default_tag (str): The tag that should be assigned if a word\n",
    "    is not in the dictionary.\n",
    "      dictionary (dict): A dictionary mapping words to their most common POS.\n",
    "      rules (list): A list of rules to apply to the dictionary-tagged text.\n",
    "    \"\"\"\n",
    "    self.default_tag = default_tag\n",
    "    self.dictionary = dictionary\n",
    "    self.rules = rules\n",
    "  def tag(self, words):\n",
    "    \"\"\"\n",
    "    Tags a list of words.\n",
    "\n",
    "    Arguments:\n",
    "      words (list): A list of words to tag.\n",
    "\n",
    "    Return (list):\n",
    "      A list of tagged words as dictionaries.\n",
    "    \"\"\"\n",
    "    tagged = []\n",
    "    for word in words:\n",
    "      if word in self.dictionary:\n",
    "        tagged.append({\"word\": word, \"tag\": self.dictionary[word]})\n",
    "      else:\n",
    "        tagged.append({\"word\": word, \"tag\": self.default_tag})\n",
    "    for i in range(len(tagged)):\n",
    "      for rule in self.rules:\n",
    "        if rule.can_apply(tagged, i):\n",
    "          tagged[i][\"tag\"] = rule.output_tag\n",
    "    return tagged"
   ]
  },
  {
   "cell_type": "markdown",
   "metadata": {
    "colab_type": "text",
    "id": "m7qJHNNofZn8"
   },
   "source": [
    "Now, let's test the improved tagger on one of the samples from before and see how things improve."
   ]
  },
  {
   "cell_type": "code",
   "execution_count": null,
   "metadata": {
    "colab": {},
    "colab_type": "code",
    "id": "fgjaHjCVfaKK"
   },
   "outputs": [],
   "source": [
    "tagger = BrillTagger(\"NOUN\", example_dictionary, rules)\n",
    "\n",
    "print(tagger.tag(sample_two.split()))"
   ]
  }
 ],
 "metadata": {
  "colab": {
   "collapsed_sections": [],
   "name": "Brill_Tagger.ipynb",
   "provenance": []
  },
  "kernelspec": {
   "display_name": "Python 3",
   "language": "python",
   "name": "python3"
  },
  "language_info": {
   "codemirror_mode": {
    "name": "ipython",
    "version": 3
   },
   "file_extension": ".py",
   "mimetype": "text/x-python",
   "name": "python",
   "nbconvert_exporter": "python",
   "pygments_lexer": "ipython3",
   "version": "3.6.8"
  }
 },
 "nbformat": 4,
 "nbformat_minor": 1
}
